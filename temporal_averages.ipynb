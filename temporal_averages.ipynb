{
 "cells": [
  {
   "cell_type": "code",
   "execution_count": null,
   "metadata": {
    "collapsed": true
   },
   "outputs": [],
   "source": [
    "def to_daytime_nighttime(ts):\n",
    "    '''\n",
    "    The start hour of daytime and nighttime are defined.\n",
    "    If the hour of the timestamp is between the start hour of\n",
    "    daytime and nighttime, its hourstamp is set to the start hour\n",
    "    of daytime.  If it is smaller, its daystamp is rolled backward\n",
    "    by one day and its hourstamp is set to the start hour of nighttime.\n",
    "    If it is larger, its hourstamp i set to the start hour of nighttime.\n",
    "    '''\n",
    "    hour_daystart, hour_nightstart = 8, 18\n",
    "    if ts.hour < hour_daystart:\n",
    "        return (ts - pd.DateOffset(days = 1))\\\n",
    "    .replace(hour = hour_nightstart,\n",
    "            minute = 0, second = 0)\n",
    "    \n",
    "    elif hour_daystart <= ts.hour < hour_nightstart:\n",
    "        return ts.replace(hour = hour_daystart, \n",
    "                          minute = 0, second = 0)\n",
    "    \n",
    "    else:\n",
    "        return ts.replace(hour = hour_nightstart, \n",
    "                          minute = 0, second = 0)\n",
    "\n",
    "flns.groupby(flns.index.map(to_daytime_nighttime)).mean().plot()\n",
    "\n",
    "flnsDN = pd.TimeSeries(flns.values, \n",
    "                      index = flns.index.map(to_daytime_nighttime))\n",
    "flnsDN.index.name = 'time'"
   ]
  }
 ],
 "metadata": {
  "kernelspec": {
   "display_name": "Python 3",
   "language": "python",
   "name": "python3"
  },
  "language_info": {
   "codemirror_mode": {
    "name": "ipython",
    "version": 3
   },
   "file_extension": ".py",
   "mimetype": "text/x-python",
   "name": "python",
   "nbconvert_exporter": "python",
   "pygments_lexer": "ipython3",
   "version": "3.4.3"
  }
 },
 "nbformat": 4,
 "nbformat_minor": 0
}
