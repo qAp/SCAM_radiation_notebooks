{
 "cells": [
  {
   "cell_type": "code",
   "execution_count": 100,
   "metadata": {
    "collapsed": false
   },
   "outputs": [],
   "source": [
    "import os\n",
    "import sys\n",
    "import glob\n",
    "import datetime\n",
    "%matplotlib inline\n",
    "import matplotlib\n",
    "import matplotlib.pyplot as plt\n",
    "import pandas as pd\n",
    "import numpy as np\n",
    "import xray\n",
    "import random\n",
    "import itertools\n",
    "import urllib\n",
    "import json\n",
    "import importlib as imp\n",
    "\n",
    "from IPython import display\n",
    "\n",
    "sys.path.append('/nuwa_cluster/home/jackyu/climatools/')\n",
    "import climatools.dates as climadates\n",
    "import climatools.viz as climaviz\n",
    "import climatools.misc as climamisc\n",
    "import climatools.muths as climaths\n",
    "import climatools.units as climaunits\n",
    "import climatools.geocoords as climageocoords\n",
    "import climatools.prepdatasets as climaprepdata\n",
    "\n",
    "#from IPython.lib.deepreload import reload as dreload\n",
    "imp.reload(climadates)\n",
    "imp.reload(climaviz)\n",
    "imp.reload(climamisc)\n",
    "imp.reload(climaths)\n",
    "imp.reload(climaunits)\n",
    "imp.reload(climaprepdata)\n",
    "\n",
    "matplotlib.rcParams.update({'font.size': 13, \n",
    "                            'xtick.direction': 'out',\n",
    "                            'ytick.direction': 'out'})"
   ]
  },
  {
   "cell_type": "markdown",
   "metadata": {},
   "source": [
    "# ARM95\n",
    "\n",
    "2 cases considered here are:\n",
    "\n",
    "* all RRTMG --- RRTMG used for both longwave and shortwave, output sent to CAM\n",
    "* rad CLIRAD --- CLIRAD used for both longwave and shortwave, output not sent to CAM\n",
    "\n",
    "RRTMG and CLIRAD are used in each time step to compute radiation.  Both take in the same input from CAM.  Only RRTMG's output at each time step is sent back to CAM.\n"
   ]
  },
  {
   "cell_type": "code",
   "execution_count": 90,
   "metadata": {
    "collapsed": true
   },
   "outputs": [],
   "source": [
    "\n",
    "iopname = 'arm95_LWrrtmgclirad_SWrrtmgclirad'\n",
    "\n",
    "def case_names():\n",
    "    'Give the different cases names'\n",
    "    return ['all RRTMG', 'rad CLIRAD']\n",
    "\n",
    "\n",
    "\n",
    "def get_cases_difference():\n",
    "    '''\n",
    "    define the differences between cases to compute\n",
    "    '''\n",
    "    return [('rad CLIRAD', 'all RRTMG'),]\n",
    "\n",
    "\n",
    "\n",
    "def get_cases():\n",
    "    '''\n",
    "    Returns a dictionary where the keys are cases, such\n",
    "    as a name for a SCAM run, and the values are the datasets (xray)\n",
    "    for the cases\n",
    "    '''\n",
    "    ds = xray.open_dataset('../examples/ARM95/cam5_noavg_LW_rrtmgclirad_SW_rrtmgclirad/camrun.cam.h0.0095-07-18-19800.nc',\n",
    "                          decode_times = False)\n",
    "    clirad_names = [k for k in list(ds) if '_clirad' in k]\n",
    "    rrtmg_names = [name.split('_')[0] for name in clirad_names]\n",
    "    common_names = [k for k in list(ds) \n",
    "                    if k not in (clirad_names + rrtmg_names)]\n",
    "    \n",
    "    ds_clirad = xray.Dataset()\n",
    "    ds_clirad.update(ds[common_names].copy(deep = True), inplace = True)\n",
    "    ds_clirad.update(ds[clirad_names].copy(deep = True), inplace = True)\n",
    "    ds_clirad.rename(dict(zip(clirad_names, rrtmg_names)), inplace = True)\n",
    "    \n",
    "    ds_rrtmg = xray.Dataset()\n",
    "    ds_rrtmg.update(ds[common_names].copy(deep = True), inplace = True)\n",
    "    ds_rrtmg.update(ds[rrtmg_names].copy(deep = True), inplace = True)     \n",
    "    \n",
    "       \n",
    "    return dict(zip(case_names(), [ds_rrtmg, ds_clirad]))\n",
    "\n",
    "\n",
    "\n",
    "\n",
    "def compute_net_solar_fluxes(datasets):\n",
    "    '''\n",
    "    Compute net solar fluxes\n",
    "    '''\n",
    "    for casename, ds in datasets.items():\n",
    "        ds['net_FS'] = ds['FDS'] - ds['FUS']\n",
    "        ds['net_FS'].attrs['units'] = ds['FDS'].attrs['units']\n",
    "        ds['net_FS'].attrs['long_name'] = 'net solar flux'\n",
    "        ds['net_FS'].attrs['case_name'] = casename\n",
    "        \n",
    "        ds['net_FSC'] = ds['FDSC'] - ds['FUSC']\n",
    "        ds['net_FSC'].attrs['units'] = ds['FDSC'].attrs['units']\n",
    "        ds['net_FSC'].attrs['long_name'] = 'net solar flux (clear-sky)'\n",
    "        ds['net_FSC'].attrs['case_name'] = casename\n",
    "    return datasets\n",
    "\n",
    "\n",
    "\n",
    "\n",
    "def linestyles_by_case():\n",
    "    '''\n",
    "    Assign lineplot properties to the cases\n",
    "    '''\n",
    "    return dict(zip(case_names(), \n",
    "                    [{'colour': 'g', 'linestyle': '--'},\n",
    "                     {'colour': 'b', 'linestyle': '--'}]))\n",
    "\n",
    "\n",
    "\n",
    "def get_d3interests():\n",
    "    '''\n",
    "    List here all variables of interest that have dimensions (time, lev, lon, lat)\n",
    "    '''\n",
    "    d3interests = ['CLOUD', 'QRL', 'QRS', 'Q',\n",
    "                   'CLDICE', 'CLDLIQ', \n",
    "                   'AQSNOW', 'AREI', 'AREL',\n",
    "                   'AWNC', 'AWNI', \n",
    "                   'DCQ', 'DTCOND', \n",
    "                   'ICIMR', 'ICWMR', \n",
    "                   'NUMLIQ', 'NUMICE', 'T', 'RELHUM',\n",
    "                   'FUL', 'FDL', 'FULC', 'FDLC', 'net_FS', 'net_FSC',\n",
    "                   'FUS', 'FDS', 'FUSC', 'FDSC',\n",
    "                   'TOT_CLD_VISTAU']\n",
    "    return sorted(d3interests)\n",
    "\n",
    "\n",
    "\n",
    "\n",
    "def get_d2interests():\n",
    "    '''\n",
    "    List here all variables of interest that have dimensions (time, lon, lat)\n",
    "    '''\n",
    "    interests = ['FSNT', 'FSNS', 'FLNT', 'FLNS',\n",
    "                 'CLDLOW', 'CLDMED', 'CLDHGH', 'CLDTOT',\n",
    "                 'TS', 'TREFHT', 'TROP_T', 'TROP_Z', 'TMQ', 'TGCLDIWP', 'TGCLDLWP', \n",
    "                 'PRECT', 'PRECL', 'PRECC',\n",
    "                 'LHFLX', 'SHFLX',\n",
    "                'SOLIN']\n",
    "    return interests\n",
    "\n",
    "\n",
    "\n",
    "\n",
    "\n",
    "\n",
    "def convert_units(datasets):\n",
    "    '''\n",
    "    Convert units for certain fields for all cases in DATASETS.\n",
    "    INPUT:\n",
    "    ilev --- level(interface) pressure in mbar\n",
    "    lev  --- layer(level) pressure in mbar\n",
    "    datetimes --- time in pandas DatetimeIndex objects\n",
    "    '''\n",
    "    for name, ds in datasets.items():\n",
    "        \n",
    "        for k in ['TOT_CLD_VISTAU',]:\n",
    "            if k in ds:\n",
    "                pass #ds[k].values[ds[k].isnull().values] = - 0.\n",
    "        \n",
    "        for k in ['FUS', 'FDS', 'net_FS', 'net_FSC']:\n",
    "            if k in ds:\n",
    "                ds[k] *= 1e3\n",
    "    \n",
    "        for k in ['QRL', 'QRS', 'DTCOND']:\n",
    "            if k in ds:\n",
    "                ds[k] *= 86400\n",
    "                ds[k].attrs['units'] = 'K/day'\n",
    "        \n",
    "        for k in ['Q', ]:\n",
    "            if k in ds:\n",
    "                ds[k] *= 1e3\n",
    "                ds[k].attrs['units'] = 'g/kg'\n",
    "        \n",
    "        for k in ['CLDICE', 'CLDLIQ', 'AQSNOW']:\n",
    "            if k in ds:\n",
    "                ds[k] *= 1e6\n",
    "                ds[k].attrs['units'] = 'mg/kg'\n",
    "                \n",
    "        for k in ['PRECC', 'PRECL', 'PRECT']:\n",
    "            if k in ds:\n",
    "                ds[k] *= 1e3 * 86400\n",
    "                ds[k].attrs['units'] = 'mm/day'\n",
    "                \n",
    "    return datasets"
   ]
  },
  {
   "cell_type": "code",
   "execution_count": 109,
   "metadata": {
    "collapsed": false
   },
   "outputs": [],
   "source": [
    "def prep_data(cases):\n",
    "    '''\n",
    "    Preprocess data for plotting. \n",
    "    pressure and datetimes need to be provided for unit conversion.\n",
    "    INPUT:\n",
    "    ilev --- level(interface) pressure [mbar]\n",
    "    lev --- layer(level) pressure [mbar]\n",
    "    datetimes --- time in pandas DatetimeIndex objects    \n",
    "    '''\n",
    "    interests = get_d3interests() + get_d2interests()\n",
    "    cases = climaprepdata.convert_pressure_time_units(cases)\n",
    "    cases = climaprepdata.gather_interests_from_cases(cases, interests)\n",
    "    cases = convert_units(cases)\n",
    "    diff_cases = climaprepdata.take_difference_between_cases(cases, get_cases_difference())\n",
    "    cases, diff_cases = climaprepdata.passon_attrs_casename(cases, diff_cases, interests = interests)\n",
    "    return cases, diff_cases\n"
   ]
  },
  {
   "cell_type": "code",
   "execution_count": 102,
   "metadata": {
    "collapsed": true
   },
   "outputs": [],
   "source": [
    "################## Variables of dimensions (time, lev, lon, lat) ########################\n",
    "################################################################################"
   ]
  },
  {
   "cell_type": "code",
   "execution_count": 103,
   "metadata": {
    "collapsed": false
   },
   "outputs": [],
   "source": [
    "def interests_using_bwr_cmap():\n",
    "    return ['QRL', 'QRS', 'DTCOND', 'DCQ']\n",
    "\n",
    "\n",
    "# for writing plotted figures to disk\n",
    "def writefig_contourfs(d3sets, diff_d3sets, \n",
    "                       interests, \n",
    "                       dir_label = 'example_dir_label',\n",
    "                       file_label = 'example_file_label',\n",
    "                       fmt = 'png'):\n",
    "    '''\n",
    "    For each interest, produce one figure containing contour\n",
    "    plots for all cases, another figure containing contour \n",
    "    Hackish colormap selection here, basically look up a dictionary.\n",
    "    '''\n",
    "\n",
    "    for interest in interests:\n",
    "        \n",
    "        dirname = 'figs_{}'.format(dir_label)\n",
    "        if dirname not in glob.glob(dirname):\n",
    "            os.mkdir(dirname)\n",
    "\n",
    "        if interest in interests_using_bwr_cmap():\n",
    "            cmap_name = 'bwr'\n",
    "        else:\n",
    "            cmap_name = 'PuBuGn'\n",
    "            \n",
    "        fig = climaviz.contourf_interest_for_all_cases(d3sets, interest,\n",
    "                                           cmap = plt.get_cmap(cmap_name))\n",
    "        fig.savefig(dirname + '/contourf_{}.{}'.format('_'.join([interest, file_label]), fmt))\n",
    "        plt.close()\n",
    "        \n",
    "        fig = climaviz.contourf_interest_for_all_cases(diff_d3sets, interest,\n",
    "                                           cmap = plt.get_cmap('bwr'))\n",
    "        fig.savefig(dirname + '/contourf_{}_diff.{}'.format('_'.join([interest, file_label]), fmt))\n",
    "        plt.close()\n",
    "        \n",
    "\n",
    "        \n",
    "def writefig_timeaveraged_VSplots(d3sets, diff_d3sets,\n",
    "                                 interests, \n",
    "                                 dir_label = 'example_dir_label', file_label = 'example_file_label',\n",
    "                                 fmt = 'png'):\n",
    "    for interest in interests:        \n",
    "        dirname = 'figs_{}'.format(dir_label)\n",
    "        if dirname not in glob.glob(dirname):\n",
    "            os.mkdir(dirname)\n",
    "            \n",
    "        fig = climaviz.plotVS_timeaveraged_interest_for_all_cases(d3sets, diff_d3sets, \n",
    "                               interest = interest, xscale = 'linear',\n",
    "                               bot_xlabels_rotate = 10., \n",
    "                               top_xlabels_rotate = 20.,\n",
    "                               linestyles = linestyles_by_case())\n",
    "        fig.savefig(dirname + '/plot_{}_timeaverage.{}'.format('_'.join([interest, file_label]), fmt))\n",
    "        plt.close()"
   ]
  },
  {
   "cell_type": "code",
   "execution_count": 104,
   "metadata": {
    "collapsed": false
   },
   "outputs": [],
   "source": [
    "def write_d3variable_html_page(interest = 'CLOUD', \n",
    "                               dir_label = 'example_dir_label', \n",
    "                               file_label = 'example_file_label'):\n",
    "    figdir = 'figs_' + dir_label\n",
    "    with open(os.path.join(figdir, '_'.join([interest, file_label]) + '.html'), \n",
    "              mode = 'w', encoding = 'utf-8') as f:\n",
    "        f.write('''\n",
    "                <img src=\"contourf_{suffix}.png\" height=\"450\">\n",
    "                <img src=\"contourf_{suffix}_diff.png\" height=\"450\">\n",
    "                <br>\n",
    "                <img src=\"plot_{suffix}_timeaverage.png\" height=\"500\">\n",
    "        '''.format(figdir = figdir, suffix = '_'.join([interest, file_label])))\n",
    "\n",
    "        \n",
    "def write_d3variable_links_html(d3sets, interests = ['T'],\n",
    "                               dir_label = 'example_dir_label', \n",
    "                               file_label = 'example_file_label'):\n",
    "    hyperlinks = ['<a href=\"figs_{dir_label}/{interest}_{file_label}.html\">{interest}: {longname}</a>'\\\n",
    "                 .format(dir_label = dir_label, file_label = file_label,\n",
    "                 interest = interest, \n",
    "                 longname = d3sets[random.choice(list(d3sets.keys()))][interest].attrs['long_name']) \\\n",
    "                 for interest in interests]\n",
    "    return '<br>'.join(hyperlinks)\n",
    "    "
   ]
  },
  {
   "cell_type": "code",
   "execution_count": 105,
   "metadata": {
    "collapsed": true
   },
   "outputs": [],
   "source": [
    "############### Variables of dimensions (lon, lat, time) ##########################\n",
    "###################################################################################"
   ]
  },
  {
   "cell_type": "code",
   "execution_count": 106,
   "metadata": {
    "collapsed": false
   },
   "outputs": [],
   "source": [
    "# for writing figures to disk\n",
    "def writefig_plotVS_timeseries(dsets, diff_dsets, interests,\n",
    "                              sitename, fmt = 'png'):\n",
    "    for interest in interests:\n",
    "        fig = climaviz.plotVS_interest_for_all_cases(dsets, diff_dsets, interest = interest,\n",
    "                                                    linestyles = linestyles_by_case())\n",
    "        \n",
    "        dirname = 'figs_{}'.format(sitename)\n",
    "        if dirname not in glob.glob(dirname):\n",
    "            os.mkdir(dirname)\n",
    "            \n",
    "        fig.savefig(dirname + '/plotVSts_{}.'.format(interest) + fmt)\n",
    "        plt.close()\n",
    "\n",
    "def write_d2variable_html_page(iopname = 'mpace', interest = 'FLNS'):\n",
    "    figdir = 'figs_{iopname}'.format(iopname = iopname)\n",
    "    with open(os.path.join(figdir, '{iopname}_{interest}.html'\\\n",
    "                           .format(iopname = iopname,\n",
    "                                   interest = interest)),\n",
    "             mode = 'w', encoding = 'utf-8') as f:\n",
    "        f.write('''\n",
    "        <img src=\"plotVSts_{interest}.png\" width=700>\n",
    "        '''.format(interest = interest))\n",
    "        \n",
    "def write_d2variables_html(d2sets, iopname = 'mpace', interests = ['FLNS']):\n",
    "    hyperlinks = ['<a href=\"figs_{iopname}/{iopname}_{interest}.html\">{interest}: {longname}</a>'\\\n",
    "                 .format(iopname = iopname, interest = interest,\n",
    "                        longname = d2sets[random.choice(list(d2sets.keys()))]\\\n",
    "                         [interest].attrs['long_name'])\\\n",
    "                 for interest in interests]\n",
    "    return '<br>'.join(hyperlinks)\n"
   ]
  },
  {
   "cell_type": "code",
   "execution_count": 110,
   "metadata": {
    "collapsed": false,
    "scrolled": false
   },
   "outputs": [],
   "source": [
    "cases = get_cases()\n",
    "cases = compute_net_solar_fluxes(cases)\n",
    "dsets, diff_dsets = prep_data(cases) "
   ]
  },
  {
   "cell_type": "markdown",
   "metadata": {},
   "source": [
    "# Variables of dimensions (time, ilev, lon, lat)"
   ]
  },
  {
   "cell_type": "code",
   "execution_count": 45,
   "metadata": {
    "collapsed": false,
    "scrolled": false
   },
   "outputs": [],
   "source": [
    "# plot (time, lev/ilev, lon, lat) variables, write figures to disk and create HTML files\n",
    "\n",
    "writefig_contourfs(dsets, diff_dsets, get_d3interests(), \n",
    "                   dir_label = iopname, file_label = 'pinkslime',\n",
    "                  fmt = 'png')\n",
    "\n",
    "writefig_timeaveraged_VSplots(dsets, diff_dsets, get_d3interests(), \n",
    "                              dir_label = iopname, file_label = 'pinkslime',\n",
    "                              fmt = 'png')\n",
    "# generate HTML page for each interest\n",
    "for interest in get_d3interests():\n",
    "    write_d3variable_html_page(interest = interest, dir_label = iopname, file_label = 'pinkslime')\n"
   ]
  },
  {
   "cell_type": "code",
   "execution_count": 47,
   "metadata": {
    "collapsed": false,
    "scrolled": false
   },
   "outputs": [
    {
     "data": {
      "text/html": [
       "<a href=\"figs_arm95_LWrrtmgclirad_SWrrtmgclirad/AQSNOW_pinkslime.html\">AQSNOW: Average snow mixing ratio</a><br><a href=\"figs_arm95_LWrrtmgclirad_SWrrtmgclirad/AREI_pinkslime.html\">AREI: Average ice effective radius</a><br><a href=\"figs_arm95_LWrrtmgclirad_SWrrtmgclirad/AREL_pinkslime.html\">AREL: Average droplet effective radius</a><br><a href=\"figs_arm95_LWrrtmgclirad_SWrrtmgclirad/AWNC_pinkslime.html\">AWNC: Average cloud water number conc</a><br><a href=\"figs_arm95_LWrrtmgclirad_SWrrtmgclirad/AWNI_pinkslime.html\">AWNI: Average cloud ice number conc</a><br><a href=\"figs_arm95_LWrrtmgclirad_SWrrtmgclirad/CLDICE_pinkslime.html\">CLDICE: Grid box averaged cloud ice amount</a><br><a href=\"figs_arm95_LWrrtmgclirad_SWrrtmgclirad/CLDLIQ_pinkslime.html\">CLDLIQ: Grid box averaged cloud liquid amount</a><br><a href=\"figs_arm95_LWrrtmgclirad_SWrrtmgclirad/CLOUD_pinkslime.html\">CLOUD: Cloud fraction</a><br><a href=\"figs_arm95_LWrrtmgclirad_SWrrtmgclirad/DCQ_pinkslime.html\">DCQ: Q tendency due to moist processes</a><br><a href=\"figs_arm95_LWrrtmgclirad_SWrrtmgclirad/DTCOND_pinkslime.html\">DTCOND: T tendency - moist processes</a><br><a href=\"figs_arm95_LWrrtmgclirad_SWrrtmgclirad/FDL_pinkslime.html\">FDL: Longwave downward flux</a><br><a href=\"figs_arm95_LWrrtmgclirad_SWrrtmgclirad/FDLC_pinkslime.html\">FDLC: Longwave clear-sky downward flux</a><br><a href=\"figs_arm95_LWrrtmgclirad_SWrrtmgclirad/FDS_pinkslime.html\">FDS: Shortwave downward flux</a><br><a href=\"figs_arm95_LWrrtmgclirad_SWrrtmgclirad/FDSC_pinkslime.html\">FDSC: Shortwave clear-sky downward flux</a><br><a href=\"figs_arm95_LWrrtmgclirad_SWrrtmgclirad/FUL_pinkslime.html\">FUL: Longwave upward flux</a><br><a href=\"figs_arm95_LWrrtmgclirad_SWrrtmgclirad/FULC_pinkslime.html\">FULC: Longwave clear-sky upward flux</a><br><a href=\"figs_arm95_LWrrtmgclirad_SWrrtmgclirad/FUS_pinkslime.html\">FUS: Shortwave upward flux</a><br><a href=\"figs_arm95_LWrrtmgclirad_SWrrtmgclirad/FUSC_pinkslime.html\">FUSC: Shortwave clear-sky upward flux</a><br><a href=\"figs_arm95_LWrrtmgclirad_SWrrtmgclirad/ICIMR_pinkslime.html\">ICIMR: Prognostic in-cloud ice mixing ratio</a><br><a href=\"figs_arm95_LWrrtmgclirad_SWrrtmgclirad/ICWMR_pinkslime.html\">ICWMR: Prognostic in-cloud water mixing ratio</a><br><a href=\"figs_arm95_LWrrtmgclirad_SWrrtmgclirad/NUMICE_pinkslime.html\">NUMICE: Grid box averaged cloud ice number</a><br><a href=\"figs_arm95_LWrrtmgclirad_SWrrtmgclirad/NUMLIQ_pinkslime.html\">NUMLIQ: Grid box averaged cloud liquid number</a><br><a href=\"figs_arm95_LWrrtmgclirad_SWrrtmgclirad/Q_pinkslime.html\">Q: Specific humidity</a><br><a href=\"figs_arm95_LWrrtmgclirad_SWrrtmgclirad/QRL_pinkslime.html\">QRL: Longwave heating rate</a><br><a href=\"figs_arm95_LWrrtmgclirad_SWrrtmgclirad/QRS_pinkslime.html\">QRS: Solar heating rate</a><br><a href=\"figs_arm95_LWrrtmgclirad_SWrrtmgclirad/RELHUM_pinkslime.html\">RELHUM: Relative humidity</a><br><a href=\"figs_arm95_LWrrtmgclirad_SWrrtmgclirad/T_pinkslime.html\">T: Temperature</a><br><a href=\"figs_arm95_LWrrtmgclirad_SWrrtmgclirad/TOT_CLD_VISTAU_pinkslime.html\">TOT_CLD_VISTAU: Total gbx cloud extinction visible sw optical depth</a><br><a href=\"figs_arm95_LWrrtmgclirad_SWrrtmgclirad/net_FS_pinkslime.html\">net_FS: net solar flux</a><br><a href=\"figs_arm95_LWrrtmgclirad_SWrrtmgclirad/net_FSC_pinkslime.html\">net_FSC: net solar flux (clear-sky)</a>"
      ],
      "text/plain": [
       "<IPython.core.display.HTML object>"
      ]
     },
     "execution_count": 47,
     "metadata": {},
     "output_type": "execute_result"
    }
   ],
   "source": [
    "display.HTML(write_d3variable_links_html(dsets, interests = get_d3interests(), dir_label = iopname, file_label = 'pinkslime'))"
   ]
  },
  {
   "cell_type": "markdown",
   "metadata": {},
   "source": [
    "# Variables of dimensions (lon, lat, time)"
   ]
  },
  {
   "cell_type": "code",
   "execution_count": 62,
   "metadata": {
    "collapsed": false,
    "scrolled": false
   },
   "outputs": [],
   "source": [
    "# plot (time, lon, lat) variables, and write figures to disk and create HTML files\n",
    "\n",
    "writefig_plotVS_timeseries(dsets, diff_dsets, get_d2interests(),\n",
    "                           iopname, fmt = 'png')  \n",
    "\n",
    "# generate HTML page for each interest\n",
    "for interest in get_d2interests():\n",
    "    write_d2variable_html_page(iopname = iopname, interest = interest)\n"
   ]
  },
  {
   "cell_type": "code",
   "execution_count": 66,
   "metadata": {
    "collapsed": false
   },
   "outputs": [
    {
     "data": {
      "text/html": [
       "<a href=\"figs_arm95_LWrrtmgclirad_SWrrtmgclirad/arm95_LWrrtmgclirad_SWrrtmgclirad_FSNT.html\">FSNT: Net solar flux at top of model</a><br><a href=\"figs_arm95_LWrrtmgclirad_SWrrtmgclirad/arm95_LWrrtmgclirad_SWrrtmgclirad_FSNS.html\">FSNS: Net solar flux at surface</a><br><a href=\"figs_arm95_LWrrtmgclirad_SWrrtmgclirad/arm95_LWrrtmgclirad_SWrrtmgclirad_FLNT.html\">FLNT: Net longwave flux at top of model</a><br><a href=\"figs_arm95_LWrrtmgclirad_SWrrtmgclirad/arm95_LWrrtmgclirad_SWrrtmgclirad_FLNS.html\">FLNS: Net longwave flux at surface</a><br><a href=\"figs_arm95_LWrrtmgclirad_SWrrtmgclirad/arm95_LWrrtmgclirad_SWrrtmgclirad_CLDLOW.html\">CLDLOW: Vertically-integrated low cloud</a><br><a href=\"figs_arm95_LWrrtmgclirad_SWrrtmgclirad/arm95_LWrrtmgclirad_SWrrtmgclirad_CLDMED.html\">CLDMED: Vertically-integrated mid-level cloud</a><br><a href=\"figs_arm95_LWrrtmgclirad_SWrrtmgclirad/arm95_LWrrtmgclirad_SWrrtmgclirad_CLDHGH.html\">CLDHGH: Vertically-integrated high cloud</a><br><a href=\"figs_arm95_LWrrtmgclirad_SWrrtmgclirad/arm95_LWrrtmgclirad_SWrrtmgclirad_CLDTOT.html\">CLDTOT: Vertically-integrated total cloud</a><br><a href=\"figs_arm95_LWrrtmgclirad_SWrrtmgclirad/arm95_LWrrtmgclirad_SWrrtmgclirad_TS.html\">TS: Surface temperature (radiative)</a><br><a href=\"figs_arm95_LWrrtmgclirad_SWrrtmgclirad/arm95_LWrrtmgclirad_SWrrtmgclirad_TREFHT.html\">TREFHT: Reference height temperature</a><br><a href=\"figs_arm95_LWrrtmgclirad_SWrrtmgclirad/arm95_LWrrtmgclirad_SWrrtmgclirad_TROP_T.html\">TROP_T: Tropopause Temperature</a><br><a href=\"figs_arm95_LWrrtmgclirad_SWrrtmgclirad/arm95_LWrrtmgclirad_SWrrtmgclirad_TROP_Z.html\">TROP_Z: Tropopause Height</a><br><a href=\"figs_arm95_LWrrtmgclirad_SWrrtmgclirad/arm95_LWrrtmgclirad_SWrrtmgclirad_TMQ.html\">TMQ: Total (vertically integrated) precipitable water</a><br><a href=\"figs_arm95_LWrrtmgclirad_SWrrtmgclirad/arm95_LWrrtmgclirad_SWrrtmgclirad_TGCLDIWP.html\">TGCLDIWP: Total grid-box cloud ice water path</a><br><a href=\"figs_arm95_LWrrtmgclirad_SWrrtmgclirad/arm95_LWrrtmgclirad_SWrrtmgclirad_TGCLDLWP.html\">TGCLDLWP: Total grid-box cloud liquid water path</a><br><a href=\"figs_arm95_LWrrtmgclirad_SWrrtmgclirad/arm95_LWrrtmgclirad_SWrrtmgclirad_PRECT.html\">PRECT: Total (convective and large-scale) precipitation rate (liq + ice)</a><br><a href=\"figs_arm95_LWrrtmgclirad_SWrrtmgclirad/arm95_LWrrtmgclirad_SWrrtmgclirad_PRECL.html\">PRECL: Large-scale (stable) precipitation rate (liq + ice)</a><br><a href=\"figs_arm95_LWrrtmgclirad_SWrrtmgclirad/arm95_LWrrtmgclirad_SWrrtmgclirad_PRECC.html\">PRECC: Convective precipitation rate (liq + ice)</a><br><a href=\"figs_arm95_LWrrtmgclirad_SWrrtmgclirad/arm95_LWrrtmgclirad_SWrrtmgclirad_LHFLX.html\">LHFLX: Surface latent heat flux</a><br><a href=\"figs_arm95_LWrrtmgclirad_SWrrtmgclirad/arm95_LWrrtmgclirad_SWrrtmgclirad_SHFLX.html\">SHFLX: Surface sensible heat flux</a><br><a href=\"figs_arm95_LWrrtmgclirad_SWrrtmgclirad/arm95_LWrrtmgclirad_SWrrtmgclirad_SOLIN.html\">SOLIN: Solar insolation</a>"
      ],
      "text/plain": [
       "<IPython.core.display.HTML object>"
      ]
     },
     "execution_count": 66,
     "metadata": {},
     "output_type": "execute_result"
    }
   ],
   "source": [
    "display.HTML(write_d2variables_html(dsets, iopname = iopname, interests = get_d2interests()))"
   ]
  },
  {
   "cell_type": "code",
   "execution_count": 68,
   "metadata": {
    "collapsed": false,
    "scrolled": false
   },
   "outputs": [],
   "source": [
    "def slice_in_time(cases, time = slice(None)):\n",
    "    return {casename: ds.sel(time = time) for casename, ds in cases.items()}"
   ]
  },
  {
   "cell_type": "code",
   "execution_count": 282,
   "metadata": {
    "collapsed": false
   },
   "outputs": [],
   "source": [
    "which_timeslice = slice('1995-07-19 05:00:00', '1995-07-25 05:00:00')\n",
    "\n",
    "d3sets_subtime = slice_in_time(d3sets, time = which_timeslice)\n",
    "diff_d3sets_subtime = slice_in_time(diff_d3sets, time = which_timeslice)"
   ]
  },
  {
   "cell_type": "code",
   "execution_count": 283,
   "metadata": {
    "collapsed": false
   },
   "outputs": [],
   "source": [
    "# plot and write figures to disk\n",
    "#interests = get_d3interests()\n",
    "\n",
    "#writefig_contourfs(d3sets_subtime, diff_d3sets_subtime, interests, \n",
    "#                   dir_label = iopname, file_label = which_timeslice,\n",
    "#                  fmt = 'png')\n",
    "\n",
    "#writefig_timeaveraged_VSplots(d3sets_subtime, diff_d3sets_subtime, interests, \n",
    "#                              dir_label = iopname, file_label = which_timeslice,\n",
    "#                              fmt = 'png')\n"
   ]
  },
  {
   "cell_type": "code",
   "execution_count": 284,
   "metadata": {
    "collapsed": false
   },
   "outputs": [],
   "source": [
    "# generate HTML page for each interest\n",
    "#for interest in get_d3interests():\n",
    "#    write_d3variable_html_page(interest = interest, dir_label = iopname, file_label = which_timeslice)\n",
    "\n",
    "\n",
    "#display.HTML((write_d3variable_links_html(interests = interests, dir_label = iopname, file_label = which_timeslice)))"
   ]
  },
  {
   "cell_type": "code",
   "execution_count": 285,
   "metadata": {
    "collapsed": false
   },
   "outputs": [
    {
     "data": {
      "text/html": [
       "<script>\n",
       "code_show=true; \n",
       "function code_toggle() {\n",
       " if (code_show){\n",
       " $('div.input').hide();\n",
       " } else {\n",
       " $('div.input').show();\n",
       " }\n",
       " code_show = !code_show\n",
       "} \n",
       "$( document ).ready(code_toggle);\n",
       "</script>\n",
       "<form action=\"javascript:code_toggle()\"><input type=\"submit\" value=\"Click here to toggle on/off the raw code.\"></form>"
      ],
      "text/plain": [
       "<IPython.core.display.HTML object>"
      ]
     },
     "execution_count": 285,
     "metadata": {},
     "output_type": "execute_result"
    }
   ],
   "source": [
    "display.HTML('''<script>\n",
    "code_show=true; \n",
    "function code_toggle() {\n",
    " if (code_show){\n",
    " $('div.input').hide();\n",
    " } else {\n",
    " $('div.input').show();\n",
    " }\n",
    " code_show = !code_show\n",
    "} \n",
    "$( document ).ready(code_toggle);\n",
    "</script>\n",
    "<form action=\"javascript:code_toggle()\"><input type=\"submit\" value=\"Click here to toggle on/off the raw code.\"></form>''')"
   ]
  },
  {
   "cell_type": "code",
   "execution_count": null,
   "metadata": {
    "collapsed": true
   },
   "outputs": [],
   "source": []
  }
 ],
 "metadata": {
  "kernelspec": {
   "display_name": "Python 3",
   "language": "python",
   "name": "python3"
  },
  "language_info": {
   "codemirror_mode": {
    "name": "ipython",
    "version": 3
   },
   "file_extension": ".py",
   "mimetype": "text/x-python",
   "name": "python",
   "nbconvert_exporter": "python",
   "pygments_lexer": "ipython3",
   "version": "3.4.3"
  }
 },
 "nbformat": 4,
 "nbformat_minor": 0
}
