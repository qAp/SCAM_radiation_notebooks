{
 "cells": [
  {
   "cell_type": "markdown",
   "metadata": {},
   "source": [
    "# Solar radiance in spectral bands"
   ]
  },
  {
   "cell_type": "code",
   "execution_count": 96,
   "metadata": {
    "collapsed": false
   },
   "outputs": [],
   "source": [
    "%matplotlib inline\n",
    "import os\n",
    "import sys\n",
    "import numpy as np\n",
    "import scipy as sp\n",
    "from scipy.interpolate import InterpolatedUnivariateSpline\n",
    "import scipy.integrate as integrate\n",
    "import pandas as pd\n",
    "\n",
    "import imp\n",
    "\n",
    "# get spectral band information for clirad and rrtmg\n",
    "import rtmtools.clirad.sw.info as cliradswinfo\n",
    "import rtmtools.clirad.lw.info as cliradlwinfo\n",
    "import rtmtools.rrtmg.sw.info as rrtmgswinfo\n",
    "import rtmtools.rrtmg.lw.info as rrtmglwinfo\n",
    "\n",
    "import climatools.rrtmg as rrtmg\n",
    "import climatools.clirad as clirad\n",
    "import climatools.interp as climainterp\n",
    "\n",
    "imp.reload(rrtmg)\n",
    "imp.reload(clirad)\n",
    "imp.reload(climainterp)\n",
    "\n",
    "\n",
    "\n",
    "import matplotlib\n",
    "import matplotlib.pyplot as plt\n",
    "\n",
    "from IPython.display import HTML"
   ]
  },
  {
   "cell_type": "code",
   "execution_count": 115,
   "metadata": {
    "collapsed": true
   },
   "outputs": [],
   "source": [
    "irrad = pd.DataFrame([(.5 * sum(limit), irrad) \n",
    "                      for iband in rrtmg.wavenumber_bands().keys()\n",
    "                      for limit, irrad in zip(rrtmg.wavenumber_bands()[iband], rrtmg.solar_irradiance()[iband])],\n",
    "                     index = rrtmg.wavenumber_bands().keys(),\n",
    "                     columns = ['mid-band wavenumber', 'solar irradiance'])\n",
    "irrad.sort('mid-band wavenumber', inplace = True)"
   ]
  },
  {
   "cell_type": "code",
   "execution_count": 72,
   "metadata": {
    "collapsed": false
   },
   "outputs": [
    {
     "name": "stdout",
     "output_type": "stream",
     "text": [
      "solar irradiance in RRTMG spectral bands\n"
     ]
    },
    {
     "data": {
      "text/html": [
       "<div style=\"max-height:1000px;max-width:1500px;overflow:auto;\">\n",
       "<table border=\"1\" class=\"dataframe\">\n",
       "  <thead>\n",
       "    <tr style=\"text-align: right;\">\n",
       "      <th></th>\n",
       "      <th>mid-band wavenumber</th>\n",
       "      <th>solar irradiance</th>\n",
       "    </tr>\n",
       "  </thead>\n",
       "  <tbody>\n",
       "    <tr>\n",
       "      <th>14</th>\n",
       "      <td>1710</td>\n",
       "      <td>12.89</td>\n",
       "    </tr>\n",
       "    <tr>\n",
       "      <th>1</th>\n",
       "      <td>2925</td>\n",
       "      <td>12.11</td>\n",
       "    </tr>\n",
       "    <tr>\n",
       "      <th>2</th>\n",
       "      <td>3625</td>\n",
       "      <td>20.36</td>\n",
       "    </tr>\n",
       "    <tr>\n",
       "      <th>3</th>\n",
       "      <td>4325</td>\n",
       "      <td>23.73</td>\n",
       "    </tr>\n",
       "    <tr>\n",
       "      <th>4</th>\n",
       "      <td>4900</td>\n",
       "      <td>22.43</td>\n",
       "    </tr>\n",
       "    <tr>\n",
       "      <th>5</th>\n",
       "      <td>5650</td>\n",
       "      <td>55.63</td>\n",
       "    </tr>\n",
       "    <tr>\n",
       "      <th>6</th>\n",
       "      <td>6925</td>\n",
       "      <td>102.93</td>\n",
       "    </tr>\n",
       "    <tr>\n",
       "      <th>7</th>\n",
       "      <td>7875</td>\n",
       "      <td>24.29</td>\n",
       "    </tr>\n",
       "    <tr>\n",
       "      <th>8</th>\n",
       "      <td>10450</td>\n",
       "      <td>345.74</td>\n",
       "    </tr>\n",
       "    <tr>\n",
       "      <th>9</th>\n",
       "      <td>14425</td>\n",
       "      <td>218.19</td>\n",
       "    </tr>\n",
       "    <tr>\n",
       "      <th>10</th>\n",
       "      <td>19325</td>\n",
       "      <td>347.20</td>\n",
       "    </tr>\n",
       "    <tr>\n",
       "      <th>11</th>\n",
       "      <td>25825</td>\n",
       "      <td>129.49</td>\n",
       "    </tr>\n",
       "    <tr>\n",
       "      <th>12</th>\n",
       "      <td>33500</td>\n",
       "      <td>50.15</td>\n",
       "    </tr>\n",
       "    <tr>\n",
       "      <th>13</th>\n",
       "      <td>44000</td>\n",
       "      <td>3.08</td>\n",
       "    </tr>\n",
       "  </tbody>\n",
       "</table>\n",
       "</div>"
      ],
      "text/plain": [
       "    mid-band wavenumber  solar irradiance\n",
       "14                 1710             12.89\n",
       "1                  2925             12.11\n",
       "2                  3625             20.36\n",
       "3                  4325             23.73\n",
       "4                  4900             22.43\n",
       "5                  5650             55.63\n",
       "6                  6925            102.93\n",
       "7                  7875             24.29\n",
       "8                 10450            345.74\n",
       "9                 14425            218.19\n",
       "10                19325            347.20\n",
       "11                25825            129.49\n",
       "12                33500             50.15\n",
       "13                44000              3.08"
      ]
     },
     "execution_count": 72,
     "metadata": {},
     "output_type": "execute_result"
    }
   ],
   "source": [
    "print('solar irradiance in RRTMG spectral bands')\n",
    "irrad"
   ]
  },
  {
   "cell_type": "code",
   "execution_count": 95,
   "metadata": {
    "collapsed": false
   },
   "outputs": [
    {
     "data": {
      "image/png": "[encoded data removed]",
      "text/plain": [
       "<matplotlib.figure.Figure at 0x2aabfe59fd30>"
      ]
     },
     "metadata": {},
     "output_type": "display_data"
    }
   ],
   "source": [
    "ax = irrad.plot(x = 'mid-band wavenumber', \n",
    "                                       y = 'solar irradiance', \n",
    "                                       marker = 'x', \n",
    "                                      logy = False, logx = True)"
   ]
  },
  {
   "cell_type": "code",
   "execution_count": 90,
   "metadata": {
    "collapsed": false
   },
   "outputs": [],
   "source": [
    "def fit_with_scipy():\n",
    "    f = InterpolatedUnivariateSpline(irrad['mid-band wavenumber'], irrad['solar irradiance'], k = 1)\n",
    "    irrad_clirad = pd.DataFrame({'mid-band wavenumber': clirad.midband_wavenumbers(),\n",
    "                                'solar irradiance': f(clirad.midband_wavenumbers())})\n",
    "    return irrad_clirad\n",
    "\n",
    "irrad_clirad = fit_with_scipy()\n",
    "\n",
    "#irrad_clirad = pd.DataFrame({'solar irradiance': climainterp.cubic_spline(irrad['mid-band wavenumber'], \n",
    "#                                                                          irrad['solar irradiance'],\n",
    "#                                                                          clirad.midband_wavenumbers(region = 'sw')),\n",
    "#                            'mid-band wavenumber': clirad.midband_wavenumbers(region = 's')})"
   ]
  },
  {
   "cell_type": "code",
   "execution_count": 116,
   "metadata": {
    "collapsed": false
   },
   "outputs": [
    {
     "name": "stdout",
     "output_type": "stream",
     "text": [
      "Solar irradiance in CLIRAD spectral bands interpolated from RRTMG\n"
     ]
    },
    {
     "data": {
      "text/html": [
       "<div style=\"max-height:1000px;max-width:1500px;overflow:auto;\">\n",
       "<table border=\"1\" class=\"dataframe\">\n",
       "  <thead>\n",
       "    <tr style=\"text-align: right;\">\n",
       "      <th></th>\n",
       "      <th>mid-band wavenumber</th>\n",
       "      <th>solar irradiance</th>\n",
       "    </tr>\n",
       "  </thead>\n",
       "  <tbody>\n",
       "    <tr>\n",
       "      <th>0</th>\n",
       "      <td>2700.0</td>\n",
       "      <td>12.254444</td>\n",
       "    </tr>\n",
       "    <tr>\n",
       "      <th>1</th>\n",
       "      <td>6300.0</td>\n",
       "      <td>79.743725</td>\n",
       "    </tr>\n",
       "    <tr>\n",
       "      <th>2</th>\n",
       "      <td>11240.0</td>\n",
       "      <td>320.390440</td>\n",
       "    </tr>\n",
       "    <tr>\n",
       "      <th>3</th>\n",
       "      <td>19643.0</td>\n",
       "      <td>336.548957</td>\n",
       "    </tr>\n",
       "    <tr>\n",
       "      <th>4</th>\n",
       "      <td>27885.0</td>\n",
       "      <td>108.194834</td>\n",
       "    </tr>\n",
       "    <tr>\n",
       "      <th>5</th>\n",
       "      <td>32051.5</td>\n",
       "      <td>65.123810</td>\n",
       "    </tr>\n",
       "    <tr>\n",
       "      <th>6</th>\n",
       "      <td>34210.5</td>\n",
       "      <td>46.964930</td>\n",
       "    </tr>\n",
       "    <tr>\n",
       "      <th>7</th>\n",
       "      <td>39766.0</td>\n",
       "      <td>22.060417</td>\n",
       "    </tr>\n",
       "    <tr>\n",
       "      <th>8</th>\n",
       "      <td>50793.0</td>\n",
       "      <td>-27.372049</td>\n",
       "    </tr>\n",
       "  </tbody>\n",
       "</table>\n",
       "</div>"
      ],
      "text/plain": [
       "   mid-band wavenumber  solar irradiance\n",
       "0               2700.0         12.254444\n",
       "1               6300.0         79.743725\n",
       "2              11240.0        320.390440\n",
       "3              19643.0        336.548957\n",
       "4              27885.0        108.194834\n",
       "5              32051.5         65.123810\n",
       "6              34210.5         46.964930\n",
       "7              39766.0         22.060417\n",
       "8              50793.0        -27.372049"
      ]
     },
     "execution_count": 116,
     "metadata": {},
     "output_type": "execute_result"
    }
   ],
   "source": [
    "print('Solar irradiance in CLIRAD spectral bands interpolated from RRTMG')\n",
    "irrad_clirad"
   ]
  },
  {
   "cell_type": "code",
   "execution_count": 100,
   "metadata": {
    "collapsed": false
   },
   "outputs": [
    {
     "data": {
      "image/png": "[encoded data removed]",
      "text/plain": [
       "<matplotlib.figure.Figure at 0x2aac05150780>"
      ]
     },
     "metadata": {},
     "output_type": "display_data"
    }
   ],
   "source": [
    "ax = irrad_clirad.plot(x = 'mid-band wavenumber', y = 'solar irradiance', \n",
    "                  marker = 'o', logx = True)"
   ]
  },
  {
   "cell_type": "markdown",
   "metadata": {},
   "source": [
    "### Using solar spectrum used in CRD (line-by-line) to find radiance in CLIRAD's spectral bands\n",
    "\n",
    "The point of finding the solar radiance in CLIRAD's spectral bands is that, because band 2 is actually made of 2 disconnected sub-bands, the solar radiances of these two sub-bands are used to weigh the extinctions to get *one* extinction for band 2."
   ]
  },
  {
   "cell_type": "code",
   "execution_count": 114,
   "metadata": {
    "collapsed": false
   },
   "outputs": [
    {
     "name": "stdout",
     "output_type": "stream",
     "text": [
      "Solar radiance in CLIRAD band 2 sub-bands\n",
      "band 33333 ~ 35088 cm-1\n",
      "radiance = 6.846816666666666 W m-2 cm\n",
      "band 44444 ~ 57142 cm-1\n",
      "radiance = 0.8120003333333334 W m-2 cm\n"
     ]
    }
   ],
   "source": [
    "# CRD's 'new.dat'\n",
    "def solar_radiance_clirad_bands():\n",
    "    path_lee = '/nuwa_cluster/home/jackyu/radiation/crd/SW/src/new.dat'\n",
    "    crd_data = pd.read_csv(path_lee, \n",
    "                           sep = r'\\s+',  \n",
    "                           header = None,\n",
    "                           names = ['wavenumber', 'irradiance'])\n",
    "    crd_data.set_index('wavenumber', inplace = True)\n",
    "    return {iband: [integrate.simps(crd_data.loc[limit[0]: limit[1], 'irradiance'], dx = 20.) for limit in limits]\n",
    "           for iband, limits in clirad.wavenumber_bands().items()}\n",
    "\n",
    "radiance_bands = solar_radiance_clirad_bands()\n",
    "\n",
    "print('Solar radiance in CLIRAD band 2 sub-bands')\n",
    "for (low_lim, high_lim), radiance in zip(clirad.wavenumber_bands()[2], radiance_bands[2]):\n",
    "    print('band {} ~ {} cm-1'.format(low_lim, high_lim))\n",
    "    print('radiance = {} W m-2 cm'.format(radiance))"
   ]
  },
  {
   "cell_type": "code",
   "execution_count": 37,
   "metadata": {
    "collapsed": false
   },
   "outputs": [
    {
     "data": {
      "text/html": [
       "\n",
       "<script>\n",
       "code_show = true;\n",
       "function code_toggle() {\n",
       "if (code_show) {$('div.input').hide();} else {$('div.input').show();}\n",
       "code_show = !code_show\n",
       "}\n",
       "$( document ).ready(code_toggle);\n",
       "</script>\n",
       "<form action=\"javascript:code_toggle()\"><input type=\"submit\" value=\"Click here to toggle on/off the raw code\"></form>\n"
      ],
      "text/plain": [
       "<IPython.core.display.HTML object>"
      ]
     },
     "execution_count": 37,
     "metadata": {},
     "output_type": "execute_result"
    }
   ],
   "source": [
    "HTML(\n",
    "'''\n",
    "<script>\n",
    "code_show = true;\n",
    "function code_toggle() {\n",
    "if (code_show) {$('div.input').hide();} else {$('div.input').show();}\n",
    "code_show = !code_show\n",
    "}\n",
    "$( document ).ready(code_toggle);\n",
    "</script>\n",
    "<form action=\"javascript:code_toggle()\"><input type=\"submit\" value=\"Click here to toggle on/off the raw code\"></form>\n",
    "'''\n",
    ")"
   ]
  },
  {
   "cell_type": "code",
   "execution_count": null,
   "metadata": {
    "collapsed": true
   },
   "outputs": [],
   "source": []
  }
 ],
 "metadata": {
  "kernelspec": {
   "display_name": "Python 3",
   "language": "python",
   "name": "python3"
  },
  "language_info": {
   "codemirror_mode": {
    "name": "ipython",
    "version": 3
   },
   "file_extension": ".py",
   "mimetype": "text/x-python",
   "name": "python",
   "nbconvert_exporter": "python",
   "pygments_lexer": "ipython3",
   "version": "3.4.3"
  }
 },
 "nbformat": 4,
 "nbformat_minor": 0
}
