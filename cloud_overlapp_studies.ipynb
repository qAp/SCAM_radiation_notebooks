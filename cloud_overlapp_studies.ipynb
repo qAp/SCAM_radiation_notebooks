{
 "cells": [
  {
   "cell_type": "markdown",
   "metadata": {},
   "source": [
    "# Cloud overlapping studies\n",
    "\n",
    "\n",
    "Listed in the following table are all the cases that have been run and whose output data (CAM history) is available.\n",
    "\n",
    "| case ID     | feedback to CAM | cloud overlap | radiative transfer |\n",
    "|-------------|-----------------|---------------|--------------------|\n",
    "| 1           | McICA + RRTMG  | McICA         | RRTMG              |\n",
    "| 2           | MaxRand + CLIRAD| MaxRand       | CLIRAD             |\n",
    "| 3           | McICA + RRTMG   | MaxRand       | CLIRAD             |\n",
    "| 4           | McICA + RRTMG   | MaxRand       | RRTMG              |\n",
    "| 5           | MaxRand + RRTMG | MaxRand       | RRTMG              |\n",
    "\n",
    "\n",
    "Each case is characterised by 3 factors: feedback to CAM, cloud overlapping and radiative transfer.  For example, for Case 4, CLIRAD’s maximum random method (MaxRand) is used for cloud overlapping and the fluxes are computed using the RRTMG radiative transfer scheme, but the input model state the case takes is from a CAM that receives feedback from a case which uses McICA for cloud overlap and RRTMG for radiative transfer (e.g. Case 1). \n",
    "\n",
    "\n",
    "\n"
   ]
  },
  {
   "cell_type": "markdown",
   "metadata": {},
   "source": [
    "## Figures\n",
    "\n",
    "Case 1 vs Case 4\n",
    "\n",
    "[ARM95][arm95_1vs4] [MPACE][mpace_1vs4] [TWPICE][twpice_1vs4]\n",
    "\n",
    "Case 1 vs Case 3\n",
    "\n",
    "[ARM95][arm95_1vs3] [MPACE][mpace_1vs3] [TWPICE][twpice_1vs3]\n",
    "\n",
    "Case 1 vs Case 2\n",
    "\n",
    "[ARM95][arm95_1vs2] [MPACE][mpace_1vs2] [TWPICE][twpice_1vs2]\n",
    "\n",
    "\n",
    "Case 1 vs Case 5\n",
    "\n",
    "[ARM95][arm95_1vs5] [MPACE][mpace_1vs5] [TWPICE][twpice_1vs5]\n",
    "\n",
    "\n",
    "\n",
    "[arm95_1vs4]: http://nbviewer.ipython.org/github/qAp/SCAM_radiation_notebooks/blob/master/arm95_LW_rrtmgMcICA_rrtmgMaxRand_SW_rrtmgMcICA_rrtmgMaxRand.ipynb\n",
    "\n",
    "[mpace_1vs4]: http://nbviewer.ipython.org/github/qAp/SCAM_radiation_notebooks/blob/master/mpace_LW_rrtmgMcICA_rrtmgMaxRand_SW_rrtmgMcICA_rrtmgMaxRand.ipynb\n",
    "\n",
    "[twpice_1vs4]: http://nbviewer.ipython.org/github/qAp/SCAM_radiation_notebooks/blob/master/twpice_LW_rrtmgMcICA_rrtmgMaxRand_SW_rrtmgMcICA_rrtmgMaxRand.ipynb\n",
    "\n",
    "[arm95_1vs3]: http://nbviewer.ipython.org/github/qAp/SCAM_radiation_notebooks/blob/master/arm95_LWrrtmgclirad_SWrrtmgclirad.ipynb\n",
    "\n",
    "[mpace_1vs3]: http://nbviewer.ipython.org/github/qAp/SCAM_radiation_notebooks/blob/master/mpace_LWrrtmgclirad_SWrrtmgclirad.ipynb\n",
    "\n",
    "[twpice_1vs3]: http://nbviewer.ipython.org/github/qAp/SCAM_radiation_notebooks/blob/master/twpice_LWrrtmgclirad_SWrrtmgclirad.ipynb\n",
    "\n",
    "[arm95_1vs2]: http://nbviewer.ipython.org/github/qAp/SCAM_radiation_notebooks/blob/master/arm95_rrtmg_vs_clirad.ipynb\n",
    "\n",
    "[mpace_1vs2]: http://nbviewer.ipython.org/github/qAp/SCAM_radiation_notebooks/blob/master/mpace_rrtmg_vs_clirad.ipynb\n",
    "\n",
    "[twpice_1vs2]: http://nbviewer.ipython.org/github/qAp/SCAM_radiation_notebooks/blob/master/twpice_rrtmg_vs_clirad.ipynb\n",
    "\n",
    "[arm95_1vs5]: http://nbviewer.ipython.org/github/qAp/SCAM_radiation_notebooks/blob/master/arm95_rrtmgMcICA_vs_rrtmgMaxRand.ipynb\n",
    "\n",
    "[mpace_1vs5]: http://nbviewer.ipython.org/github/qAp/SCAM_radiation_notebooks/blob/master/mpace_rrtmgMcICA_vs_rrtmgMaxRand.ipynb\n",
    "\n",
    "[twpice_1vs5]: http://nbviewer.ipython.org/github/qAp/SCAM_radiation_notebooks/blob/master/twpice_rrtmgMcICA_vs_rrtmgMaxRand.ipynb"
   ]
  },
  {
   "cell_type": "code",
   "execution_count": null,
   "metadata": {
    "collapsed": true
   },
   "outputs": [],
   "source": []
  }
 ],
 "metadata": {
  "kernelspec": {
   "display_name": "Python 3",
   "language": "python",
   "name": "python3"
  },
  "language_info": {
   "codemirror_mode": {
    "name": "ipython",
    "version": 3
   },
   "file_extension": ".py",
   "mimetype": "text/x-python",
   "name": "python",
   "nbconvert_exporter": "python",
   "pygments_lexer": "ipython3",
   "version": "3.4.3"
  }
 },
 "nbformat": 4,
 "nbformat_minor": 0
}
