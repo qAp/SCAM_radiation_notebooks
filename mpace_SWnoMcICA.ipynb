{
 "cells": [
  {
   "cell_type": "code",
   "execution_count": 64,
   "metadata": {
    "collapsed": false
   },
   "outputs": [],
   "source": [
    "import os\n",
    "import sys\n",
    "import glob\n",
    "%matplotlib inline\n",
    "import matplotlib\n",
    "import matplotlib.pyplot as plt\n",
    "import pandas as pd\n",
    "import numpy as np\n",
    "import xray\n",
    "import random\n",
    "import itertools\n",
    "import urllib\n",
    "import json\n",
    "import importlib as imp\n",
    "\n",
    "from IPython import display\n",
    "\n",
    "sys.path.append('/nuwa_cluster/home/jackyu/climatools/')\n",
    "import climatools.dates as climadates\n",
    "import climatools.viz as climaviz\n",
    "import climatools.misc as climamisc\n",
    "import climatools.muths as climaths\n",
    "import climatools.units as climaunits\n",
    "import climatools.geocoords as climageocoords\n",
    "\n",
    "#from IPython.lib.deepreload import reload as dreload\n",
    "imp.reload(climadates)\n",
    "imp.reload(climaviz)\n",
    "imp.reload(climamisc)\n",
    "imp.reload(climaths)\n",
    "imp.reload(climaunits)\n",
    "\n",
    "matplotlib.rcParams.update({'font.size': 13, \n",
    "                            'xtick.direction': 'out',\n",
    "                            'ytick.direction': 'out'})"
   ]
  },
  {
   "cell_type": "markdown",
   "metadata": {},
   "source": [
    "# MPACE"
   ]
  },
  {
   "cell_type": "markdown",
   "metadata": {},
   "source": [
    "# Cases and netCDF file paths\n",
    "\n",
    "2 cases considered here are:\n",
    "\n",
    "* All McICA --- RRTMG used for both longwave and shortwave\n",
    "* no SW McICA --- RRTMG used for both longwave and shortwave, with shortwave McICA replaced with CLIRAD's max-random\n"
   ]
  },
  {
   "cell_type": "code",
   "execution_count": 4,
   "metadata": {
    "collapsed": true
   },
   "outputs": [],
   "source": [
    "iopname = 'mpace'\n",
    "\n",
    "# Each case here refers to a model, or a model configuration, and is assigned the path to its output data.\n",
    "def get_cases():\n",
    "    '''\n",
    "    Returns a dictionary where the keys are cases, such\n",
    "    as a name for a SCAM run, and the values are the paths\n",
    "    to the output data from the run\n",
    "    '''\n",
    "    return {'All McICA': '../examples/MPACE/cam5_3hrly_LWrrtmg_SWrrtmg/camrun.cam.h0.2004-10-05-07171.nc',\n",
    "            'SW no McICA': '../examples/MPACE/cam5_3hrly_LWrrtmg_SWrrtmg_SWnoMcICA/camrun.cam.h0.2004-10-05-07171.nc'}\n",
    "\n",
    "def linestyles_by_case():\n",
    "    return {'All McICA': {'colour': 'g', 'linestyle': '--'},\n",
    "            'SW no McICA': {'colour': 'g', 'linestyle': '-'}}\n"
   ]
  },
  {
   "cell_type": "code",
   "execution_count": 5,
   "metadata": {
    "collapsed": true
   },
   "outputs": [],
   "source": [
    "def get_cases_difference():\n",
    "    return [('SW no McICA', 'All McICA'),]"
   ]
  },
  {
   "cell_type": "code",
   "execution_count": 6,
   "metadata": {
    "collapsed": false
   },
   "outputs": [],
   "source": [
    "############### Coordinate conversion functions ################\n",
    "################################################################\n",
    "# *lev* is converted from hybrid levels to mbar.    \n",
    "# *time* is converted from days since start to datetime.datetime objects\n",
    "\n",
    "\n",
    "def convert_pressure_time_units(cases):\n",
    "    '''\n",
    "    Convert pressure and time units to mbar and datetime objects.\n",
    "    This assumes all datasets have the same pressure and time\n",
    "    coordinates.  This conversion is done early using fields such as\n",
    "    hyam, which will not be needed later.\n",
    "    '''\n",
    "    with xray.open_dataset(cases[random.choice(list(cases.keys()))], \n",
    "                           decode_times = False) as ds:\n",
    "        lev = climaunits.hybrid2mbar(ds, level_type = 'lev')\n",
    "        ilev = climaunits.hybrid2mbar(ds, level_type = 'ilev')\n",
    "        datetimes = climadates.time2datetimes(ds)\n",
    "        datetimes = [climadates.\\\n",
    "                     UTCtime_to_localtime(datetime, \n",
    "                                          lon = climageocoords.\\\n",
    "                                          positivise_longitude(ds['lon'].values[0])) \\\n",
    "                     for datetime in datetimes]\n",
    "    return ilev, lev, datetimes"
   ]
  },
  {
   "cell_type": "code",
   "execution_count": 7,
   "metadata": {
    "collapsed": false
   },
   "outputs": [],
   "source": [
    "cases = get_cases()\n",
    "ilev, lev, datetimes = convert_pressure_time_units(cases)"
   ]
  },
  {
   "cell_type": "code",
   "execution_count": 8,
   "metadata": {
    "collapsed": true
   },
   "outputs": [],
   "source": [
    "################## Variables of dimensions (time, lev, lon, lat) ########################\n",
    "################################################################################"
   ]
  },
  {
   "cell_type": "code",
   "execution_count": 54,
   "metadata": {
    "collapsed": false
   },
   "outputs": [],
   "source": [
    "### for pre-processing\n",
    "\n",
    "\n",
    "\n",
    "def get_d3interests():\n",
    "    '''List all interested fields here.  \n",
    "    These have to be of dimensions (time, lev, lon, lat)'''\n",
    "    d3interests = ['CLOUD', 'QRL', 'QRS', 'Q',\n",
    "                   'CLDICE', 'CLDLIQ', \n",
    "                   'AQSNOW', 'AREI', 'AREL',\n",
    "                  'AWNC', 'AWNI', \n",
    "                   'DCQ', 'DTCOND', \n",
    "                   'ICIMR', 'ICWMR', \n",
    "                   'NUMLIQ', 'NUMICE', 'T', 'RELHUM',\n",
    "                  'FUL', 'FDL', 'FULC', 'FDLC',\n",
    "                  'FUS', 'FDS', 'FUSC', 'FDSC',\n",
    "                  'TOT_CLD_VISTAU',]\n",
    "    return sorted(d3interests)\n",
    "\n",
    "\n",
    "def gather_interests_from_cases(cases, interests):\n",
    "    '''\n",
    "    Creates a dictionary with keys being the cases.\n",
    "    For each case is an Xray Dataset containing the interested fields\n",
    "    '''\n",
    "    datasets = {} \n",
    "\n",
    "    for case, filepath in cases.items():\n",
    "        with xray.open_dataset(filepath, decode_times = False) as ds:\n",
    "            datasets[case] = ds[interests].copy(deep = True)\n",
    "            datasets[case].attrs['case_name'] = case\n",
    "    return datasets\n",
    "\n",
    "\n",
    "def convert_units(datasets, ilev, lev, datetimes):\n",
    "    '''\n",
    "    Convert units for certain fields for all cases in DATASETS.\n",
    "    INPUT:\n",
    "    ilev --- level(interface) pressure in mbar\n",
    "    lev  --- layer(level) pressure in mbar\n",
    "    datetimes --- time in pandas DatetimeIndex objects\n",
    "    '''\n",
    "    for name, ds in datasets.items():\n",
    "        ds.coords['ilev'] = ('ilev', ilev, {'units': 'mbar'})\n",
    "        ds.coords['lev'] = ('lev', lev, {'units': 'mbar'})\n",
    "        ds.coords['time'] = ('time', datetimes, {'units': 'datetime'})\n",
    "        \n",
    "        for k in ['TOT_CLD_VISTAU',]:\n",
    "            if k in ds:\n",
    "                pass #ds[k].values[ds[k].isnull().values] = - 0.\n",
    "        \n",
    "        for k in ['FUS', 'FDS']:\n",
    "            if k in ds:\n",
    "                ds[k] *= 1e3\n",
    "    \n",
    "        for k in ['QRL', 'QRS', 'DTCOND']:\n",
    "            if k in ds:\n",
    "                ds[k] *= 86400\n",
    "                ds[k].attrs['units'] = 'K/day'\n",
    "        \n",
    "        for k in ['Q', ]:\n",
    "            if k in ds:\n",
    "                ds[k] *= 1e3\n",
    "                ds[k].attrs['units'] = 'g/kg'\n",
    "        \n",
    "        for k in ['CLDICE', 'CLDLIQ', 'AQSNOW']:\n",
    "            if k in ds:\n",
    "                ds[k] *= 1e6\n",
    "                ds[k].attrs['units'] = 'mg/kg'\n",
    "                \n",
    "    return datasets\n",
    "\n",
    "\n",
    "def take_difference_between_cases(datasets):\n",
    "    '''\n",
    "    Take the difference between all cases for every field\n",
    "    and return in a similar dictionary\n",
    "    '''\n",
    "    diff_strs = get_cases_difference()\n",
    "    \n",
    "    return {x + ' - ' + y: datasets[x] - datasets[y] \n",
    "            for x, y in diff_strs}\n",
    "\n",
    "\n",
    "def passon_attrs_casename(datasets, diff_datasets):\n",
    "    '''\n",
    "    Create an attribute for each case.\n",
    "    Copy over attributes to the differences.\n",
    "    This is not nice, might be good to get rid of \n",
    "    the dependency on this.\n",
    "    '''\n",
    "    interests = get_d3interests()\n",
    "    \n",
    "    for ds_name, ds in diff_datasets.items():\n",
    "        ds.attrs['case_name'] = ds_name\n",
    "        for interest in interests:\n",
    "            ds[interest].attrs = dict(\n",
    "                datasets[random.choice(list(datasets.keys()))][interest].attrs)\n",
    "            ds[interest].attrs['case_name'] = ds_name\n",
    "        \n",
    "    for ds_name, ds in datasets.items():\n",
    "        for interest in interests:\n",
    "            ds[interest].attrs['case_name'] = ds_name\n",
    "            \n",
    "    return datasets, diff_datasets\n",
    "\n",
    "\n",
    "def prep_data(cases, ilev, lev, datetimes):\n",
    "    '''\n",
    "    Preprocess data for plotting. \n",
    "    pressure and datetimes need to be provided for unit conversion.\n",
    "    INPUT:\n",
    "    ilev --- level(interface) pressure [mbar]\n",
    "    lev --- layer(level) pressure [mbar]\n",
    "    datetimes --- time in pandas DatetimeIndex objects    \n",
    "    '''\n",
    "    interests = get_d3interests()\n",
    "    datasets = gather_interests_from_cases(cases, interests)\n",
    "    datasets = convert_units(datasets, ilev, lev, datetimes)\n",
    "    diff_datasets = take_difference_between_cases(datasets)\n",
    "    datasets, diff_datasets = passon_attrs_casename(datasets, diff_datasets)\n",
    "    return datasets, diff_datasets\n"
   ]
  },
  {
   "cell_type": "code",
   "execution_count": 55,
   "metadata": {
    "collapsed": false
   },
   "outputs": [],
   "source": [
    "def get_interests_colormaps():\n",
    "    cmaps = {'AQSNOW': 'PuBuGn',\n",
    "            'AREI': 'RdPu',\n",
    "            'AREL': 'RdPu',\n",
    "            'AWNC': 'RdPu',\n",
    "            'AWNI': 'RdPu',\n",
    "            'CLDICE': 'PuBuGn',\n",
    "            'CLDLIQ': 'PuBuGn',\n",
    "            'CLOUD': 'cool',\n",
    "            'DCQ': 'PRGn',\n",
    "            'DTCOND': 'PRGn',\n",
    "            'ICIMR': 'BuPu',\n",
    "            'ICWMR': 'BuPu',\n",
    "            'NUMICE': 'BuPu',\n",
    "            'NUMLIQ': 'BuPu',\n",
    "            'Q': 'PuBu',\n",
    "            'QRL': 'bwr',\n",
    "            'QRS': 'bwr',\n",
    "             'RELHUM': 'PuBu',\n",
    "            'T': 'PuRd'}\n",
    "    return cmaps\n",
    "\n",
    "def interests_using_bwr_cmap():\n",
    "    return ['QRL', 'QRS']\n",
    "\n",
    "\n",
    "\n",
    "# for writing plotted figures to disk\n",
    "def writefig_contourfs(d3sets, diff_d3sets, \n",
    "                       interests, sitename,\n",
    "                      fmt = 'png'):\n",
    "    '''\n",
    "    For each interest, produce one figure containing contour\n",
    "    plots for all cases, another figure containing contour \n",
    "    Hackish colormap selection here, basically look up a dictionary.\n",
    "    '''\n",
    "\n",
    "    for interest in interests:\n",
    "        \n",
    "        dirname = 'figs_{}'.format(sitename)\n",
    "        if dirname not in glob.glob(dirname):\n",
    "            os.mkdir(dirname)\n",
    "\n",
    "        if interest in interests_using_bwr_cmap():\n",
    "            cmap_name = 'bwr'\n",
    "        else:\n",
    "            cmap_name = 'PuBuGn'\n",
    "            \n",
    "        fig = climaviz.contourf_interest_for_all_cases(d3sets, interest,\n",
    "                                           cmap = plt.get_cmap(cmap_name))\n",
    "        fig.savefig(dirname + '/contourf_{}.{}'.format(interest, fmt))\n",
    "        plt.close()\n",
    "        \n",
    "        fig = climaviz.contourf_interest_for_all_cases(diff_d3sets, interest,\n",
    "                                           cmap = plt.get_cmap('bwr'))\n",
    "        fig.savefig(dirname + '/contourf_{}_diff.{}'.format(interest, fmt))\n",
    "        plt.close()\n",
    "        \n",
    "\n",
    "        \n",
    "def writefig_timeaveraged_VSplots(d3sets, diff_d3sets,\n",
    "                                 interests, sitename,\n",
    "                                 fmt = 'png'):\n",
    "    for interest in interests:        \n",
    "        dirname = 'figs_{}'.format(sitename)\n",
    "        if dirname not in glob.glob(dirname):\n",
    "            os.mkdir(dirname)\n",
    "            \n",
    "        fig = climaviz.plotVS_timeaveraged_interest_for_all_cases(d3sets, diff_d3sets, \n",
    "                               interest = interest, xscale = 'linear',\n",
    "                               bot_xlabels_rotate = 10., \n",
    "                               top_xlabels_rotate = 20.,\n",
    "                               linestyles = linestyles_by_case())\n",
    "        fig.savefig(dirname + '/plot_{}_timeaverage.{}'.format(interest, fmt))\n",
    "        plt.close()"
   ]
  },
  {
   "cell_type": "code",
   "execution_count": 56,
   "metadata": {
    "collapsed": false
   },
   "outputs": [],
   "source": [
    "def write_d3variable_html_page(iopname = 'mpace', interest = 'CLOUD',):\n",
    "    figdir = 'figs_' + iopname\n",
    "    with open(os.path.join(figdir, iopname + '_' + interest + '.html'), \n",
    "              mode = 'w', encoding = 'utf-8') as f:\n",
    "        f.write('''\n",
    "                <img src=\"contourf_{interest}.png\" height=\"450\">\n",
    "                <img src=\"contourf_{interest}_diff.png\" height=\"450\">\n",
    "                <br>\n",
    "                <img src=\"plot_{interest}_timeaverage.png\" height=\"500\">\n",
    "        '''.format(figdir = figdir, interest = interest))\n",
    "\n",
    "        \n",
    "def write_d3variable_links_html(iopname = 'mpace', interests = ['T']):\n",
    "    hyperlinks = ['<a href=\"figs_{iopname}/{iopname}_{interest}.html\">{interest}: {longname}</a>'\\\n",
    "                 .format(iopname = iopname, \n",
    "                 interest = interest, \n",
    "                 longname = d3sets[random.choice(list(d3sets.keys()))][interest].attrs['long_name']) \\\n",
    "                 for interest in interests]\n",
    "    return '<br>'.join(hyperlinks)\n",
    "    "
   ]
  },
  {
   "cell_type": "code",
   "execution_count": 57,
   "metadata": {
    "collapsed": false
   },
   "outputs": [],
   "source": [
    "# prepare data and differences\n",
    "d3sets, diff_d3sets = prep_data(cases, ilev, lev, datetimes) "
   ]
  },
  {
   "cell_type": "code",
   "execution_count": 65,
   "metadata": {
    "collapsed": false
   },
   "outputs": [
    {
     "data": {
      "image/png": "[encoded data removed]",
      "text/plain": [
       "<matplotlib.figure.Figure at 0x2aad13b50240>"
      ]
     },
     "metadata": {},
     "output_type": "display_data"
    }
   ],
   "source": [
    "fig = climaviz.contourf_interest_for_all_cases(d3sets, interest = 'TOT_CLD_VISTAU', cmap = plt.cm.get_cmap('bwr'))"
   ]
  },
  {
   "cell_type": "code",
   "execution_count": 66,
   "metadata": {
    "collapsed": false,
    "scrolled": false
   },
   "outputs": [
    {
     "name": "stdout",
     "output_type": "stream",
     "text": [
      "dfmax 49.0669 dfmin -72.3942 cmap_limit -71.612939859\n",
      "('both', 71.612939859008875)\n",
      "dfmax 73.3028 dfmin -65.0083 cmap_limit 59.2613250427\n",
      "('both', 59.261325042708933)\n",
      "dfmax 0.344193 dfmin -7.89475 cmap_limit -7.04480714483\n",
      "('both', 7.0448071448327045)\n",
      "dfmax 72870.5 dfmin -1.11829e+07 cmap_limit -8920577.4846\n",
      "('both', 8920577.4846002497)\n",
      "dfmax 58887.9 dfmin -55570.6 cmap_limit 56637.7797961\n",
      "('both', 56637.779796092364)\n",
      "dfmax 16.2987 dfmin -12.4332 cmap_limit 13.3836579475\n",
      "('both', 13.383657947535569)\n",
      "dfmax 2.9808 dfmin -49.4421 cmap_limit -46.0261774101\n",
      "('both', 46.02617741012611)\n",
      "dfmax 0.844075 dfmin -0.9989 cmap_limit -0.982451946354\n",
      "('both', 0.98245194635391409)\n",
      "dfmax 4.01438e-08 dfmin -5.52838e-08 cmap_limit -5.39978597658e-08\n",
      "('both', 5.3997859765786556e-08)\n",
      "dfmax 3.31674e-08 dfmin -6.14683e-08 cmap_limit -6.05010407373e-08\n",
      "('both', 6.0501040737293112e-08)\n",
      "dfmax 3.53839e-08 dfmin -3.27195e-08 cmap_limit 3.44924716103e-08\n",
      "('both', 3.4492471610292099e-08)\n",
      "dfmax 19.5947 dfmin -9.87803 cmap_limit 18.6409274033\n",
      "('both', 18.640927403258864)\n",
      "dfmax 15.0413 dfmin -11.043 cmap_limit 14.8326570937\n",
      "('both', 14.832657093715365)\n",
      "dfmax 11.7588 dfmin -13.7352 cmap_limit -12.1784630745\n",
      "('both', 12.17846307449358)\n",
      "dfmax 37.043 dfmin -67.7778 cmap_limit -65.8147097527\n",
      "('both', 65.814709752655247)\n",
      "dfmax 2.84891 dfmin -9.82561 cmap_limit -9.78133640747\n",
      "('both', 9.7813364074707074)\n",
      "dfmax 61.5323 dfmin -216.855 cmap_limit -216.091114276\n",
      "('both', 216.09111427612311)\n",
      "dfmax 2.00635 dfmin -0.161224 cmap_limit 1.93574055786\n",
      "('both', 1.9357405578613003)\n",
      "dfmax 37.3884 dfmin -42.682 cmap_limit -42.4071710159\n",
      "('both', 42.407171015930203)\n",
      "dfmax 3.06317 dfmin -10.1756 cmap_limit -10.1134105835\n",
      "('both', 10.113410583496101)\n",
      "dfmax 95.3741 dfmin -133.479 cmap_limit -133.064061914\n",
      "('both', 133.06406191406256)\n",
      "dfmax 3.7519 dfmin -2.07383 cmap_limit 3.74928266602\n",
      "('both', 3.7492826660156213)\n",
      "dfmax 2.19962e-05 dfmin -2.4561e-05 cmap_limit -2.39333315592e-05\n",
      "('both', 2.3933331559237628e-05)\n",
      "dfmax 2.43755e-05 dfmin -9.61154e-05 cmap_limit -8.40061615454e-05\n",
      "('both', 8.4006161545404639e-05)\n",
      "dfmax 89185.6 dfmin -73134.9 cmap_limit 72104.2879883\n",
      "('both', 72104.287988256212)\n",
      "dfmax 811850.0 dfmin -1.04515e+07 cmap_limit -10048592.0134\n",
      "('both', 10048592.013400044)\n",
      "dfmax 0.471567 dfmin -0.633211 cmap_limit -0.624434505063\n",
      "('both', 0.62443450506329634)\n",
      "dfmax 1.99025 dfmin -20.5546 cmap_limit -19.4412999969\n",
      "('both', 19.441299996948366)\n",
      "dfmax 1.80601 dfmin -15.413 cmap_limit -14.934798555\n",
      "('both', 14.934798554992728)\n",
      "dfmax 19.3275 dfmin -5.12905 cmap_limit 18.6350563934\n",
      "('both', 18.635056393431363)\n",
      "dfmax 0.351831 dfmin -1.54188 cmap_limit -1.46903889787\n",
      "('both', 1.4690388978719791)\n",
      "dfmax 44.8916 dfmin -101.646 cmap_limit -100.895709287\n",
      "('both', 100.89570928726205)\n",
      "dfmax 1.8363 dfmin -1.4502 cmap_limit 1.8304840332\n",
      "('both', 1.8304840332031167)\n",
      "dfmax 1.92518242674 dfmin -2.15889258683 cmap_limit -2.13316289805\n",
      "('both', 2.1331628980472712)\n"
     ]
    }
   ],
   "source": [
    "# plot and write figures to disk\n",
    "interests = get_d3interests()\n",
    "\n",
    "writefig_contourfs(d3sets, diff_d3sets, \n",
    "                   interests, sitename = iopname,\n",
    "                  fmt = 'png')\n",
    "\n",
    "writefig_timeaveraged_VSplots(d3sets, diff_d3sets,\n",
    "                              interests, iopname,\n",
    "                              fmt = 'png')\n",
    "# generate HTML page for each interest\n",
    "for interest in get_d3interests():\n",
    "    write_d3variable_html_page(iopname = iopname, interest = interest)\n"
   ]
  },
  {
   "cell_type": "code",
   "execution_count": 50,
   "metadata": {
    "collapsed": true
   },
   "outputs": [],
   "source": [
    "############### Variables of dimensions (lon, lat, time) ##########################\n",
    "###################################################################################"
   ]
  },
  {
   "cell_type": "code",
   "execution_count": 24,
   "metadata": {
    "collapsed": true
   },
   "outputs": [],
   "source": [
    "def get_d2interests():\n",
    "    interests = ['FSNT', 'FSNS', 'FLNT', 'FLNS', 'CLDLOW', 'CLDMED', 'CLDHGH', 'CLDTOT',\n",
    "                'TS', 'TREFHT', 'TROP_T', 'TROP_Z', 'TMQ', 'TGCLDIWP', 'TGCLDLWP', 'PRECT', 'PRECL', 'PRECC',\n",
    "                'LHFLX', 'SHFLX']\n",
    "    return interests"
   ]
  },
  {
   "cell_type": "code",
   "execution_count": 25,
   "metadata": {
    "collapsed": false
   },
   "outputs": [],
   "source": [
    "def prep_data():\n",
    "\n",
    "    interests = get_d2interests()\n",
    "\n",
    "    datasets = {}\n",
    "    \n",
    "    for casename, casepath in cases.items():\n",
    "        with xray.open_dataset(casepath, decode_times = False) as ds:\n",
    "            datasets[casename] = ds[interests].copy(deep = True)\n",
    "            datasets[casename].attrs['case_name'] = casename\n",
    "        \n",
    "    for casename, ds in datasets.items():\n",
    "        ds.coords['time'] = ('time', datetimes, {'units': 'datetime',\n",
    "                                                'long_name': 'time'})\n",
    "        \n",
    "        for k in ['PRECC', 'PRECL', 'PRECT']:\n",
    "            if k in ds:\n",
    "                ds[k] *= 1e3 * 86400\n",
    "                ds[k].attrs['units'] = 'mm/day'\n",
    "        \n",
    "    return datasets\n",
    "\n",
    "d2sets = prep_data()"
   ]
  },
  {
   "cell_type": "code",
   "execution_count": 26,
   "metadata": {
    "collapsed": false
   },
   "outputs": [],
   "source": [
    "#### Compute difference between all cases for all interested variables\n",
    "def prep_differences(datasets):\n",
    "    diff_strs = get_cases_difference()\n",
    "\n",
    "    return {x + ' - ' + y: datasets[x] - datasets[y] \n",
    "            for x, y in diff_strs}    \n",
    "\n",
    "diff_d2sets = prep_differences(d2sets)"
   ]
  },
  {
   "cell_type": "code",
   "execution_count": 27,
   "metadata": {
    "collapsed": false
   },
   "outputs": [],
   "source": [
    "#### Change/correct some of the attributes\n",
    "## Some of this is needed for labelling plots easily\n",
    "\n",
    "def prep_attributes(datasets, diff_datasets):\n",
    "    \n",
    "    interests = get_d2interests()\n",
    "    \n",
    "    for ds_name, ds in diff_datasets.items():\n",
    "        ds.attrs['case_name'] = ds_name\n",
    "        for interest in interests:\n",
    "            ds[interest].attrs = dict(\n",
    "                datasets[random.choice(list(datasets.keys()))][interest].attrs)\n",
    "            ds[interest].attrs['case_name'] = ds_name\n",
    "        \n",
    "    for ds_name, ds in datasets.items():\n",
    "        for interest in interests:\n",
    "            ds[interest].attrs['case_name'] = ds_name\n",
    "            \n",
    "    return datasets, diff_datasets\n",
    "\n",
    "d2sets, diff_d2sets = prep_attributes(d2sets, diff_d2sets)"
   ]
  },
  {
   "cell_type": "code",
   "execution_count": 28,
   "metadata": {
    "collapsed": false
   },
   "outputs": [],
   "source": [
    "# for writing figures to disk\n",
    "def get_line_props():\n",
    "    return {'All McICA': {'colour': 'g', 'linestyle': '--'},\n",
    "           'SW no McICA': {'colour': 'g', 'linestyle': '-'}}   \n",
    "\n",
    "def writefig_plotVS_timeseries(dsets, diff_dsets, interests,\n",
    "                              sitename, fmt = 'png'):\n",
    "    for interest in interests:\n",
    "        fig = climaviz.plotVS_interest_for_all_cases(dsets, diff_dsets, interest = interest,\n",
    "                                                    linestyles = linestyles_by_case())\n",
    "        \n",
    "        dirname = 'figs_{}'.format(sitename)\n",
    "        if dirname not in glob.glob(dirname):\n",
    "            os.mkdir(dirname)\n",
    "            \n",
    "        fig.savefig(dirname + '/plotVSts_{}.'.format(interest) + fmt)\n",
    "        plt.close()\n",
    "\n",
    "def write_d2variable_html_page(iopname = 'mpace', interest = 'FLNS'):\n",
    "    figdir = 'figs_{iopname}'.format(iopname = iopname)\n",
    "    with open(os.path.join(figdir, '{iopname}_{interest}.html'\\\n",
    "                           .format(iopname = iopname,\n",
    "                                   interest = interest)),\n",
    "             mode = 'w', encoding = 'utf-8') as f:\n",
    "        f.write('''\n",
    "        <img src=\"plotVSts_{interest}.png\" width=700>\n",
    "        '''.format(interest = interest))\n",
    "        \n",
    "def write_d2variables_html(iopname = 'mpace', interests = ['FLNS']):\n",
    "    hyperlinks = ['<a href=\"figs_{iopname}/{iopname}_{interest}.html\">{interest}: {longname}</a>'\\\n",
    "                 .format(iopname = iopname, interest = interest,\n",
    "                        longname = d2sets[random.choice(list(d2sets.keys()))]\\\n",
    "                         [interest].attrs['long_name'])\\\n",
    "                 for interest in interests]\n",
    "    return '<br>'.join(hyperlinks)\n"
   ]
  },
  {
   "cell_type": "code",
   "execution_count": 29,
   "metadata": {
    "collapsed": false
   },
   "outputs": [],
   "source": [
    "# plot and write figures to disk\n",
    "line_props = get_line_props()\n",
    "\n",
    "writefig_plotVS_timeseries(d2sets, diff_d2sets, get_d2interests(),\n",
    "                          iopname, fmt = 'png')  \n",
    "\n",
    "# generate HTML page for each interest\n",
    "for interest in get_d2interests():\n",
    "    write_d2variable_html_page(iopname = iopname, interest = interest)\n"
   ]
  },
  {
   "cell_type": "markdown",
   "metadata": {},
   "source": [
    "# Variables of dimensions (time, ilev, lon, lat)"
   ]
  },
  {
   "cell_type": "code",
   "execution_count": 53,
   "metadata": {
    "collapsed": false
   },
   "outputs": [
    {
     "data": {
      "text/html": [
       "<a href=\"figs_mpace/mpace_AQSNOW.html\">AQSNOW: Average snow mixing ratio</a><br><a href=\"figs_mpace/mpace_AREI.html\">AREI: Average ice effective radius</a><br><a href=\"figs_mpace/mpace_AREL.html\">AREL: Average droplet effective radius</a><br><a href=\"figs_mpace/mpace_AWNC.html\">AWNC: Average cloud water number conc</a><br><a href=\"figs_mpace/mpace_AWNI.html\">AWNI: Average cloud ice number conc</a><br><a href=\"figs_mpace/mpace_CLDICE.html\">CLDICE: Grid box averaged cloud ice amount</a><br><a href=\"figs_mpace/mpace_CLDLIQ.html\">CLDLIQ: Grid box averaged cloud liquid amount</a><br><a href=\"figs_mpace/mpace_CLOUD.html\">CLOUD: Cloud fraction</a><br><a href=\"figs_mpace/mpace_DCQ.html\">DCQ: Q tendency due to moist processes</a><br><a href=\"figs_mpace/mpace_DTCOND.html\">DTCOND: T tendency - moist processes</a><br><a href=\"figs_mpace/mpace_FDL.html\">FDL: Longwave downward flux</a><br><a href=\"figs_mpace/mpace_FDLC.html\">FDLC: Longwave clear-sky downward flux</a><br><a href=\"figs_mpace/mpace_FDS.html\">FDS: Shortwave downward flux</a><br><a href=\"figs_mpace/mpace_FDSC.html\">FDSC: Shortwave clear-sky downward flux</a><br><a href=\"figs_mpace/mpace_FUL.html\">FUL: Longwave upward flux</a><br><a href=\"figs_mpace/mpace_FULC.html\">FULC: Longwave clear-sky upward flux</a><br><a href=\"figs_mpace/mpace_FUS.html\">FUS: Shortwave upward flux</a><br><a href=\"figs_mpace/mpace_FUSC.html\">FUSC: Shortwave clear-sky upward flux</a><br><a href=\"figs_mpace/mpace_ICIMR.html\">ICIMR: Prognostic in-cloud ice mixing ratio</a><br><a href=\"figs_mpace/mpace_ICWMR.html\">ICWMR: Prognostic in-cloud water mixing ratio</a><br><a href=\"figs_mpace/mpace_NUMICE.html\">NUMICE: Grid box averaged cloud ice number</a><br><a href=\"figs_mpace/mpace_NUMLIQ.html\">NUMLIQ: Grid box averaged cloud liquid number</a><br><a href=\"figs_mpace/mpace_Q.html\">Q: Specific humidity</a><br><a href=\"figs_mpace/mpace_QRL.html\">QRL: Longwave heating rate</a><br><a href=\"figs_mpace/mpace_QRS.html\">QRS: Solar heating rate</a><br><a href=\"figs_mpace/mpace_RELHUM.html\">RELHUM: Relative humidity</a><br><a href=\"figs_mpace/mpace_T.html\">T: Temperature</a><br><a href=\"figs_mpace/mpace_TOT_CLD_VISTAU.html\">TOT_CLD_VISTAU: Total gbx cloud extinction visible sw optical depth</a>"
      ],
      "text/plain": [
       "<IPython.core.display.HTML object>"
      ]
     },
     "execution_count": 53,
     "metadata": {},
     "output_type": "execute_result"
    }
   ],
   "source": [
    "display.HTML(write_d3variable_links_html(iopname = iopname, interests = get_d3interests()))"
   ]
  },
  {
   "cell_type": "markdown",
   "metadata": {},
   "source": [
    "# Variables of dimensions (lon, lat, time)"
   ]
  },
  {
   "cell_type": "code",
   "execution_count": 31,
   "metadata": {
    "collapsed": false
   },
   "outputs": [
    {
     "data": {
      "text/html": [
       "<a href=\"figs_mpace/mpace_FSNT.html\">FSNT: Net solar flux at top of model</a><br><a href=\"figs_mpace/mpace_FSNS.html\">FSNS: Net solar flux at surface</a><br><a href=\"figs_mpace/mpace_FLNT.html\">FLNT: Net longwave flux at top of model</a><br><a href=\"figs_mpace/mpace_FLNS.html\">FLNS: Net longwave flux at surface</a><br><a href=\"figs_mpace/mpace_CLDLOW.html\">CLDLOW: Vertically-integrated low cloud</a><br><a href=\"figs_mpace/mpace_CLDMED.html\">CLDMED: Vertically-integrated mid-level cloud</a><br><a href=\"figs_mpace/mpace_CLDHGH.html\">CLDHGH: Vertically-integrated high cloud</a><br><a href=\"figs_mpace/mpace_CLDTOT.html\">CLDTOT: Vertically-integrated total cloud</a><br><a href=\"figs_mpace/mpace_TS.html\">TS: Surface temperature (radiative)</a><br><a href=\"figs_mpace/mpace_TREFHT.html\">TREFHT: Reference height temperature</a><br><a href=\"figs_mpace/mpace_TROP_T.html\">TROP_T: Tropopause Temperature</a><br><a href=\"figs_mpace/mpace_TROP_Z.html\">TROP_Z: Tropopause Height</a><br><a href=\"figs_mpace/mpace_TMQ.html\">TMQ: Total (vertically integrated) precipitable water</a><br><a href=\"figs_mpace/mpace_TGCLDIWP.html\">TGCLDIWP: Total grid-box cloud ice water path</a><br><a href=\"figs_mpace/mpace_TGCLDLWP.html\">TGCLDLWP: Total grid-box cloud liquid water path</a><br><a href=\"figs_mpace/mpace_PRECT.html\">PRECT: Total (convective and large-scale) precipitation rate (liq + ice)</a><br><a href=\"figs_mpace/mpace_PRECL.html\">PRECL: Large-scale (stable) precipitation rate (liq + ice)</a><br><a href=\"figs_mpace/mpace_PRECC.html\">PRECC: Convective precipitation rate (liq + ice)</a><br><a href=\"figs_mpace/mpace_LHFLX.html\">LHFLX: Surface latent heat flux</a><br><a href=\"figs_mpace/mpace_SHFLX.html\">SHFLX: Surface sensible heat flux</a>"
      ],
      "text/plain": [
       "<IPython.core.display.HTML object>"
      ]
     },
     "execution_count": 31,
     "metadata": {},
     "output_type": "execute_result"
    }
   ],
   "source": [
    "display.HTML(write_d2variables_html(iopname = iopname, interests = get_d2interests()))"
   ]
  },
  {
   "cell_type": "code",
   "execution_count": 32,
   "metadata": {
    "collapsed": false
   },
   "outputs": [
    {
     "data": {
      "text/html": [
       "<script>\n",
       "code_show=true; \n",
       "function code_toggle() {\n",
       " if (code_show){\n",
       " $('div.input').hide();\n",
       " } else {\n",
       " $('div.input').show();\n",
       " }\n",
       " code_show = !code_show\n",
       "} \n",
       "$( document ).ready(code_toggle);\n",
       "</script>\n",
       "<form action=\"javascript:code_toggle()\"><input type=\"submit\" value=\"Click here to toggle on/off the raw code.\"></form>"
      ],
      "text/plain": [
       "<IPython.core.display.HTML object>"
      ]
     },
     "execution_count": 32,
     "metadata": {},
     "output_type": "execute_result"
    }
   ],
   "source": [
    "display.HTML('''<script>\n",
    "code_show=true; \n",
    "function code_toggle() {\n",
    " if (code_show){\n",
    " $('div.input').hide();\n",
    " } else {\n",
    " $('div.input').show();\n",
    " }\n",
    " code_show = !code_show\n",
    "} \n",
    "$( document ).ready(code_toggle);\n",
    "</script>\n",
    "<form action=\"javascript:code_toggle()\"><input type=\"submit\" value=\"Click here to toggle on/off the raw code.\"></form>''')"
   ]
  },
  {
   "cell_type": "code",
   "execution_count": 33,
   "metadata": {
    "collapsed": false
   },
   "outputs": [
    {
     "data": {
      "text/plain": [
       "False"
      ]
     },
     "execution_count": 33,
     "metadata": {},
     "output_type": "execute_result"
    }
   ],
   "source": [
    "'TOT_CLD_VISTAU' in d3sets['All McICA']"
   ]
  },
  {
   "cell_type": "code",
   "execution_count": null,
   "metadata": {
    "collapsed": true
   },
   "outputs": [],
   "source": []
  }
 ],
 "metadata": {
  "kernelspec": {
   "display_name": "Python 3",
   "language": "python",
   "name": "python3"
  },
  "language_info": {
   "codemirror_mode": {
    "name": "ipython",
    "version": 3
   },
   "file_extension": ".py",
   "mimetype": "text/x-python",
   "name": "python",
   "nbconvert_exporter": "python",
   "pygments_lexer": "ipython3",
   "version": "3.4.3"
  }
 },
 "nbformat": 4,
 "nbformat_minor": 0
}
