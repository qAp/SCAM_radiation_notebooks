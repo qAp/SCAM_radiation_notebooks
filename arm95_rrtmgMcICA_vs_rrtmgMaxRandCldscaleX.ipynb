{
 "cells": [
  {
   "cell_type": "code",
   "execution_count": 1,
   "metadata": {
    "collapsed": false
   },
   "outputs": [],
   "source": [
    "import os\n",
    "import sys\n",
    "import glob\n",
    "import datetime\n",
    "%matplotlib inline\n",
    "import matplotlib\n",
    "import matplotlib.pyplot as plt\n",
    "import pandas as pd\n",
    "import numpy as np\n",
    "import xray\n",
    "import random\n",
    "import itertools\n",
    "import urllib\n",
    "import json\n",
    "import importlib as imp\n",
    "\n",
    "from IPython import display\n",
    "\n",
    "sys.path.append('/nuwa_cluster/home/jackyu/climatools/')\n",
    "import climatools.dates as climadates\n",
    "import climatools.viz as climaviz\n",
    "import climatools.misc as climamisc\n",
    "import climatools.muths as climaths\n",
    "import climatools.units as climaunits\n",
    "import climatools.geocoords as climageocoords\n",
    "import climatools.prepdatasets as climaprepdata\n",
    "\n",
    "sys.path.append('/nuwa_cluster/home/jackyu/radiation/rtmtools/')\n",
    "import rtmtools.rrtmg.sw.info as rrtmgswinfo\n",
    "\n",
    "#from IPython.lib.deepreload import reload as dreload\n",
    "imp.reload(climadates)\n",
    "imp.reload(climaviz)\n",
    "imp.reload(climamisc)\n",
    "imp.reload(climaths)\n",
    "imp.reload(climaunits)\n",
    "imp.reload(climaprepdata)\n",
    "\n",
    "imp.reload(rrtmgswinfo)\n",
    "\n",
    "\n",
    "matplotlib.rcParams.update({'font.size': 13, \n",
    "                            'xtick.direction': 'out',\n",
    "                            'ytick.direction': 'out'})"
   ]
  },
  {
   "cell_type": "markdown",
   "metadata": {},
   "source": [
    "# ARM95\n",
    "\n",
    "2 cases considered here are:\n",
    "\n",
    "* a McICA --- RRTMG with McICA cloud overlapping. Output sent to CAM\n",
    "* b MaxRandCldscaleX --- RRTMG with MaxRand cloud overlapping, where, in the longwave, cloud optical depth is scaled by conserving transmittance.  Output sent to CAM.\n",
    " "
   ]
  },
  {
   "cell_type": "code",
   "execution_count": 3,
   "metadata": {
    "collapsed": true
   },
   "outputs": [],
   "source": [
    "\n",
    "iopname = 'arm95_McICA_vs_MaxRandCldscaleX'\n",
    "\n",
    "def case_names():\n",
    "    'Give the different cases names'\n",
    "    return ['a McICA', 'b MaxRandCldscaleX']\n",
    "\n",
    "\n",
    "\n",
    "def get_cases_difference():\n",
    "    '''\n",
    "    define the differences between cases to compute\n",
    "    '''\n",
    "    return [('b MaxRandCldscaleX', 'a McICA'),]\n",
    "\n",
    "\n",
    "\n",
    "def get_cases():\n",
    "    '''\n",
    "    Returns a dictionary where the keys are cases, such\n",
    "    as a name for a SCAM run, and the values are the datasets (xray)\n",
    "    for the cases\n",
    "    '''\n",
    "    ds_a = xray.open_dataset('../examples/ARM95/cam5_noavg_LW_rrtmgMcICA_rrtmgMaxRand_SW_rrtmgMcICA_rrtmgMaxRand/camrun.cam.h0.0095-07-18-19800.nc', \n",
    "                                decode_times = False)\n",
    "    ds_b = xray.open_dataset('../examples/ARM95/cam5_noavg_LW_rrtmgMaxRandCldScaleX_SW_rrtmgMaxRand/camrun.cam.h0.0095-07-18-19800.nc',\n",
    "                                  decode_times = False)    \n",
    "    return dict(zip(case_names(), [ds_a, ds_b]))\n",
    "\n",
    "\n",
    "\n",
    "\n",
    "def compute_net_solar_fluxes(datasets):\n",
    "    '''\n",
    "    Compute net solar fluxes\n",
    "    '''\n",
    "    for casename, ds in datasets.items():\n",
    "        ds['net_FS'] = ds['FDS'] - ds['FUS']\n",
    "        ds['net_FS'].attrs['units'] = ds['FDS'].attrs['units']\n",
    "        ds['net_FS'].attrs['long_name'] = 'net solar flux'\n",
    "        ds['net_FS'].attrs['case_name'] = casename\n",
    "        \n",
    "        ds['net_FSC'] = ds['FDSC'] - ds['FUSC']\n",
    "        ds['net_FSC'].attrs['units'] = ds['FDSC'].attrs['units']\n",
    "        ds['net_FSC'].attrs['long_name'] = 'net solar flux (clear-sky)'\n",
    "        ds['net_FSC'].attrs['case_name'] = casename\n",
    "    return datasets\n",
    "\n",
    "\n",
    "\n",
    "\n",
    "def linestyles_by_case():\n",
    "    '''\n",
    "    Assign lineplot properties to the cases\n",
    "    '''\n",
    "    return dict(zip(case_names(), \n",
    "                    [{'colour': 'g', 'linestyle': '--'},\n",
    "                     {'colour': 'b', 'linestyle': '--'}]))\n",
    "\n",
    "\n",
    "\n",
    "def get_d3interests():\n",
    "    '''\n",
    "    List here all variables of interest that have dimensions (time, lev, lon, lat)\n",
    "    '''\n",
    "    d3interests = ['CLOUD', 'QRL', 'QRS', 'Q',\n",
    "                   'CLDICE', 'CLDLIQ', \n",
    "                   'AQSNOW', 'AREI', 'AREL',\n",
    "                   'AWNC', 'AWNI', \n",
    "                   'DCQ', 'DTCOND', \n",
    "                   'ICIMR', 'ICWMR', \n",
    "                   'NUMLIQ', 'NUMICE', 'T', 'RELHUM',\n",
    "                   'FUL', 'FDL', 'FULC', 'FDLC', 'net_FS', 'net_FSC',\n",
    "                   'FUS', 'FDS', 'FUSC', 'FDSC',\n",
    "                   'TOT_CLD_VISTAU']\n",
    "    return sorted(d3interests)\n",
    "\n",
    "\n",
    "\n",
    "\n",
    "def get_d2interests():\n",
    "    '''\n",
    "    List here all variables of interest that have dimensions (time, lon, lat)\n",
    "    '''\n",
    "    interests = ['FSNT', 'FSNS', 'FLNT', 'FLNS',\n",
    "                 'FSNTC', 'FSNSC', 'FLNTC', 'FLNSC',\n",
    "                 'CLDLOW', 'CLDMED', 'CLDHGH', 'CLDTOT',\n",
    "                 'TS', 'TREFHT', 'TROP_T', 'TROP_Z', 'TMQ', 'TGCLDIWP', 'TGCLDLWP', \n",
    "                 'PRECT', 'PRECL', 'PRECC',\n",
    "                 'LHFLX', 'SHFLX',\n",
    "                'SOLIN']\n",
    "    return interests\n",
    "\n",
    "\n",
    "\n",
    "\n",
    "\n",
    "\n",
    "def convert_units(datasets):\n",
    "    '''\n",
    "    Convert units for certain fields for all cases in DATASETS.\n",
    "    INPUT:\n",
    "    ilev --- level(interface) pressure in mbar\n",
    "    lev  --- layer(level) pressure in mbar\n",
    "    datetimes --- time in pandas DatetimeIndex objects\n",
    "    '''\n",
    "    for name, ds in datasets.items():\n",
    "        \n",
    "        for k in ['TOT_CLD_VISTAU',]:\n",
    "            if k in ds:\n",
    "                pass #ds[k].values[ds[k].isnull().values] = - 0.\n",
    "        \n",
    "        for k in ['FUS', 'FDS', 'net_FS', 'net_FSC']:\n",
    "            if k in ds:\n",
    "                ds[k] *= 1e3\n",
    "    \n",
    "        for k in ['QRL', 'QRS', 'DTCOND']:\n",
    "            if k in ds:\n",
    "                ds[k] *= 86400\n",
    "                ds[k].attrs['units'] = 'K/day'\n",
    "        \n",
    "        for k in ['Q', ]:\n",
    "            if k in ds:\n",
    "                ds[k] *= 1e3\n",
    "                ds[k].attrs['units'] = 'g/kg'\n",
    "        \n",
    "        for k in ['CLDICE', 'CLDLIQ', 'AQSNOW']:\n",
    "            if k in ds:\n",
    "                ds[k] *= 1e6\n",
    "                ds[k].attrs['units'] = 'mg/kg'\n",
    "                \n",
    "        for k in ['PRECC', 'PRECL', 'PRECT']:\n",
    "            if k in ds:\n",
    "                ds[k] *= 1e3 * 86400\n",
    "                ds[k].attrs['units'] = 'mm/day'\n",
    "                \n",
    "    return datasets"
   ]
  },
  {
   "cell_type": "code",
   "execution_count": 4,
   "metadata": {
    "collapsed": false
   },
   "outputs": [],
   "source": [
    "def prep_data(cases):\n",
    "    '''\n",
    "    Preprocess data for plotting. \n",
    "    pressure and datetimes need to be provided for unit conversion.\n",
    "    INPUT:\n",
    "    ilev --- level(interface) pressure [mbar]\n",
    "    lev --- layer(level) pressure [mbar]\n",
    "    datetimes --- time in pandas DatetimeIndex objects    \n",
    "    '''\n",
    "    interests = get_d3interests() + get_d2interests()\n",
    "    cases = climaprepdata.convert_pressure_time_units(cases)\n",
    "    cases = climaprepdata.gather_interests_from_cases(cases, interests)\n",
    "    cases = convert_units(cases)\n",
    "    diff_cases = climaprepdata.take_difference_between_cases(cases, get_cases_difference())\n",
    "    cases, diff_cases = climaprepdata.passon_attrs_casename(cases, diff_cases, interests = interests)\n",
    "    return cases, diff_cases\n"
   ]
  },
  {
   "cell_type": "code",
   "execution_count": 5,
   "metadata": {
    "collapsed": false
   },
   "outputs": [],
   "source": [
    "################## Variables of dimensions (time, lev, lon, lat) ########################\n",
    "#########################################################################################\n",
    "\n",
    "\n",
    "# for writing plotted figures to disk\n",
    "def writefig_contourfs(d3sets, diff_d3sets, interests, \n",
    "                       dir_label = 'example_dir_label', file_label = 'example_file_label',\n",
    "                       fmt = 'png'):\n",
    "    '''\n",
    "    For each interest, produce one figure containing contour\n",
    "    plots for all cases, another figure containing contour \n",
    "    Hackish colormap selection here, basically look up a dictionary.\n",
    "    '''\n",
    "\n",
    "    for interest in interests:\n",
    "        \n",
    "        dirname = 'figs_{}'.format(dir_label)\n",
    "        if dirname not in glob.glob(dirname):\n",
    "            os.mkdir(dirname)\n",
    "\n",
    "            \n",
    "        filename = '_'.join([interest, file_label]) if file_label else interest\n",
    "            \n",
    "        fig = climaviz.contourf_interest_for_all_cases(d3sets, interest,\n",
    "                                           cmap = 'auto-select')\n",
    "        fig.savefig(dirname + '/contourf_{}.{}'.format(filename, fmt))\n",
    "        plt.close()\n",
    "        \n",
    "        fig = climaviz.contourf_interest_for_all_cases(diff_d3sets, interest,\n",
    "                                           cmap = 'auto-select')\n",
    "        fig.savefig(dirname + '/contourf_{}_diff.{}'.format(filename, fmt))\n",
    "        plt.close()\n",
    "        \n",
    "\n",
    "        \n",
    "def writefig_timeaveraged_VSplots(d3sets, diff_d3sets, interests, \n",
    "                                 dir_label = 'example_dir_label', file_label = 'example_file_label',\n",
    "                                 fmt = 'png'):\n",
    "    '''\n",
    "    Average over the time dimension, plot against pressure.\n",
    "    Save figure.\n",
    "    '''\n",
    "    for interest in interests:        \n",
    "        dirname = 'figs_{}'.format(dir_label)\n",
    "        if dirname not in glob.glob(dirname):\n",
    "            os.mkdir(dirname)\n",
    "               \n",
    "        filename = '_'.join([interest, file_label]) if file_label else interest\n",
    "        \n",
    "        fig = climaviz.plotVS_timeaveraged_interest_for_all_cases(d3sets, diff_d3sets, \n",
    "                               interest = interest, xscale = 'linear',\n",
    "                               bot_xlabels_rotate = 10., \n",
    "                               top_xlabels_rotate = 20.,\n",
    "                               linestyles = linestyles_by_case())\n",
    "        fig.savefig(dirname + '/plot_{}_timeaverage.{}'.format(filename, fmt))\n",
    "        plt.close()\n",
    "        \n",
    "        \n",
    "        \n",
    "        \n",
    "def write_d3variable_html_page(interest = 'CLOUD', \n",
    "                               dir_label = 'example_dir_label', file_label = 'example_file_label'):\n",
    "    '''\n",
    "    Write and save an HTML for interest.  \n",
    "    Include figures produced for interest: contourfs and time-averaged line plots for example.\n",
    "    HTML file named by interest and file_label, saved in a directory named by dir_label.\n",
    "    '''\n",
    "    figdir = 'figs_' + dir_label\n",
    "    filename = '_'.join([interest, file_label]) if file_label else interest\n",
    "    with open(os.path.join(figdir, 'page_{}.html'.format(filename)), \n",
    "              mode = 'w', encoding = 'utf-8') as f:\n",
    "        f.write('''\n",
    "                <img src=\"contourf_{suffix}.png\" height=\"450\">\n",
    "                <img src=\"contourf_{suffix}_diff.png\" height=\"450\">\n",
    "                <br>\n",
    "                <img src=\"plot_{suffix}_timeaverage.png\" height=\"500\">\n",
    "        '''.format(figdir = figdir, suffix = filename))\n",
    "\n",
    "        \n",
    "        \n",
    "        \n",
    "def write_d3variable_links_html(d3sets, interests = ['T'],\n",
    "                               dir_label = 'example_dir_label', file_label = 'example_file_label'):\n",
    "    '''\n",
    "    Write HTML of hyperlinks to HTML files containing figures.\n",
    "    A hyperlink is written for each interest. \n",
    "    '''\n",
    "    hyperlinks = ['<a href=\"figs_{dir_label}/page_{filename}.html\">{interest}: {longname}</a>'\\\n",
    "                 .format(dir_label = dir_label, \n",
    "                         file_label = file_label, \n",
    "                         interest = interest, \n",
    "                         filename = '_'.join([interest, file_label]) if file_label else interest,\n",
    "                         longname = d3sets[random.choice(list(d3sets.keys()))][interest].attrs['long_name']) \\\n",
    "                 for interest in interests]\n",
    "    return '<br>'.join(hyperlinks)\n",
    "    "
   ]
  },
  {
   "cell_type": "code",
   "execution_count": 6,
   "metadata": {
    "collapsed": false
   },
   "outputs": [],
   "source": [
    "############### Variables of dimensions (lon, lat, time) ##########################\n",
    "###################################################################################\n",
    "\n",
    "\n",
    "def writefig_plotVS_timeseries(dsets, diff_dsets, interests,\n",
    "                               dir_label = 'example_dir_label',\n",
    "                               file_label = 'example_file_label',\n",
    "                               fmt = 'png'):\n",
    "    '''\n",
    "    Plot and save figures of time-series of variables of interest\n",
    "    '''\n",
    "    for interest in interests:\n",
    "        fig = climaviz.plotVS_interest_for_all_cases(dsets, diff_dsets, interest = interest,\n",
    "                                                    linestyles = linestyles_by_case())\n",
    "        \n",
    "        dirname = 'figs_{}'.format(dir_label)\n",
    "        \n",
    "        if dirname not in glob.glob(dirname):\n",
    "            os.mkdir(dirname)\n",
    "            \n",
    "        filename = '_'.join([interest, file_label]) if file_label else interest\n",
    "            \n",
    "        fig.savefig(dirname + '/plotVSts_{}.{}'.format(filename, fmt))\n",
    "        plt.close()\n",
    "\n",
    "\n",
    "        \n",
    "        \n",
    "def write_d2variable_html_page(interest = 'FLNS',\n",
    "                               dir_label = 'example_dir_label', \n",
    "                               file_label = 'example_file_label'):\n",
    "    '''\n",
    "    Write and save an HTML for interest.  \n",
    "    Include figures produced for interest: contourfs and time-averaged line plots for example.\n",
    "    HTML file named by interest and file_label, saved in a directory named by dir_label.   \n",
    "    '''\n",
    "    figdir = 'figs_{}'.format(dir_label)\n",
    "    filename = '_'.join([interest, file_label]) if file_label else interest\n",
    "    with open(os.path.join(figdir, 'page_{}.html'\\\n",
    "                           .format(filename)),\n",
    "             mode = 'w', encoding = 'utf-8') as f:\n",
    "        f.write('''\n",
    "        <img src=\"plotVSts_{}.png\" width=700>\n",
    "        '''.format(filename))\n",
    "        \n",
    "        \n",
    "        \n",
    "\n",
    "def write_d2variables_html(d2sets, interests = ['FLNS'],\n",
    "                          dir_label = 'example_dir_label',\n",
    "                          file_label = 'example_file_label'):\n",
    "    hyperlinks = ['<a href=\"figs_{dir_label}/page_{filename}.html\">{interest}: {longname}</a>'\\\n",
    "                 .format(dir_label = dir_label, \n",
    "                         interest = interest,\n",
    "                         filename = '_'.join([interest, file_label]) if file_label else interest,\n",
    "                         longname = d2sets[random.choice(list(d2sets.keys()))]\\\n",
    "                         [interest].attrs['long_name'])\\\n",
    "                 for interest in interests]\n",
    "    return '<br>'.join(hyperlinks)\n"
   ]
  },
  {
   "cell_type": "code",
   "execution_count": 7,
   "metadata": {
    "collapsed": false
   },
   "outputs": [],
   "source": [
    "def flux_essential_facts(dsets, diff_dsets):\n",
    "    casea, caseb = case_names()\n",
    "    case_diff = ' - '.join(get_cases_difference()[0])\n",
    "    \n",
    "    d = xray.Dataset()\n",
    "    \n",
    "    d['insolation'] = ((), \n",
    "                       dsets[casea]['FDS'].isel(lon = 0, lat = 0).\\\n",
    "                       mean(dim = 'time', keep_attrs = True).isel(ilev = 0),\n",
    "                      dsets[casea]['FDS'].attrs)\n",
    "        \n",
    "    d['TOA upward SW ({}) larger by'.format(caseb)] = ((), \n",
    "                                           diff_dsets[case_diff]['FUS'][{'lon': 0, 'lat': 0}].\\\n",
    "                                           mean(dim = 'time', keep_attrs = True)[{'ilev': 0}],\n",
    "                                          diff_dsets[case_diff]['FUS'].attrs)\n",
    "            \n",
    "    d['Sfc downward SW ({}) smaller by'.format(caseb)] = ((), \n",
    "                                              - diff_dsets[case_diff]['FDS'][dict(lon = 0, lat = 0)].\\\n",
    "                                              mean(dim = 'time', keep_attrs = True)[{'ilev': -1}],\n",
    "                                             diff_dsets[case_diff]['FDS'].attrs)\n",
    "        \n",
    "    d['Atmospheric SW heating ({}) smaller by'.format(caseb)] = ((),\n",
    "                                                     d['TOA upward SW ({}) larger by'.format(caseb)] \\\n",
    "                                                               - d['Sfc downward SW ({}) smaller by'.format(caseb)],\n",
    "                                                    d['TOA upward SW ({}) larger by'.format(caseb)].attrs)\n",
    "    \n",
    "    \n",
    "    \n",
    "    d['OLR ({}) smaller by'.format(caseb)] = ((), \n",
    "                                  - diff_dsets[case_diff]['FUL'][dict(lon = 0, lat = 0)].\\\n",
    "                                  mean(dim = 'time', keep_attrs = True).isel(ilev = 1),\n",
    "                                 diff_dsets[case_diff]['FUL'].attrs)\n",
    "    \n",
    "    \n",
    "    d['TOA (SW+LW) ({}) system cooler by'.format(caseb)] = ((), \n",
    "                                                d['TOA upward SW ({}) larger by'.format(caseb)]\\\n",
    "                                                          - d['OLR ({}) smaller by'.format(caseb)],\n",
    "                                               d['TOA upward SW ({}) larger by'.format(caseb)].attrs)\n",
    "\n",
    "    \n",
    "    d['clear sky albedo'] = ((),\n",
    "                             dsets[caseb]['FUSC'].\\\n",
    "                             isel(lon = 0, lat = 0).mean(dim = 'time', keep_attrs = True).\\\n",
    "                             isel(ilev = 0) / d['insolation'] * 100.,\n",
    "                            d['insolation'].attrs)\n",
    "    d['clear sky albedo'].attrs['units'] = '%'\n",
    "    \n",
    "    d['insolation (%)'] = ((), d['insolation'] / 1365 * 100, d['insolation'].attrs)\n",
    "    d['insolation (%)'].attrs['units'] = '%'\n",
    "    \n",
    "    \n",
    "    d['albedo TOA ({}) larger by'.format(caseb)] =  ((),\n",
    "                                         d['TOA upward SW ({}) larger by'.format(caseb)] / d['insolation'] * 100.,\n",
    "                                        d['insolation'].attrs)\n",
    "    d['albedo TOA ({}) larger by'.format(caseb)].attrs['units'] = '%'\n",
    "    \n",
    "    \n",
    "    name_values_units = [(k, da.values, da.attrs['units']) for k, da in d.items()]\n",
    "    names, values, units = zip(*name_values_units)\n",
    "    df = pd.DataFrame({'values': np.round(values, 2), 'units': units}, index = names)\n",
    "    \n",
    "    ordered_index = ['insolation',\n",
    "                    'insolation (%)',\n",
    "                    'clear sky albedo',\n",
    "                    'TOA upward SW ({}) larger by'.format(caseb),\n",
    "                    'albedo TOA ({}) larger by'.format(caseb),\n",
    "                    'Sfc downward SW ({}) smaller by'.format(caseb),\n",
    "                    'Atmospheric SW heating ({}) smaller by'.format(caseb),\n",
    "                    'OLR ({}) smaller by'.format(caseb),\n",
    "                    'TOA (SW+LW) ({}) system cooler by'.format(caseb)]\n",
    "    return df.loc[ordered_index, ['values', 'units']]\n",
    "\n"
   ]
  },
  {
   "cell_type": "code",
   "execution_count": 8,
   "metadata": {
    "collapsed": false,
    "scrolled": false
   },
   "outputs": [],
   "source": [
    "cases = get_cases()\n",
    "cases = compute_net_solar_fluxes(cases)\n",
    "dsets, diff_dsets = prep_data(cases) "
   ]
  },
  {
   "cell_type": "markdown",
   "metadata": {},
   "source": [
    "# Variables of dimensions (time, ilev, lon, lat)"
   ]
  },
  {
   "cell_type": "code",
   "execution_count": 9,
   "metadata": {
    "collapsed": false,
    "scrolled": false
   },
   "outputs": [],
   "source": [
    "# plot (time, lev/ilev, lon, lat) variables, write figures to disk \n",
    "\n",
    "writefig_contourfs(dsets, diff_dsets, get_d3interests(), \n",
    "                   dir_label = iopname, file_label = '',\n",
    "                  fmt = 'png')\n",
    "\n",
    "writefig_timeaveraged_VSplots(dsets, diff_dsets, get_d3interests(), \n",
    "                              dir_label = iopname, file_label = '',\n",
    "                              fmt = 'png')"
   ]
  },
  {
   "cell_type": "code",
   "execution_count": 10,
   "metadata": {
    "collapsed": false,
    "scrolled": false
   },
   "outputs": [
    {
     "data": {
      "text/html": [
       "<a href=\"figs_arm95_McICA_vs_MaxRandCldscaleX/page_AQSNOW.html\">AQSNOW: Average snow mixing ratio</a><br><a href=\"figs_arm95_McICA_vs_MaxRandCldscaleX/page_AREI.html\">AREI: Average ice effective radius</a><br><a href=\"figs_arm95_McICA_vs_MaxRandCldscaleX/page_AREL.html\">AREL: Average droplet effective radius</a><br><a href=\"figs_arm95_McICA_vs_MaxRandCldscaleX/page_AWNC.html\">AWNC: Average cloud water number conc</a><br><a href=\"figs_arm95_McICA_vs_MaxRandCldscaleX/page_AWNI.html\">AWNI: Average cloud ice number conc</a><br><a href=\"figs_arm95_McICA_vs_MaxRandCldscaleX/page_CLDICE.html\">CLDICE: Grid box averaged cloud ice amount</a><br><a href=\"figs_arm95_McICA_vs_MaxRandCldscaleX/page_CLDLIQ.html\">CLDLIQ: Grid box averaged cloud liquid amount</a><br><a href=\"figs_arm95_McICA_vs_MaxRandCldscaleX/page_CLOUD.html\">CLOUD: Cloud fraction</a><br><a href=\"figs_arm95_McICA_vs_MaxRandCldscaleX/page_DCQ.html\">DCQ: Q tendency due to moist processes</a><br><a href=\"figs_arm95_McICA_vs_MaxRandCldscaleX/page_DTCOND.html\">DTCOND: T tendency - moist processes</a><br><a href=\"figs_arm95_McICA_vs_MaxRandCldscaleX/page_FDL.html\">FDL: Longwave downward flux</a><br><a href=\"figs_arm95_McICA_vs_MaxRandCldscaleX/page_FDLC.html\">FDLC: Longwave clear-sky downward flux</a><br><a href=\"figs_arm95_McICA_vs_MaxRandCldscaleX/page_FDS.html\">FDS: Shortwave downward flux</a><br><a href=\"figs_arm95_McICA_vs_MaxRandCldscaleX/page_FDSC.html\">FDSC: Shortwave clear-sky downward flux</a><br><a href=\"figs_arm95_McICA_vs_MaxRandCldscaleX/page_FUL.html\">FUL: Longwave upward flux</a><br><a href=\"figs_arm95_McICA_vs_MaxRandCldscaleX/page_FULC.html\">FULC: Longwave clear-sky upward flux</a><br><a href=\"figs_arm95_McICA_vs_MaxRandCldscaleX/page_FUS.html\">FUS: Shortwave upward flux</a><br><a href=\"figs_arm95_McICA_vs_MaxRandCldscaleX/page_FUSC.html\">FUSC: Shortwave clear-sky upward flux</a><br><a href=\"figs_arm95_McICA_vs_MaxRandCldscaleX/page_ICIMR.html\">ICIMR: Prognostic in-cloud ice mixing ratio</a><br><a href=\"figs_arm95_McICA_vs_MaxRandCldscaleX/page_ICWMR.html\">ICWMR: Prognostic in-cloud water mixing ratio</a><br><a href=\"figs_arm95_McICA_vs_MaxRandCldscaleX/page_NUMICE.html\">NUMICE: Grid box averaged cloud ice number</a><br><a href=\"figs_arm95_McICA_vs_MaxRandCldscaleX/page_NUMLIQ.html\">NUMLIQ: Grid box averaged cloud liquid number</a><br><a href=\"figs_arm95_McICA_vs_MaxRandCldscaleX/page_Q.html\">Q: Specific humidity</a><br><a href=\"figs_arm95_McICA_vs_MaxRandCldscaleX/page_QRL.html\">QRL: Longwave heating rate</a><br><a href=\"figs_arm95_McICA_vs_MaxRandCldscaleX/page_QRS.html\">QRS: Solar heating rate</a><br><a href=\"figs_arm95_McICA_vs_MaxRandCldscaleX/page_RELHUM.html\">RELHUM: Relative humidity</a><br><a href=\"figs_arm95_McICA_vs_MaxRandCldscaleX/page_T.html\">T: Temperature</a><br><a href=\"figs_arm95_McICA_vs_MaxRandCldscaleX/page_TOT_CLD_VISTAU.html\">TOT_CLD_VISTAU: Total gbx cloud extinction visible sw optical depth</a><br><a href=\"figs_arm95_McICA_vs_MaxRandCldscaleX/page_net_FS.html\">net_FS: net solar flux</a><br><a href=\"figs_arm95_McICA_vs_MaxRandCldscaleX/page_net_FSC.html\">net_FSC: net solar flux (clear-sky)</a>"
      ],
      "text/plain": [
       "<IPython.core.display.HTML object>"
      ]
     },
     "execution_count": 10,
     "metadata": {},
     "output_type": "execute_result"
    }
   ],
   "source": [
    "# create HTML files and generate HTML page for each interest\n",
    "for interest in get_d3interests():\n",
    "    write_d3variable_html_page(interest = interest, dir_label = iopname, file_label = '')\n",
    "\n",
    "\n",
    "display.HTML(write_d3variable_links_html(dsets, interests = get_d3interests(), dir_label = iopname, file_label = ''))"
   ]
  },
  {
   "cell_type": "markdown",
   "metadata": {},
   "source": [
    "# Variables of dimensions (lon, lat, time)"
   ]
  },
  {
   "cell_type": "code",
   "execution_count": 11,
   "metadata": {
    "collapsed": false,
    "scrolled": false
   },
   "outputs": [],
   "source": [
    "# plot (time, lon, lat) variables, and write figures to disk and create HTML files\n",
    "writefig_plotVS_timeseries(dsets, diff_dsets, get_d2interests(),\n",
    "                           dir_label = iopname, file_label = '',\n",
    "                           fmt = 'png')  "
   ]
  },
  {
   "cell_type": "code",
   "execution_count": 12,
   "metadata": {
    "collapsed": false
   },
   "outputs": [
    {
     "data": {
      "text/html": [
       "<a href=\"figs_arm95_McICA_vs_MaxRandCldscaleX/page_FSNT.html\">FSNT: Net solar flux at top of model</a><br><a href=\"figs_arm95_McICA_vs_MaxRandCldscaleX/page_FSNS.html\">FSNS: Net solar flux at surface</a><br><a href=\"figs_arm95_McICA_vs_MaxRandCldscaleX/page_FLNT.html\">FLNT: Net longwave flux at top of model</a><br><a href=\"figs_arm95_McICA_vs_MaxRandCldscaleX/page_FLNS.html\">FLNS: Net longwave flux at surface</a><br><a href=\"figs_arm95_McICA_vs_MaxRandCldscaleX/page_FSNTC.html\">FSNTC: Clearsky net solar flux at top of model</a><br><a href=\"figs_arm95_McICA_vs_MaxRandCldscaleX/page_FSNSC.html\">FSNSC: Clearsky net solar flux at surface</a><br><a href=\"figs_arm95_McICA_vs_MaxRandCldscaleX/page_FLNTC.html\">FLNTC: Clearsky net longwave flux at top of model</a><br><a href=\"figs_arm95_McICA_vs_MaxRandCldscaleX/page_FLNSC.html\">FLNSC: Clearsky net longwave flux at surface</a><br><a href=\"figs_arm95_McICA_vs_MaxRandCldscaleX/page_CLDLOW.html\">CLDLOW: Vertically-integrated low cloud</a><br><a href=\"figs_arm95_McICA_vs_MaxRandCldscaleX/page_CLDMED.html\">CLDMED: Vertically-integrated mid-level cloud</a><br><a href=\"figs_arm95_McICA_vs_MaxRandCldscaleX/page_CLDHGH.html\">CLDHGH: Vertically-integrated high cloud</a><br><a href=\"figs_arm95_McICA_vs_MaxRandCldscaleX/page_CLDTOT.html\">CLDTOT: Vertically-integrated total cloud</a><br><a href=\"figs_arm95_McICA_vs_MaxRandCldscaleX/page_TS.html\">TS: Surface temperature (radiative)</a><br><a href=\"figs_arm95_McICA_vs_MaxRandCldscaleX/page_TREFHT.html\">TREFHT: Reference height temperature</a><br><a href=\"figs_arm95_McICA_vs_MaxRandCldscaleX/page_TROP_T.html\">TROP_T: Tropopause Temperature</a><br><a href=\"figs_arm95_McICA_vs_MaxRandCldscaleX/page_TROP_Z.html\">TROP_Z: Tropopause Height</a><br><a href=\"figs_arm95_McICA_vs_MaxRandCldscaleX/page_TMQ.html\">TMQ: Total (vertically integrated) precipitable water</a><br><a href=\"figs_arm95_McICA_vs_MaxRandCldscaleX/page_TGCLDIWP.html\">TGCLDIWP: Total grid-box cloud ice water path</a><br><a href=\"figs_arm95_McICA_vs_MaxRandCldscaleX/page_TGCLDLWP.html\">TGCLDLWP: Total grid-box cloud liquid water path</a><br><a href=\"figs_arm95_McICA_vs_MaxRandCldscaleX/page_PRECT.html\">PRECT: Total (convective and large-scale) precipitation rate (liq + ice)</a><br><a href=\"figs_arm95_McICA_vs_MaxRandCldscaleX/page_PRECL.html\">PRECL: Large-scale (stable) precipitation rate (liq + ice)</a><br><a href=\"figs_arm95_McICA_vs_MaxRandCldscaleX/page_PRECC.html\">PRECC: Convective precipitation rate (liq + ice)</a><br><a href=\"figs_arm95_McICA_vs_MaxRandCldscaleX/page_LHFLX.html\">LHFLX: Surface latent heat flux</a><br><a href=\"figs_arm95_McICA_vs_MaxRandCldscaleX/page_SHFLX.html\">SHFLX: Surface sensible heat flux</a><br><a href=\"figs_arm95_McICA_vs_MaxRandCldscaleX/page_SOLIN.html\">SOLIN: Solar insolation</a>"
      ],
      "text/plain": [
       "<IPython.core.display.HTML object>"
      ]
     },
     "execution_count": 12,
     "metadata": {},
     "output_type": "execute_result"
    }
   ],
   "source": [
    "# generate HTML page for each interest\n",
    "for interest in get_d2interests():\n",
    "    write_d2variable_html_page(interest = interest, dir_label = iopname, file_label = '')\n",
    "\n",
    "\n",
    "\n",
    "display.HTML(write_d2variables_html(dsets, interests = get_d2interests(),\n",
    "                                   dir_label = iopname, file_label = ''))"
   ]
  },
  {
   "cell_type": "markdown",
   "metadata": {},
   "source": [
    "# Flux summary"
   ]
  },
  {
   "cell_type": "code",
   "execution_count": 13,
   "metadata": {
    "collapsed": false
   },
   "outputs": [
    {
     "data": {
      "text/html": [
       "<div style=\"max-height:1000px;max-width:1500px;overflow:auto;\">\n",
       "<table border=\"1\" class=\"dataframe\">\n",
       "  <thead>\n",
       "    <tr style=\"text-align: right;\">\n",
       "      <th></th>\n",
       "      <th>values</th>\n",
       "      <th>units</th>\n",
       "    </tr>\n",
       "  </thead>\n",
       "  <tbody>\n",
       "    <tr>\n",
       "      <th>insolation</th>\n",
       "      <td>456.48</td>\n",
       "      <td>W/m2</td>\n",
       "    </tr>\n",
       "    <tr>\n",
       "      <th>insolation (%)</th>\n",
       "      <td>33.44</td>\n",
       "      <td>%</td>\n",
       "    </tr>\n",
       "    <tr>\n",
       "      <th>clear sky albedo</th>\n",
       "      <td>13.75</td>\n",
       "      <td>%</td>\n",
       "    </tr>\n",
       "    <tr>\n",
       "      <th>TOA upward SW (b MaxRandCldscaleX) larger by</th>\n",
       "      <td>15.24</td>\n",
       "      <td>W/m2</td>\n",
       "    </tr>\n",
       "    <tr>\n",
       "      <th>albedo TOA (b MaxRandCldscaleX) larger by</th>\n",
       "      <td>3.34</td>\n",
       "      <td>%</td>\n",
       "    </tr>\n",
       "    <tr>\n",
       "      <th>Sfc downward SW (b MaxRandCldscaleX) smaller by</th>\n",
       "      <td>19.72</td>\n",
       "      <td>W/m2</td>\n",
       "    </tr>\n",
       "    <tr>\n",
       "      <th>Atmospheric SW heating (b MaxRandCldscaleX) smaller by</th>\n",
       "      <td>-4.49</td>\n",
       "      <td>W/m2</td>\n",
       "    </tr>\n",
       "    <tr>\n",
       "      <th>OLR (b MaxRandCldscaleX) smaller by</th>\n",
       "      <td>1.14</td>\n",
       "      <td>W/m2</td>\n",
       "    </tr>\n",
       "    <tr>\n",
       "      <th>TOA (SW+LW) (b MaxRandCldscaleX) system cooler by</th>\n",
       "      <td>14.10</td>\n",
       "      <td>W/m2</td>\n",
       "    </tr>\n",
       "  </tbody>\n",
       "</table>\n",
       "</div>"
      ],
      "text/plain": [
       "                                                    values units\n",
       "insolation                                          456.48  W/m2\n",
       "insolation (%)                                       33.44     %\n",
       "clear sky albedo                                     13.75     %\n",
       "TOA upward SW (b MaxRandCldscaleX) larger by         15.24  W/m2\n",
       "albedo TOA (b MaxRandCldscaleX) larger by             3.34     %\n",
       "Sfc downward SW (b MaxRandCldscaleX) smaller by      19.72  W/m2\n",
       "Atmospheric SW heating (b MaxRandCldscaleX) sma...   -4.49  W/m2\n",
       "OLR (b MaxRandCldscaleX) smaller by                   1.14  W/m2\n",
       "TOA (SW+LW) (b MaxRandCldscaleX) system cooler by    14.10  W/m2"
      ]
     },
     "execution_count": 13,
     "metadata": {},
     "output_type": "execute_result"
    }
   ],
   "source": [
    "flux_essential_facts(dsets, diff_dsets)"
   ]
  },
  {
   "cell_type": "code",
   "execution_count": 11,
   "metadata": {
    "collapsed": false,
    "scrolled": false
   },
   "outputs": [],
   "source": [
    "def slice_in_time(cases, time = slice(None)):\n",
    "    return {casename: ds.sel(time = time) for casename, ds in cases.items()}"
   ]
  },
  {
   "cell_type": "code",
   "execution_count": 282,
   "metadata": {
    "collapsed": false
   },
   "outputs": [],
   "source": [
    "which_timeslice = slice('1995-07-19 05:00:00', '1995-07-25 05:00:00')\n",
    "\n",
    "d3sets_subtime = slice_in_time(d3sets, time = which_timeslice)\n",
    "diff_d3sets_subtime = slice_in_time(diff_d3sets, time = which_timeslice)"
   ]
  },
  {
   "cell_type": "code",
   "execution_count": 283,
   "metadata": {
    "collapsed": false
   },
   "outputs": [],
   "source": [
    "# plot and write figures to disk\n",
    "#interests = get_d3interests()\n",
    "\n",
    "#writefig_contourfs(d3sets_subtime, diff_d3sets_subtime, interests, \n",
    "#                   dir_label = iopname, file_label = which_timeslice,\n",
    "#                  fmt = 'png')\n",
    "\n",
    "#writefig_timeaveraged_VSplots(d3sets_subtime, diff_d3sets_subtime, interests, \n",
    "#                              dir_label = iopname, file_label = which_timeslice,\n",
    "#                              fmt = 'png')\n"
   ]
  },
  {
   "cell_type": "code",
   "execution_count": 284,
   "metadata": {
    "collapsed": false
   },
   "outputs": [],
   "source": [
    "# generate HTML page for each interest\n",
    "#for interest in get_d3interests():\n",
    "#    write_d3variable_html_page(interest = interest, dir_label = iopname, file_label = which_timeslice)\n",
    "\n",
    "\n",
    "#display.HTML((write_d3variable_links_html(interests = interests, dir_label = iopname, file_label = which_timeslice)))"
   ]
  },
  {
   "cell_type": "code",
   "execution_count": 285,
   "metadata": {
    "collapsed": false
   },
   "outputs": [
    {
     "data": {
      "text/html": [
       "<script>\n",
       "code_show=true; \n",
       "function code_toggle() {\n",
       " if (code_show){\n",
       " $('div.input').hide();\n",
       " } else {\n",
       " $('div.input').show();\n",
       " }\n",
       " code_show = !code_show\n",
       "} \n",
       "$( document ).ready(code_toggle);\n",
       "</script>\n",
       "<form action=\"javascript:code_toggle()\"><input type=\"submit\" value=\"Click here to toggle on/off the raw code.\"></form>"
      ],
      "text/plain": [
       "<IPython.core.display.HTML object>"
      ]
     },
     "execution_count": 285,
     "metadata": {},
     "output_type": "execute_result"
    }
   ],
   "source": [
    "display.HTML('''<script>\n",
    "code_show=true; \n",
    "function code_toggle() {\n",
    " if (code_show){\n",
    " $('div.input').hide();\n",
    " } else {\n",
    " $('div.input').show();\n",
    " }\n",
    " code_show = !code_show\n",
    "} \n",
    "$( document ).ready(code_toggle);\n",
    "</script>\n",
    "<form action=\"javascript:code_toggle()\"><input type=\"submit\" value=\"Click here to toggle on/off the raw code.\"></form>''')"
   ]
  },
  {
   "cell_type": "code",
   "execution_count": null,
   "metadata": {
    "collapsed": true
   },
   "outputs": [],
   "source": []
  }
 ],
 "metadata": {
  "kernelspec": {
   "display_name": "Python 3",
   "language": "python",
   "name": "python3"
  },
  "language_info": {
   "codemirror_mode": {
    "name": "ipython",
    "version": 3
   },
   "file_extension": ".py",
   "mimetype": "text/x-python",
   "name": "python",
   "nbconvert_exporter": "python",
   "pygments_lexer": "ipython3",
   "version": "3.4.3"
  }
 },
 "nbformat": 4,
 "nbformat_minor": 0
}
