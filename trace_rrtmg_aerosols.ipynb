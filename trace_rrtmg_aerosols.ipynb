{
 "cells": [
  {
   "cell_type": "code",
   "execution_count": 8,
   "metadata": {
    "collapsed": false
   },
   "outputs": [],
   "source": [
    "%matplotlib inline\n",
    "import os\n",
    "import sys\n",
    "import itertools\n",
    "import re\n",
    "import pprint\n",
    "import imp\n",
    "\n",
    "import xray\n",
    "import numpy as np\n",
    "import pandas as pd\n",
    "\n",
    "sys.path.append('/nuwa_cluster/home/jackyu/climatools/')\n",
    "import climatools.misc as climamisc\n",
    "imp.reload(climamisc)\n",
    "\n",
    "from IPython.display import HTML"
   ]
  },
  {
   "cell_type": "markdown",
   "metadata": {},
   "source": [
    "# Subroutine relations"
   ]
  },
  {
   "cell_type": "code",
   "execution_count": 27,
   "metadata": {
    "collapsed": true
   },
   "outputs": [],
   "source": [
    "def fortran_files():\n",
    "    dir_cam = '/nuwa_cluster/home/jackyu/climate_models/cesm1_2_2/models/atm/cam/src/physics/cam/'\n",
    "    cam_files = ['aer_rad_props.F90', \n",
    "                 'modal_aer_opt.F90',\n",
    "                 'rad_constituents.F90', \n",
    "                 'phys_prop.F90', \n",
    "                 'physpkg.F90']\n",
    "    fpaths = [os.path.join(dir_cam, file) for file in cam_files]\n",
    "    return fpaths"
   ]
  },
  {
   "cell_type": "code",
   "execution_count": 3,
   "metadata": {
    "collapsed": false
   },
   "outputs": [],
   "source": [
    "#pprint.pprint(climamisc.Fortran_subroutine_relations_from_files(paths_fortran = fortran_files()))"
   ]
  },
  {
   "cell_type": "markdown",
   "metadata": {
    "collapsed": true
   },
   "source": [
    "# Aerosol data files\n",
    "\n",
    "Data for certain aerosol optical properties are read in from the following files during initialisation (so this is done only once at the start of each model run), by the subroutine physprop_init().  Shown here are the name of the file, the optics method and the file index.  "
   ]
  },
  {
   "cell_type": "code",
   "execution_count": 1,
   "metadata": {
    "collapsed": false
   },
   "outputs": [],
   "source": [
    "def aer_dir():\n",
    "    return '/nuwa_data/data/cesm1/inputdata/atm/cam/physprops/'\n",
    "\n",
    "def nc_files_read_in_physprop_init():\n",
    "    print( '(file name, optics method, fileindex)' )\n",
    "    filelist = [('mam3_mode1_rrtmg_c110318.nc', 'modal', 1),\n",
    "                ('mam3_mode2_rrtmg_c110318.nc', 'modal', 2),\n",
    "                ('mam3_mode3_rrtmg_c110318.nc', 'modal', 3),\n",
    "                ('sulfate_rrtmg_c080918.nc', 'hygroscopic', 4),\n",
    "                ('ocpho_rrtmg_c101112.nc', 'insoluble', 5),\n",
    "                ('ocphi_rrtmg_c100508.nc', 'hygroscopic', 6),\n",
    "                ('bcpho_rrtmg_c100508.nc', 'insoluble', 7),\n",
    "                ('dust4_rrtmg_c090521.nc', 'insoluble', 8),\n",
    "                ('ssam_rrtmg_c100508.nc', 'hygroscopic', 9)]\n",
    "    return filelist"
   ]
  },
  {
   "cell_type": "code",
   "execution_count": 6,
   "metadata": {
    "collapsed": false,
    "scrolled": false
   },
   "outputs": [],
   "source": [
    "# mam3_mode1\n",
    "def print_mam3mode1():\n",
    "    print('mam3 mode1')\n",
    "\n",
    "    print('''\n",
    "    Note that because Fortran fills its arrays' elements with a different order, the order of the dimensions\n",
    "    displayed here by xray are opposite of those in the Fortran code --- transpose.\n",
    "    ''')\n",
    "\n",
    "    with xray.open_dataset(\n",
    "        os.path.join(aer_dir(), 'mam3_mode1_rrtmg_c110318.nc')) as ds:\n",
    "        #print(ds)\n",
    "        print()\n",
    "        print('extpsw')\n",
    "        print(ds['extpsw'].attrs)\n",
    "        print()\n",
    "        print('abspsw')\n",
    "        print(ds['abspsw'].attrs)\n",
    "        print()\n",
    "        print('asmpsw')\n",
    "        print(ds['asmpsw'].attrs)\n",
    "        print()\n",
    "        print('sigma_logr_aer')\n",
    "        print(ds['sigmag'].attrs)\n",
    "        print()\n",
    "        print('refrtabsw')\n",
    "        print(ds['refindex_real_sw'].attrs)\n",
    "        print()\n",
    "        print('refitabsw')\n",
    "        print(ds['refindex_im_sw'].attrs)\n",
    "        \n",
    "        \n",
    "def print_bcpho():\n",
    "    print('bcpho_rrtmg_c100508.nc')\n",
    "\n",
    "    with xray.open_dataset(os.path.join(aer_dir(), 'bcpho_rrtmg_c100508.nc')) as ds:\n",
    "        print(ds)\n",
    "#        print()\n",
    "#        print('density_aer')\n",
    "#        print(ds['density'].attrs)\n",
    "#        print()\n",
    "#        print('hygro_aer')\n",
    "#       print(ds['hygroscopicity'].attrs)\n",
    "#       print()\n",
    "        "
   ]
  },
  {
   "cell_type": "code",
   "execution_count": 2,
   "metadata": {
    "collapsed": false
   },
   "outputs": [
    {
     "name": "stdout",
     "output_type": "stream",
     "text": [
      "(file name, optics method, fileindex)\n"
     ]
    },
    {
     "data": {
      "text/plain": [
       "[('mam3_mode1_rrtmg_c110318.nc', 'modal', 1),\n",
       " ('mam3_mode2_rrtmg_c110318.nc', 'modal', 2),\n",
       " ('mam3_mode3_rrtmg_c110318.nc', 'modal', 3),\n",
       " ('sulfate_rrtmg_c080918.nc', 'hygroscopic', 4),\n",
       " ('ocpho_rrtmg_c101112.nc', 'insoluble', 5),\n",
       " ('ocphi_rrtmg_c100508.nc', 'hygroscopic', 6),\n",
       " ('bcpho_rrtmg_c100508.nc', 'insoluble', 7),\n",
       " ('dust4_rrtmg_c090521.nc', 'insoluble', 8),\n",
       " ('ssam_rrtmg_c100508.nc', 'hygroscopic', 9)]"
      ]
     },
     "execution_count": 2,
     "metadata": {},
     "output_type": "execute_result"
    }
   ],
   "source": [
    "nc_files_read_in_physprop_init()"
   ]
  },
  {
   "cell_type": "markdown",
   "metadata": {},
   "source": [
    "Optics method determines what optical properties are imported.  The file index is used to access the optical properties during model run and is in fact just the order in which the files are read during initialisation.  For example, mam3_mode3_rrtmg_c110318.nc is the third file to be opened and read, so it has a file index of 3.  \n",
    "\n",
    "The data imported from these files are all saved in the *physprop* object created during initialisation. So, physprop(1) points to data imported from the file mam3_mode1_rrtmg_c110318.nc, while physprop(7) points to data imported from file bcpho_rrtmg_c100508.nc.\n",
    "\n",
    "Data stored in physprop are needed when computing aerosol optical properties that are to be used in radiation calculations.  They are constant in time and so do not change with model's nstep.  \n",
    "*Which ones* and *How* they are used (for example, how they are combined with other dynamic factors at each nstep) depends on the aerosol model chosen. \n",
    "\n",
    "As an example, the content of bcpho_rrtmg_c100508.nc is:"
   ]
  },
  {
   "cell_type": "code",
   "execution_count": 9,
   "metadata": {
    "collapsed": false
   },
   "outputs": [
    {
     "name": "stdout",
     "output_type": "stream",
     "text": [
      "bcpho_rrtmg_c100508.nc\n",
      "<xray.Dataset>\n",
      "Dimensions:                      (lw_band: 16, near-ir_band: 44, rh_idx: 1, sw_band: 14)\n",
      "Coordinates:\n",
      "  * lw_band                      (lw_band) int64 0 1 2 3 4 5 6 7 8 9 10 11 ...\n",
      "  * near-ir_band                 (near-ir_band) int64 0 1 2 3 4 5 6 7 8 9 10 ...\n",
      "  * rh_idx                       (rh_idx) int64 0\n",
      "  * sw_band                      (sw_band) int64 0 1 2 3 4 5 6 7 8 9 10 11 12 13\n",
      "Data variables:\n",
      "    refindex_real_aer_sw         (sw_band) >f8 1.95 1.95 1.95 1.95 1.95 1.95 ...\n",
      "    refindex_im_aer_sw           (sw_band) >f8 -0.79 -0.79 -0.79 -0.79 -0.79 ...\n",
      "    hygroscopicity               >f8 1e-10\n",
      "    asm_sw                       (sw_band, rh_idx) >f8 0.0465 0.06675 ...\n",
      "    dryrad                       >f8 1.18e-08\n",
      "    refindex_real_aer_lw         (lw_band) >f8 1.95 1.95 1.95 1.95 1.95 1.95 ...\n",
      "    ext_sw                       (sw_band, rh_idx) >f8 792.7 999.8 1.222e+03 ...\n",
      "    opticstype                   |S12 b'insoluble   '\n",
      "    num_to_mass_ratio            >f8 1.672e+19\n",
      "    refindex_im_water_lw         (lw_band) >f8 -0.336 -0.36 -0.4262 -0.4034 ...\n",
      "    refindex_im_water_near-ir    (near-ir_band) >f8 -3.595e-08 -5.678e-08 ...\n",
      "    opticsmethod                 |S32 b'insoluble                       '\n",
      "    abs_lw                       (lw_band, rh_idx) >f8 5.184 109.8 148.8 ...\n",
      "    radmin_aer                   >f8 6.606e-10\n",
      "    density                      >f8 1.7e+03\n",
      "    refindex_im_water_sw         (sw_band) >f8 -0.0142 -0.1577 -0.001516 ...\n",
      "    ssa_sw                       (sw_band, rh_idx) >f8 0.006076 0.01113 ...\n",
      "    ssa_nir                      (near-ir_band, rh_idx) >f8 0.1652 0.163 ...\n",
      "    refindex_im_aer_lw           (lw_band) >f8 -0.79 -0.79 -0.79 -0.79 -0.79 ...\n",
      "    abs_sw                       (sw_band, rh_idx) >f8 787.8 988.6 1.2e+03 ...\n",
      "    radmax_aer                   >f8 5.51e-07\n",
      "    wavelength_near-ir           (near-ir_band) >f8 7.01e-07 7.095e-07 ...\n",
      "    refindex_im_aer_near-ir      (near-ir_band) >f8 -0.79 -0.79 -0.79 -0.79 ...\n",
      "    asym_lw                      (lw_band, rh_idx) >f8 1.644e-06 0.0009665 ...\n",
      "    refindex_real_water_near-ir  (near-ir_band) >f8 1.331 1.331 1.331 1.33 ...\n",
      "    ext_nir                      (near-ir_band, rh_idx) >f8 5.481e+03 ...\n",
      "    refindex_real_water_sw       (sw_band) >f8 1.408 1.324 1.277 1.302 1.312 ...\n",
      "    rh                           (rh_idx) >f8 0.0\n",
      "    refindex_real_aer_near-ir    (near-ir_band) >f8 1.95 1.95 1.95 1.95 1.95 ...\n",
      "    sigma_logr                   >f8 2.0\n",
      "    refindex_real_water_lw       (lw_band) >f8 1.532 1.524 1.42 1.274 1.161 ...\n",
      "    aername                      |S20 b'bcpho               '\n",
      "    asym_nir                     (near-ir_band, rh_idx) >f8 0.2427 0.2408 ...\n",
      "    abs_nir                      (near-ir_band, rh_idx) >f8 4.576e+03 ...\n",
      "    scat_lw                      (lw_band, rh_idx) >f8 9.618e-09 0.001938 ...\n",
      "    name                         |S32 b'BCPHO                           '\n",
      "Attributes:\n",
      "    source: OPAC + miev0\n",
      "    history: Mon May 10 11:00:25 2010: ncks -A bcpho_density_3mode.nc bcpho_rrtmg_c100508.nc\n",
      "Tue Mar 10 15:30:27 2009: ncks -v abs_lw,scat_lw,asym_lw,asm_sw,ext_sw,abs_sw,ssa_sw,ext_nir,abs_nir,ssa_nir,asym_nir bcpho_rrtmg.nc bcpho_rrtmg_c090310.nc\n",
      "Tue Mar 10 15:25:14 2009: ncrename -v asym_sw,asm_sw bcpho_rrtmg.nc\n",
      "Water uptake from Kohler theory\n"
     ]
    }
   ],
   "source": [
    "print_bcpho()"
   ]
  },
  {
   "cell_type": "markdown",
   "metadata": {},
   "source": [
    "Under Data Variables, the value for opticsmethod is 'insoluble', so the data from this file is imported by the insoluble_optics_init() subroutine.  Most data are imported as is, but some might be transformed before it is saved in physprop.  Some of the variables might be given a different name in physprop, even though the content, or values, are exactly the same."
   ]
  },
  {
   "cell_type": "markdown",
   "metadata": {},
   "source": [
    "# Modal aerosol model 3 (MAM3)\n",
    "By default in CESM 1.2.2, modal aerosol model 3 (MAM3) is used in preparing aerosol optical properties for radiation calculations.  Another option is the *bulk* model.\n",
    "\n",
    "The constituents and structure of this model can be viewed in this [tree diagram][mam3_tree].\n",
    "\n",
    "The model consists of three modes.  Each mode can be divided in to a number-mixing part and a mass-mixing part.  Each mass-mixing part can consist of several aerosol species, such as *sulfate*, *so4*, etc.  Source of aerosols, whether number-mixing or mass-mixing, and of whatever species, can be either *interstitial* or *cloud-bourne*; the current choice is interstitial.\n",
    "\n",
    "\n",
    "[mam3_tree]: http://bl.ocks.org/qAp/raw/1ebccc6fdf2d0313482d/"
   ]
  },
  {
   "cell_type": "markdown",
   "metadata": {},
   "source": [
    "# The *modes* object\n",
    "\n",
    "*modes* is a data structure that holds information parsed in from the &rad_cnst_nl namelist. In this case, the model described by &rad_cnst_nl namelist is MAM3.  Part of the *modes* object for this looks like [this][modes_MAM3]. \n",
    "\n",
    "The following glossary/comment from subroutine parse_mode_defs() explains what each term means.\n",
    "\n",
    "\n",
    "   ! 'mode_name:mode_type:=',                                                                                                \n",
    "   !  'source_num_a:camname_num_a:source_num_c:camname_num_c:num_mr:+',                                                      \n",
    "   !  'source_mmr_a:camname_mmr_a:source_mmr_c:camname_mmr_c:spec_type:prop_file[:+]'[,]                                     \n",
    "   !  ['source_mmr_a:camname_mmr_a:source_mmr_c:camname_mmr_c:spec_type:prop_file][:+][']                                    \n",
    "   !\n",
    "   ! where the ':' separated fields are:                                                                                     \n",
    "   ! mode_name -- name of the mode.                                                                                          \n",
    "   ! mode_type -- type of mode.  Valid values are from the MAM code.                                                         \n",
    "   ! =         -- this line terminator identifies the initial string in a                                                    \n",
    "   !              mode definition                                                                                            \n",
    "   ! +         -- this line terminator indicates that the mode definition is                                                 \n",
    "   !              continued in the next string                                                                               \n",
    "   ! source_num_a  -- Source of interstitial number mixing ratio,  'A', 'N', or 'Z'                                          \n",
    "   ! camname_num_a -- the name of the interstitial number component.  This name must be                                      \n",
    "   !                  registered in the constituent arrays when source=A or in the                                           \n",
    "   !                  physics buffer when source=N                                                                           \n",
    "   ! source_num_c  -- Source of cloud borne number mixing ratio,  'A', 'N', or 'Z'                                           \n",
    "   ! camname_num_c -- the name of the cloud borne number component.  This name must be                                       \n",
    "   !                  registered in the constituent arrays when source=A or in the                                           \n",
    "   !                  physics buffer when source=N                                                                           \n",
    "   ! source_mmr_a  -- Source of interstitial specie mass mixing ratio,  'A', 'N' or 'Z'                                      \n",
    "   ! camname_mmr_a -- the name of the interstitial specie.  This name must be                                                \n",
    "   !                  registered in the constituent arrays when source=A or in the                                           \n",
    "   !                  physics buffer when source=N                                                                           \n",
    "   ! source_mmr_c  -- Source of cloud borne specie mass mixing ratio,  'A', 'N' or 'Z'                                       \n",
    "   ! camname_mmr_c -- the name of the cloud borne specie.  This name must be                                                 \n",
    "   !                  registered in the constituent arrays when source=A or in the                                           \n",
    "   !                  physics buffer when source=N                                                                           \n",
    "   ! spec_type -- species type.  Valid values far from the MAM code, except that                                             \n",
    "   !              the value 'num_mr' designates a number mixing ratio and has no                                             \n",
    "   !              associated field for the prop_file.  There can only be one entry                                           \n",
    "   !              with the num_mr type in a mode definition.                                                                 \n",
    "   ! prop_file -- For aerosol species this is a filename, which is                                                           \n",
    "   !              identified by a \".nc\" suffix.  The file contains optical and                                               \n",
    "   !              other physical properties of the aerosol. \n",
    "   !\n",
    "   ! A mode definition must contain only 1 string for the number mixing ratio components                                     \n",
    "   ! and at least 1 string for the species. \n",
    "   \n",
    "   \n",
    "   *modes* does not hold actual data on aerosol properties, rather it holds information about where to look for those data, and these data can be static data, like those stored in the *physprop* object, or dynamic ones such as aerosol mass-mixing ratio.\n",
    "   \n",
    "   The source_ variables in *modes* indicates where to look for the dynamic variables.  'A' means to look in the physical buffer; 'Z' means to look in model state. \n",
    "   \n",
    "   [modes_MAM3]: http://bl.ocks.org/qAp/raw/e45416c5a722ddb8042e/"
   ]
  },
  {
   "cell_type": "markdown",
   "metadata": {
    "collapsed": true
   },
   "source": [
    "# Subroutine: modal_aero_sw()\n",
    "\n",
    "subroutine modal_aero_sw() in modal_aer_opt.F90\n",
    "\n",
    "In this subroutine aerosol properties that change with time and those that do not change with time are combined to form aerosol optical properties that can be used by RRTMG directly, namely: optical depth, single scattering albedo, asymmetry factor and forward scattering factor.  In the pseudo-code below, the dimensions of each variable indicated, and wherever possible, the units as well. \n",
    "\n",
    "\n",
    "Dimensions:\n",
    "\n",
    "+ pcols --- number of columns/soundings\n",
    "+ pver --- number of model/atm layers\n",
    "+ nswbands --- number of shortwave spectral bands (= 14)\n",
    "+ ncoef --- number of coeffiecients (= 5)\n",
    "+ prefr --- number of real refractive indices (= 7)\n",
    "+ prefi --- number of imaginary refractive indices (= 10)\n",
    "\n",
    "Notes:\n",
    "\n",
    "+ Static variables are coloured green.\n",
    "+ Dimension indicators are read as such.  For example, *specmmr(pcols, pver: m, l)*. *specmmr* is an array of dimensions *pcols* x *pver* and it corresponds to aerosol mode *m* and species *l*.\n",
    "\n",
    "---------------------------------------------------------------------\n",
    "Pseudo code\n",
    "\n",
    "+ Get layer mass, *mass(pcols, pver)*, from model state.\n",
    "+ Get air density, *air_density(pcols, pver)*, from model state.\n",
    "+ Get number of modes, *nmodes*, for *list_idx*.\n",
    "+ Get number mode wet diametre for all modes, *dgnumwet_m(pcols, pver, nmodes)* and aerosol water for all modes, *qaerwat_m(pcols, pver, nmodes)[g/g]*, from physical buffer. \n",
    "\n",
    "\n",
    "\n",
    "+ **Start loop over modes. do m = 1, *nmodes***\n",
    "+ Get the following properties from initialised table, *physprop*:\n",
    "\n",
    "   * geometric standard deviation of number distribution, <span style=\"color: green\">*sigma_logr_aer(: m)*</span>\n",
    "   * table of real refractive indices for aerosols, <span style=\"color: green\">*refrtabsw(prefr, nswbands: m)*</span>\n",
    "   * table of imag refractive indices for aerosols, <span style=\"color: green\">*refitabsw(prefi, nswbands: m)*</span>\n",
    "   * specific extinction, <span style=\"color: green\">*extpsw(ncoef, prefr, prefi, nswbands: m)[m2 kg-1]*</span>\n",
    "   * specific absorption, <span style=\"color: green\">*abspsw(ncoef, prefr, prefi, nswbands: m)[m2 kg-1]*</span>\n",
    "   * asymmetry factor, <span style=\"color: green\">*asmpsw(ncoef, prefr, prefi, nswbands: m)[m2 kg-1]*</span>\n",
    "   \n",
    "+ Get the number species, *nspec(: m)*, from initialised table, *modes*.\n",
    "+ Compute the following size parametres using *pcols*, *sigma_logr_aer(: m)* and *dgnumwet(pcols, pver: m)*\n",
    "\n",
    "   * aerosol surface mode radius, *radsurf(pcols, pver: m)*\n",
    "   * log aerosol surface mode radius, *logradsurf(pcols, pver: m)*\n",
    "   * *cheb(ncoef, pcols, pver: m)*\n",
    "   \n",
    "\n",
    "\n",
    "+ **Start loop over spectral bands. do isw = 1, nswbands**\n",
    "+ **Start loop over layers. do k = top_lev, pver**\n",
    "+ **Start loop over aerosol species of this mode. do l = 1, nspec**\n",
    "\n",
    "\n",
    "+ Get species mass mixing ratio, *specmmr(pcols, pver: m, l)*, from either *state* or *pbuf*.\n",
    "+ Get the following from initialised table *physprop*:\n",
    "\n",
    "   * species density, <span style=\"color: green\">*specdens(: m, l)[kg/m3]*</span>\n",
    "   * species refractive index, <span style=\"color: green\">*specrefindex(nswbands: m, l)*</span>\n",
    "   * species type, <span style=\"color: green\">*spectype(: m, l)*</span>\n",
    "   * <span style=\"color: green\">*hygro_aer(: m, l)*</span>\n",
    "   \n",
    "+ Compute volume concentration of aerosol, *vol(pcols: m, l, k)* from *specmmr(pcols, pver: m, l)* and *specdens(: m, l)[kg/m3]*.\n",
    "+ Add above to volume concentration of aerosol for all species, *dryvol(pcols: m, k)*.\n",
    "+ Compute complex refractive index for this species from *vol(pcols: m, l, k)* and *specrefindex(nswbands: m, l)* and add to complex refractive index for all species, *crefin(pcols: m, k, iw)*.\n",
    "+ **End loop over aerosol species of this mode.**\n",
    "\n",
    "\n",
    "+ Compute volume concentration of water, *watervol(pcols: k, m)*, from *qaerwat(pcols, pver: m)* and *rhoh20*.\n",
    "+ Compute volume concentration of wet, *wetvol(pcols: k, m)[m3/kg]*.\n",
    "+ Use *wetvol(pcols: k, m)[m3/kg]* and complex refractive index for water visible,  *crefwsw(nswbands)*, to change *crefin(pcols: m, k, isw)*.\n",
    "+ Split *crefin(pcols: m, k, isw)* into real and imaginary parts, *refr(pcols: m, k, isw)* and *refi(pcols: m, k, isw)*.\n",
    "\n",
    "\n",
    "+ Compute, using bilinear interpolation, *cext(pcols, ncoef: m, k, isw)*, from *extpsw(ncoef, prefr, prefi, nswbands)*, *refr(pcols: m, k, isw)*, *refi(pcols: m, k, isw)*, *refrtabsw(prefr, nswbands: m)* and *refitabsw(prefi, nswbands: m)*.\n",
    "+ Compute, using bilinear interpolation, *cabs(pcols, ncoef: m, k, isw)*, from *abspsw(ncoef, prefr, prefi, nswbands)*, *refr(pcols: m, k, isw)*, *refi(pcols: m, k, isw)*, *refrtabsw(prefr, nswbands: m)* and *refitabsw(prefi, nswbands: m)*.\n",
    "+ Compute, using bilinear interpolation, *casm(pcols, ncoef: m, k, isw)*, from *asmpsw(ncoef, prefr, prefi, nswbands)*, *refr(pcols: m, k, isw)*, *refi(pcols: m, k, isw)*, *refrtabsw(prefr, nswbands: m)* and *refitabsw(prefi, nswbands: m)*.\n",
    "\n",
    "\n",
    "+ Compute parameterised specific extinction, *pext(pcols: m, k, isw)* from *cext(pcols, ncoef: m, k, isw)* and *cheb(ncoef, pcols, pver: m)*\n",
    "+ Compute parameterised specific extinction, *pext(pcols: m, k, isw)[m2/kg aerosol]*, from *pext(pcols: m, k, isw)[m2/kg water]*, *wetvol(pcols: k, m)[m3/kg]* and *rhoh20*.\n",
    "+ Compute parameterised specific absorption, *pabs(pcols: m, k, isw)[m2/kg]*, from *cabs(pcols, ncoef: m, k, isw)* and *cheb(ncoef, pcols, pver: m)*.\n",
    "+ Compute parameterised asymmetry factor, *pasm(pcols: m, k, isw)*, from *casm(pcols, ncoef: m, k, isw)* and *cheb(ncoef, pcols, pver: m)*.\n",
    "+ Adjust *pabs(pcols: m, k, isw)* using *wetvol(pcols: k, m)[m3/kg]* and *rhoh20*.\n",
    "\n",
    "\n",
    "\n",
    "+ Compute parameterised single scattering albedo, *palb(pcols: m, k, isw)*, from *pabs(pcols: m, k, isw)* and *pext(pcols: m, k, isw)*. <span style=\"color: red\">repeated in the code</span>\n",
    "+ Compute aerosol optical depth, *dopaer(pcols: m, k, isw)*, from *pext(pcols: m, k, isw)[m2/kg aerosol]* and *mass(pcols, pver)*.\n",
    "\n",
    "\n",
    "\n",
    "+ Add to aerosol optical depth, *tauxar(pcols, k, isw)*, *dopaer(pcols: m, k, isw)*.\n",
    "+ Add to aerosol single scattering albedo, *wa(pcols, k, isw)*,  *dopaer(pcols: m, k, isw) x palb(pcols: m, k, isw)*.\n",
    "+ Add to aerosol asymmetry factor, *ga(ncol, k, isw)*, *dopaer(pcols: m, k, isw) x palb(pcols: m, k, isw) x pasm(pcols: m, k, isw)*.\n",
    "+ Add to forward scattering factor, *fa(ncol, k , isw)*, *dopaer(pcols: m, k, isw) x palb(pcols: m, k, isw) x pasm(pcols: m, k, isw) x pasm(pcols: m, k, isw)*.\n",
    "\n",
    "\n",
    "+ **end loop over layers**\n",
    "+ **end loop over spectral bands**\n",
    "+ **end loop over nmodes**\n",
    "\n",
    "-----------------------------------------------------------------------------------------------------------------\n",
    "\n",
    "More verbosely...\n",
    "\n",
    "The aim is to get the total optical property over all modes.\n",
    "\n",
    "Each mode has a *wet diametre* and a *geometric standard deviation of number distribution*.  These are used to compute size parametres for the mode, including one named *cheb*.\n",
    "\n",
    "Each mode also contains several aerosol species.  For each species, the volume concentration is computed from the species' mass-mixing ratio and density.  This is then combined with the species' refractive index to form the *complex refractive index* for the species.  The complex refractive index from all species are added together to give a total for the mode. \n",
    "\n",
    "Next, and in a similar fashion, the contribution from water and wet's refractive index is added to this complex refractive index.\n",
    "\n",
    "The complex refractive index is split into real and imaginary parts. \n",
    "\n",
    "Now, separately, for each mode as a whole, there is a corresponding refractive index (*mode refractive index*),  as well as optical properties: specific extinction, specific absorption and asymmetry factor, which are functions of the refractive index.  Using bilinear interpolation, in conjunction with the real and imaginary parts of both the complex refractive index and the mode refractive index, each of these optical properties are turned into counterparts that are no longer functions of the refractive index.\n",
    "\n",
    "Next, these optical properties are combined with the mode's size parametre *cheb* to form *parameterised* versions: parameterised specific extinction, parameterised specific absoprtion and parameterised asymmetry factor.\n",
    "\n",
    "The parameterised specific extinction and absorption are adjusted to take into account contribution from water.\n",
    "\n",
    "Next, parameterised extinction and absoprtion combine to give parameterised single scattering albedo, and parameterised extinction combine with the layer mass to give parameterised optical depth.  \n",
    "\n",
    "The parameterised optical depth is identified as the aerosol optical depth of the mode.\n",
    "The product of the parameterised optical depth and the parameterised single scattering albedo is identified as the aerosol single scattering albedo of the mode.\n",
    "The product of the parameterised optical depth, the parameterised single scattering albedo and the parameterised asymmetry factor is identified as the aerosol asymmetry factor of the mode.\n",
    "The product of the aerosol asymmetry factor of the mode and the parameterised asymmetry factor is identified as the aerosol forward scattering factor of the mode.\n",
    "\n",
    "\n",
    "The total aerosol optical depth, single scattering albedo, asymmetry factor and forward scattering factor are obtained by summing over all modes.  These are input to RRTMG.\n",
    "\n",
    "\n",
    "\n",
    "\n",
    "\n"
   ]
  },
  {
   "cell_type": "code",
   "execution_count": 43,
   "metadata": {
    "collapsed": false
   },
   "outputs": [
    {
     "data": {
      "text/html": [
       "\n",
       "<script>\n",
       "show_code = true;\n",
       "function code_toggle() {\n",
       "if (show_code) {$('div.input').hide();} else {$('div.input').show();}\n",
       "show_code = !show_code\n",
       "}\n",
       "$( document ).ready(code_toggle);\n",
       "</script>\n",
       "<form action=\"javascript:code_toggle()\"><input type=\"submit\" value=\"Click here to toggle on/off the raw code\"></form>\n"
      ],
      "text/plain": [
       "<IPython.core.display.HTML object>"
      ]
     },
     "execution_count": 43,
     "metadata": {},
     "output_type": "execute_result"
    }
   ],
   "source": [
    "HTML('''\n",
    "<script>\n",
    "show_code = true;\n",
    "function code_toggle() {\n",
    "if (show_code) {$('div.input').hide();} else {$('div.input').show();}\n",
    "show_code = !show_code\n",
    "}\n",
    "$( document ).ready(code_toggle);\n",
    "</script>\n",
    "<form action=\"javascript:code_toggle()\"><input type=\"submit\" value=\"Click here to toggle on/off the raw code\"></form>\n",
    "''')"
   ]
  },
  {
   "cell_type": "code",
   "execution_count": null,
   "metadata": {
    "collapsed": true
   },
   "outputs": [],
   "source": []
  }
 ],
 "metadata": {
  "kernelspec": {
   "display_name": "Python 3",
   "language": "python",
   "name": "python3"
  },
  "language_info": {
   "codemirror_mode": {
    "name": "ipython",
    "version": 3
   },
   "file_extension": ".py",
   "mimetype": "text/x-python",
   "name": "python",
   "nbconvert_exporter": "python",
   "pygments_lexer": "ipython3",
   "version": "3.4.3"
  }
 },
 "nbformat": 4,
 "nbformat_minor": 0
}
