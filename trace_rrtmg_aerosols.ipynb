{
 "cells": [
  {
   "cell_type": "code",
   "execution_count": 2,
   "metadata": {
    "collapsed": false
   },
   "outputs": [
    {
     "data": {
      "text/plain": [
       "<module 'climatools.misc' from '/nuwa_cluster/home/jackyu/climatools/climatools/misc.py'>"
      ]
     },
     "execution_count": 2,
     "metadata": {},
     "output_type": "execute_result"
    }
   ],
   "source": [
    "%matplotlib inline\n",
    "import os\n",
    "import sys\n",
    "import itertools\n",
    "import re\n",
    "import pprint\n",
    "import imp\n",
    "\n",
    "sys.path.append('/nuwa_cluster/home/jackyu/climatools/')\n",
    "import climatools.misc as climamisc\n",
    "imp.reload(climamisc)"
   ]
  },
  {
   "cell_type": "code",
   "execution_count": 3,
   "metadata": {
    "collapsed": true
   },
   "outputs": [],
   "source": [
    "def fortran_files():\n",
    "    dir_cam = '/nuwa_cluster/home/jackyu/climate_models/cesm1_2_2/models/atm/cam/src/physics/cam/'\n",
    "    cam_files = ['aer_rad_props.F90', 'rad_constituents.F90', 'phys_prop.F90']\n",
    "    fpaths = [os.path.join(dir_cam, file) for file in cam_files]\n",
    "    return fpaths"
   ]
  },
  {
   "cell_type": "code",
   "execution_count": 4,
   "metadata": {
    "collapsed": false,
    "scrolled": false
   },
   "outputs": [
    {
     "name": "stdout",
     "output_type": "stream",
     "text": [
      "{'aer_optics_log': {'childs': [], 'parents': []},\n",
      " 'aer_optics_log_rh': {'childs': [], 'parents': ['bulk_props_init']},\n",
      " 'aer_rad_props_init': {'childs': ['rad_cnst_get_info',\n",
      "                                   'addfld',\n",
      "                                   'add_default',\n",
      "                                   'phys_getopts'],\n",
      "                        'parents': []},\n",
      " 'aer_rad_props_lw': {'childs': ['modal_aero_lw',\n",
      "                                 'qsat',\n",
      "                                 'rad_cnst_get_info',\n",
      "                                 'pbuf_get_field',\n",
      "                                 'rad_cnst_get_aer_mmr',\n",
      "                                 'rad_cnst_get_aer_props',\n",
      "                                 'endrun'],\n",
      "                      'parents': []},\n",
      " 'aer_rad_props_sw': {'childs': ['get_volcanic_rad_props',\n",
      "                                 'get_hygro_rad_props',\n",
      "                                 'qsat',\n",
      "                                 'get_nonhygro_rad_props',\n",
      "                                 'get_volcanic_radius_rad_props',\n",
      "                                 'rad_cnst_get_info',\n",
      "                                 'rad_cnst_get_aer_mmr',\n",
      "                                 'rad_cnst_get_aer_props',\n",
      "                                 'aer_vis_diag_out',\n",
      "                                 'modal_aero_sw',\n",
      "                                 'endrun'],\n",
      "                      'parents': []},\n",
      " 'aer_vis_diag_out': {'childs': ['outfld'], 'parents': ['aer_rad_props_sw']},\n",
      " 'aerosol_optics_init': {'childs': ['modal_optics_init',\n",
      "                                    'zero_optics_init',\n",
      "                                    'hygro_optics_init',\n",
      "                                    'nonhygro_optics_init',\n",
      "                                    'volcanic_optics_init',\n",
      "                                    'insoluble_optics_init',\n",
      "                                    'volcanic_radius_optics_init',\n",
      "                                    'hygroscopic_optics_init',\n",
      "                                    'endrun'],\n",
      "                         'parents': ['physprop_init']},\n",
      " 'bulk_props_init': {'childs': ['aer_optics_log_rh'],\n",
      "                     'parents': ['nonhygro_optics_init',\n",
      "                                 'insoluble_optics_init',\n",
      "                                 'hygroscopic_optics_init',\n",
      "                                 'volcanic_radius_optics_init',\n",
      "                                 'volcanic_optics_init',\n",
      "                                 'hygro_optics_init']},\n",
      " 'check_mode_type': {'childs': ['parse_error'],\n",
      "                     'parents': ['parse_mode_defs']},\n",
      " 'check_specie_type': {'childs': ['parse_error'],\n",
      "                       'parents': ['parse_mode_defs']},\n",
      " 'exp_interpol': {'childs': [], 'parents': []},\n",
      " 'get_hygro_rad_props': {'childs': [], 'parents': ['aer_rad_props_sw']},\n",
      " 'get_nonhygro_rad_props': {'childs': [], 'parents': ['aer_rad_props_sw']},\n",
      " 'get_volcanic_rad_props': {'childs': [], 'parents': ['aer_rad_props_sw']},\n",
      " 'get_volcanic_radius_rad_props': {'childs': ['pbuf_get_field'],\n",
      "                                   'parents': ['aer_rad_props_sw']},\n",
      " 'hygro_optics_init': {'childs': ['bulk_props_init', 'refindex_aer_init'],\n",
      "                       'parents': ['aerosol_optics_init']},\n",
      " 'hygroscopic_optics_init': {'childs': ['bulk_props_init',\n",
      "                                        'refindex_aer_init'],\n",
      "                             'parents': ['aerosol_optics_init']},\n",
      " 'init_mode_comps': {'childs': ['cnst_get_ind', 'endrun'],\n",
      "                     'parents': ['rad_cnst_init']},\n",
      " 'insoluble_optics_init': {'childs': ['bulk_props_init', 'refindex_aer_init'],\n",
      "                           'parents': ['aerosol_optics_init']},\n",
      " 'lin_interpol': {'childs': [], 'parents': []},\n",
      " 'list_init1': {'childs': ['endrun'], 'parents': ['rad_cnst_readnl']},\n",
      " 'list_init2': {'childs': [], 'parents': ['rad_cnst_init']},\n",
      " 'modal_optics_init': {'childs': [], 'parents': ['aerosol_optics_init']},\n",
      " 'nonhygro_optics_init': {'childs': ['bulk_props_init', 'refindex_aer_init'],\n",
      "                          'parents': ['aerosol_optics_init']},\n",
      " 'parse_error': {'childs': ['endrun'],\n",
      "                 'parents': ['check_specie_type',\n",
      "                             'check_mode_type',\n",
      "                             'parse_mode_defs']},\n",
      " 'parse_mode_defs': {'childs': ['check_mode_type',\n",
      "                                'parse_error',\n",
      "                                'check_specie_type',\n",
      "                                'endrun'],\n",
      "                     'parents': ['rad_cnst_readnl']},\n",
      " 'parse_rad_specifier': {'childs': [], 'parents': ['rad_cnst_readnl']},\n",
      " 'physprop_accum_unique_files': {'childs': ['endrun'],\n",
      "                                 'parents': ['rad_cnst_readnl']},\n",
      " 'physprop_get': {'childs': ['endrun'], 'parents': []},\n",
      " 'physprop_init': {'childs': ['cam_pio_openfile',\n",
      "                              'getfil',\n",
      "                              'aerosol_optics_init',\n",
      "                              'pio_closefile'],\n",
      "                   'parents': ['rad_cnst_init']},\n",
      " 'print_lists': {'childs': [], 'parents': ['rad_cnst_readnl']},\n",
      " 'print_modes': {'childs': [], 'parents': []},\n",
      " 'rad_aer_diag_init': {'childs': ['addfld', 'endrun'],\n",
      "                       'parents': ['rad_cnst_init']},\n",
      " 'rad_cnst_get_aer_mmr_by_idx': {'childs': ['pbuf_get_field', 'endrun'],\n",
      "                                 'parents': []},\n",
      " 'rad_cnst_get_aer_props_by_idx': {'childs': ['endrun'], 'parents': []},\n",
      " 'rad_cnst_get_call_list': {'childs': [], 'parents': []},\n",
      " 'rad_cnst_get_gas': {'childs': ['pbuf_get_field', 'endrun'], 'parents': []},\n",
      " 'rad_cnst_get_info': {'childs': ['endrun'],\n",
      "                       'parents': ['aer_rad_props_lw',\n",
      "                                   'aer_rad_props_sw',\n",
      "                                   'aer_rad_props_init']},\n",
      " 'rad_cnst_get_info_by_mode': {'childs': ['endrun'], 'parents': []},\n",
      " 'rad_cnst_get_info_by_mode_spec': {'childs': ['endrun'], 'parents': []},\n",
      " 'rad_cnst_get_info_by_spectype': {'childs': [], 'parents': []},\n",
      " 'rad_cnst_get_mam_mmr_by_idx': {'childs': ['pbuf_get_field', 'endrun'],\n",
      "                                 'parents': []},\n",
      " 'rad_cnst_get_mam_mmr_idx': {'childs': ['endrun'], 'parents': []},\n",
      " 'rad_cnst_get_mam_props_by_idx': {'childs': ['endrun'], 'parents': []},\n",
      " 'rad_cnst_get_mode_num': {'childs': ['pbuf_get_field', 'endrun'],\n",
      "                           'parents': []},\n",
      " 'rad_cnst_get_mode_num_idx': {'childs': ['endrun'], 'parents': []},\n",
      " 'rad_cnst_get_mode_props': {'childs': ['endrun'], 'parents': []},\n",
      " 'rad_cnst_init': {'childs': ['rad_gas_diag_init',\n",
      "                              'init_mode_comps',\n",
      "                              'rad_aer_diag_init',\n",
      "                              'list_init2',\n",
      "                              'physprop_init',\n",
      "                              'endrun'],\n",
      "                   'parents': []},\n",
      " 'rad_cnst_out': {'childs': ['pbuf_get_field', 'outfld', 'endrun'],\n",
      "                  'parents': []},\n",
      " 'rad_cnst_readnl': {'childs': ['print_lists',\n",
      "                                'find_group_name',\n",
      "                                'parse_mode_defs',\n",
      "                                'parse_rad_specifier',\n",
      "                                'list_init1',\n",
      "                                'freeunit',\n",
      "                                'mpibcast',\n",
      "                                'physprop_accum_unique_files',\n",
      "                                'endrun'],\n",
      "                     'parents': []},\n",
      " 'rad_gas_diag_init': {'childs': ['addfld', 'endrun'],\n",
      "                       'parents': ['rad_cnst_init']},\n",
      " 'refindex_aer_init': {'childs': ['pio_seterrorhandling', 'endrun'],\n",
      "                       'parents': ['nonhygro_optics_init',\n",
      "                                   'insoluble_optics_init',\n",
      "                                   'hygroscopic_optics_init',\n",
      "                                   'hygro_optics_init']},\n",
      " 'volcanic_optics_init': {'childs': ['bulk_props_init'],\n",
      "                          'parents': ['aerosol_optics_init']},\n",
      " 'volcanic_radius_optics_init': {'childs': ['bulk_props_init'],\n",
      "                                 'parents': ['aerosol_optics_init']},\n",
      " 'zero_optics_init': {'childs': [], 'parents': ['aerosol_optics_init']}}\n"
     ]
    }
   ],
   "source": [
    "pprint.pprint(climamisc.Fortran_subroutine_relations_from_files(paths_fortran = fortran_files()))"
   ]
  },
  {
   "cell_type": "code",
   "execution_count": null,
   "metadata": {
    "collapsed": true
   },
   "outputs": [],
   "source": []
  }
 ],
 "metadata": {
  "kernelspec": {
   "display_name": "Python 3",
   "language": "python",
   "name": "python3"
  },
  "language_info": {
   "codemirror_mode": {
    "name": "ipython",
    "version": 3
   },
   "file_extension": ".py",
   "mimetype": "text/x-python",
   "name": "python",
   "nbconvert_exporter": "python",
   "pygments_lexer": "ipython3",
   "version": "3.4.3"
  }
 },
 "nbformat": 4,
 "nbformat_minor": 0
}
