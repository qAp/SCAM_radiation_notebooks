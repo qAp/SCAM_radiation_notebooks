{
 "cells": [
  {
   "cell_type": "code",
   "execution_count": 1,
   "metadata": {
    "collapsed": true
   },
   "outputs": [],
   "source": [
    "import json"
   ]
  },
  {
   "cell_type": "code",
   "execution_count": 3,
   "metadata": {
    "collapsed": false,
    "scrolled": true
   },
   "outputs": [
    {
     "data": {
      "text/plain": [
       "['JSONDecoder',\n",
       " 'JSONEncoder',\n",
       " '__all__',\n",
       " '__author__',\n",
       " '__builtins__',\n",
       " '__cached__',\n",
       " '__doc__',\n",
       " '__file__',\n",
       " '__loader__',\n",
       " '__name__',\n",
       " '__package__',\n",
       " '__path__',\n",
       " '__spec__',\n",
       " '__version__',\n",
       " '_default_decoder',\n",
       " '_default_encoder',\n",
       " 'decoder',\n",
       " 'dump',\n",
       " 'dumps',\n",
       " 'encoder',\n",
       " 'load',\n",
       " 'loads',\n",
       " 'scanner']"
      ]
     },
     "execution_count": 3,
     "metadata": {},
     "output_type": "execute_result"
    }
   ],
   "source": [
    "dir(json)"
   ]
  },
  {
   "cell_type": "code",
   "execution_count": 4,
   "metadata": {
    "collapsed": false
   },
   "outputs": [
    {
     "name": "stdout",
     "output_type": "stream",
     "text": [
      "dndTree.js  flare.json\tindex.html  Untitled.ipynb\r\n"
     ]
    }
   ],
   "source": [
    "!ls"
   ]
  },
  {
   "cell_type": "code",
   "execution_count": 7,
   "metadata": {
    "collapsed": false
   },
   "outputs": [],
   "source": [
    "with open('flare.json') as file:\n",
    "    flare = json.load(file)"
   ]
  },
  {
   "cell_type": "code",
   "execution_count": 14,
   "metadata": {
    "collapsed": false,
    "scrolled": false
   },
   "outputs": [
    {
     "data": {
      "text/plain": [
       "dict_keys(['name', 'children'])"
      ]
     },
     "execution_count": 14,
     "metadata": {},
     "output_type": "execute_result"
    }
   ],
   "source": [
    "flare['children'][0].keys()"
   ]
  },
  {
   "cell_type": "code",
   "execution_count": 27,
   "metadata": {
    "collapsed": true
   },
   "outputs": [],
   "source": [
    "flux_names = {'name': 'flux',\n",
    "              'children': \n",
    "              [{'name': 'up',\n",
    "                'children':\n",
    "                [{'name': 'non-clear', \n",
    "                  'children': \n",
    "                  [{'name': 'zbbfu', 'size': 2000}]},\n",
    "                 {'name': 'clear', \n",
    "                  'children': \n",
    "                  [{'name': 'zbbcu', 'size': 2000}]}]},\n",
    "               {'name': 'down', \n",
    "                'children': \n",
    "                [{'name': 'non-clear',\n",
    "                  'children': \n",
    "                  [{'name': 'direct', \n",
    "                    'children':\n",
    "                    [{'name': 'uv', \n",
    "                      'children': \n",
    "                      [{'name': 'zuvfddir', 'size': 2000}]},\n",
    "                     {'name': 'nir', \n",
    "                      'children': \n",
    "                      [{'name': 'znifddir', 'size': 2000}]}]\n",
    "                   },\n",
    "                   {'name': 'non-direct',\n",
    "                    'children':\n",
    "                    [{'name': 'uv', \n",
    "                      'children': \n",
    "                      [{'name': 'zuvfd', 'size': 2000}]},\n",
    "                     {'name': 'nir', \n",
    "                      'children': \n",
    "                      [{'name': 'znifd', 'size': 2000}]}]\n",
    "                   }]},\n",
    "                 {'name': 'clear',\n",
    "                  'children':\n",
    "                  [{'name': 'direct',\n",
    "                    'children':\n",
    "                    [{'name': 'uv', \n",
    "                      'children': \n",
    "                      [{'name': 'zuvcddir', 'size': 2000}]},\n",
    "                     {'name': 'nir', \n",
    "                      'children': \n",
    "                      [{'name': 'znicddir', 'size': 2000}]}]},\n",
    "                   {'name': 'non-direct',\n",
    "                    'children':\n",
    "                    [{'name': 'uv', \n",
    "                      'children': \n",
    "                      [{'name': 'zuvcd', 'size': 2000}]},\n",
    "                     {'name': 'nir', \n",
    "                      'children': \n",
    "                      [{'name': 'znicd', 'size': 2000}]}]}]}]}]}"
   ]
  },
  {
   "cell_type": "code",
   "execution_count": 28,
   "metadata": {
    "collapsed": false
   },
   "outputs": [],
   "source": [
    "with open('flux.json', mode = 'w', encoding = 'utf-8') as file:\n",
    "    json.dump(flux_names, file)"
   ]
  },
  {
   "cell_type": "code",
   "execution_count": 19,
   "metadata": {
    "collapsed": true
   },
   "outputs": [],
   "source": [
    "json.dump?\n"
   ]
  },
  {
   "cell_type": "code",
   "execution_count": null,
   "metadata": {
    "collapsed": true
   },
   "outputs": [],
   "source": []
  }
 ],
 "metadata": {
  "kernelspec": {
   "display_name": "Python 3",
   "language": "python",
   "name": "python3"
  },
  "language_info": {
   "codemirror_mode": {
    "name": "ipython",
    "version": 3
   },
   "file_extension": ".py",
   "mimetype": "text/x-python",
   "name": "python",
   "nbconvert_exporter": "python",
   "pygments_lexer": "ipython3",
   "version": "3.4.3"
  }
 },
 "nbformat": 4,
 "nbformat_minor": 0
}
