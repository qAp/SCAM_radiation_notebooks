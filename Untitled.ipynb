{
 "cells": [
  {
   "cell_type": "code",
   "execution_count": null,
   "metadata": {
    "collapsed": true
   },
   "outputs": [],
   "source": [
    "# Each case here refers to a model, or a model configuration, and is assigned the path to its output data.\n",
    "def get_cases():\n",
    "    '''\n",
    "    Returns a dictionary where the keys are cases, such\n",
    "    as a name for a SCAM run, and the values are the paths\n",
    "    to the output data from the run\n",
    "    '''\n",
    "    return {'LWclirad': '../examples/arm95_LWclirad_SWrrtmg/LWclirad_SWrrtmg_scatteringYHSN/camrun.cam.h0.0095-07-18-19800.nc',\n",
    "        'LWclirad no scat.': '../examples/arm95_LWclirad_SWrrtmg/LWclirad_SWrrtmg_noLWscattering/camrun.cam.h0.0095-07-18-19800.nc',\n",
    "        'LWrrtmg': '../examples/arm95_LWrrtmg_SWrrtmg/arm95_LWrrtmg_SWrrtmg_no_LWscattering/camrun.cam.h0.0095-07-18-19800.nc'}"
   ]
  },
  {
   "cell_type": "code",
   "execution_count": null,
   "metadata": {
    "collapsed": true
   },
   "outputs": [],
   "source": [
    "# Each case here refers to a model, or a model configuration, and is assigned the path to its output data.\n",
    "def get_cases():\n",
    "    '''\n",
    "    Returns a dictionary where the keys are cases, such\n",
    "    as a name for a SCAM run, and the values are the paths\n",
    "    to the output data from the run\n",
    "    '''\n",
    "    return {'LWclirad': '../examples/twpice_LWclirad_SWrrtmg/TWP_ICE_hres_intel_3hr_cam5_control/camrun.cam.h0.2006-01-17-10800.nc',\n",
    "        'LWclirad no scat.': '../examples/twpice_LWclirad_SWrrtmg/TWP_ICE_hres_intel_3hr_cam5_control_NoCloudScattering/camrun.cam.h0.2006-01-17-10800.nc',\n",
    "        'LWrrtmg': '../examples/twpice_LWrrtmg_SWrrtmg/TWP_ICE_hres_intel_3hr_cam5_control/camrun.cam.h0.2006-01-17-10800.nc'}"
   ]
  },
  {
   "cell_type": "code",
   "execution_count": null,
   "metadata": {
    "collapsed": true
   },
   "outputs": [],
   "source": [
    "# Each case here refers to a model, or a model configuration, and is assigned the path to its output data.\n",
    "def get_cases():\n",
    "    '''\n",
    "    Returns a dictionary where the keys are cases, such\n",
    "    as a name for a SCAM run, and the values are the paths\n",
    "    to the output data from the run\n",
    "    '''\n",
    "    return {'LWclirad': '../examples/TWPICE/twpice_LWclirad_SWrrtmg/TWP_ICE_hres_intel_3hr_cam5_control/camrun.cam.h0.2006-01-17-10800.nc',\n",
    "        'LWclirad no scat.': '../examples/TWPICE/twpice_LWclirad_SWrrtmg/TWP_ICE_hres_intel_3hr_cam5_control_NoCloudScattering/camrun.cam.h0.2006-01-17-10800.nc',\n",
    "        'LWrrtmg': '../examples/TWPICE/cam5_3hrly_LWrrtmg_SWrrtmg_SWnoMcICA/camrun.cam.h0.2006-01-17-10800.nc'}"
   ]
  },
  {
   "cell_type": "code",
   "execution_count": null,
   "metadata": {
    "collapsed": true
   },
   "outputs": [],
   "source": [
    "{'SW McICA': '../examples/TWPICE/twpice_LWrrtmg_SWrrtmg/TWP_ICE_hres_intel_3hr_cam5_control/camrun.cam.h0.2006-01-17-10800.nc',\n",
    "            'SW no McICA': '../examples/TWPICE/cam5_3hrly_LWrrtmg_SWrrtmg_SWnoMcICA/camrun.cam.h0.2006-01-17-10800.nc'}"
   ]
  }
 ],
 "metadata": {
  "kernelspec": {
   "display_name": "Python 3",
   "language": "python",
   "name": "python3"
  },
  "language_info": {
   "codemirror_mode": {
    "name": "ipython",
    "version": 3
   },
   "file_extension": ".py",
   "mimetype": "text/x-python",
   "name": "python",
   "nbconvert_exporter": "python",
   "pygments_lexer": "ipython3",
   "version": "3.4.3"
  }
 },
 "nbformat": 4,
 "nbformat_minor": 0
}
