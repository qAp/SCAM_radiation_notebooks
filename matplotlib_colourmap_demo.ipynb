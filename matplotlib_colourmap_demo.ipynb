{
 "cells": [
  {
   "cell_type": "code",
   "execution_count": 197,
   "metadata": {
    "collapsed": false
   },
   "outputs": [],
   "source": [
    "%matplotlib inline\n",
    "import matplotlib.pyplot as plt\n",
    "import matplotlib.colors as colors\n",
    "import numpy as np\n",
    "\n",
    "import climatools.viz as climaviz\n",
    "import climatools.muths as muths"
   ]
  },
  {
   "cell_type": "code",
   "execution_count": 208,
   "metadata": {
    "collapsed": false
   },
   "outputs": [
    {
     "name": "stdout",
     "output_type": "stream",
     "text": [
      "\n",
      "Nsteps0 = 13\n",
      "vmin0 = -0.000366 vmax0 = 2.341e-05\n",
      "dv0 = 2.9954615384615388e-05\n",
      "\n",
      "\n",
      "Nsteps 14\n",
      "vmin = -0.000375 vmax = 4.5e-05\n",
      "dv = 3e-05\n",
      "\n",
      "cmap_min = 0    cmap_max = 0.56\n"
     ]
    },
    {
     "data": {
      "image/png": "[encoded data removed]",
      "text/plain": [
       "<matplotlib.figure.Figure at 0x2aac10cfe080>"
      ]
     },
     "metadata": {},
     "output_type": "display_data"
    }
   ],
   "source": [
    "Nsteps0 = 13  # rough desired number of color stesps\n",
    "vmin0, vmax0 = - 3.66e-4, 2.341e-5 # range of original data\n",
    "dv0 = (vmax0 - vmin0) / Nsteps0 #\n",
    "\n",
    "print()\n",
    "print('Nsteps0 =', Nsteps0)\n",
    "print('vmin0 =', vmin0, 'vmax0 =', vmax0)\n",
    "print('dv0 =', dv0)\n",
    "print()\n",
    "\n",
    "\n",
    "dv = muths.round_to_1(dv0)\n",
    "half_dv = .5 * dv\n",
    "vmin = 0 - dv * int(np.ceil((0 - vmin0 - half_dv) / dv)) - half_dv\n",
    "vmax = 0 + dv * int(np.ceil((vmax0 - 0 - half_dv) / dv)) + half_dv\n",
    "Nsteps = int((vmax - vmin) / dv)\n",
    "\n",
    "print()\n",
    "print('Nsteps', Nsteps)\n",
    "print('vmin =', vmin, 'vmax =', vmax)\n",
    "print('dv =', dv)\n",
    "print()\n",
    "\n",
    "\n",
    "\n",
    "\n",
    "x = np.linspace(0, 10, 10)\n",
    "y = np.linspace(0, 20, 10)\n",
    "z = np.linspace(vmin, vmax, 100).reshape((10, 10))\n",
    "\n",
    "cmap = plt.get_cmap('bwr')\n",
    "real_range = vmax - vmin\n",
    "largest_abs_range = 2 * max(abs(vmin), abs(vmax))\n",
    "fractional_range = real_range / largest_abs_range\n",
    "if abs(vmin) > abs(vmax):\n",
    "    cmap_min, cmap_max = 0, fractional_range\n",
    "elif abs(vmax) > abs(vmin):\n",
    "    cmap_min, cmap_max = 1 - fractional_range, 1\n",
    "else:\n",
    "    cmap_min, cmap_max = 0, 1\n",
    "    \n",
    "print('cmap_min =', cmap_min, '   cmap_max =', cmap_max)\n",
    "\n",
    "cmap = colors.LinearSegmentedColormap.from_list('test_cmap',\n",
    "                                               cmap(np.linspace(cmap_min, cmap_max)))\n",
    "\n",
    "\n",
    "\n",
    "fig = plt.figure()\n",
    "ax = fig.add_subplot(111)\n",
    "\n",
    "cs = ax.contourf(x, y, z, cmap = cmap, levels = np.linspace(vmin, vmax, Nsteps + 1))\n",
    "\n",
    "cbar = plt.colorbar(cs, ax = ax)\n"
   ]
  },
  {
   "cell_type": "code",
   "execution_count": 194,
   "metadata": {
    "collapsed": false
   },
   "outputs": [
    {
     "data": {
      "text/plain": [
       "1"
      ]
     },
     "execution_count": 194,
     "metadata": {},
     "output_type": "execute_result"
    }
   ],
   "source": [
    "1"
   ]
  },
  {
   "cell_type": "code",
   "execution_count": null,
   "metadata": {
    "collapsed": true
   },
   "outputs": [],
   "source": []
  }
 ],
 "metadata": {
  "kernelspec": {
   "display_name": "Python 3",
   "language": "python",
   "name": "python3"
  },
  "language_info": {
   "codemirror_mode": {
    "name": "ipython",
    "version": 3
   },
   "file_extension": ".py",
   "mimetype": "text/x-python",
   "name": "python",
   "nbconvert_exporter": "python",
   "pygments_lexer": "ipython3",
   "version": "3.4.3"
  }
 },
 "nbformat": 4,
 "nbformat_minor": 0
}
