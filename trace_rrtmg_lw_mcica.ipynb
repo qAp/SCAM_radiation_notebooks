{
 "cells": [
  {
   "cell_type": "code",
   "execution_count": 94,
   "metadata": {
    "collapsed": false
   },
   "outputs": [],
   "source": [
    "import os\n",
    "import sys\n",
    "import imp\n",
    "import pprint\n",
    "\n",
    "sys.path.append('/nuwa_cluster/home/jackyu/climatools/')\n",
    "import climatools.misc as climamisc\n",
    "imp.reload(climamisc)\n",
    "\n",
    "from IPython.display import HTML"
   ]
  },
  {
   "cell_type": "code",
   "execution_count": 91,
   "metadata": {
    "collapsed": false
   },
   "outputs": [],
   "source": [
    "def related_fortran_files():\n",
    "    dir_rrtmg = '/nuwa_cluster/home/jackyu/climate_models/cesm1_2_2/\\\n",
    "models/atm/cam/src/physics/rrtmg/'\n",
    "    \n",
    "    relative_filepaths = ['radlw.F90',\n",
    "                         'ext/rrtmg_mcica/rrtmg_lw_rad.f90',\n",
    "                         ]\n",
    "    \n",
    "    absolute_paths = [os.path.join(dir_rrtmg, filepath) for filepath in relative_filepaths]\n",
    "    return absolute_paths"
   ]
  },
  {
   "cell_type": "code",
   "execution_count": 92,
   "metadata": {
    "collapsed": true
   },
   "outputs": [],
   "source": [
    "def read_subroutines_from_file(fpath):\n",
    "    with open(fpath, mode = 'r', encoding = 'utf-8') as file:\n",
    "        code = file.read()\n",
    "    subroutines = climamisc.get_subroutine_bodies_from_Fortran(code)\n",
    "    return subroutines\n",
    "\n",
    "\n",
    "def print_subroutines(fpath):\n",
    "    subroutines = read_subroutines_from_file(fpath)\n",
    "    for subroutine in subroutines:\n",
    "        print(climamisc.get_Fortran_subroutine_name(subroutine))\n",
    "        for called_subroutine in sorted(list(climamisc.get_called_Fortran_subroutine_names(subroutine))):\n",
    "            print('    ', called_subroutine)\n",
    "        print()\n",
    "\n",
    "        \n",
    "def get_subroutines_from_file(fpath):\n",
    "    subroutines = read_subroutines_from_file(fpath)\n",
    "    return [climamisc.Fortran_subroutine_to_dict(subr) for subr in subroutines]\n"
   ]
  },
  {
   "cell_type": "code",
   "execution_count": 95,
   "metadata": {
    "collapsed": false
   },
   "outputs": [
    {
     "name": "stdout",
     "output_type": "stream",
     "text": [
      "{'inatm': {'childs': [], 'parents': ['rrtmg_lw_clirad_maxrandom', 'rrtmg_lw']},\n",
      " 'rad_rrtmg_lw': {'childs': ['rrtmg_lw_clirad_maxrandom',\n",
      "                             't_stopf',\n",
      "                             'outfld',\n",
      "                             't_startf',\n",
      "                             'mcica_subcol_lw',\n",
      "                             'rrtmg_lw',\n",
      "                             'cloud_overlap_lw_clirad_maxrandom'],\n",
      "                  'parents': []},\n",
      " 'radlw_init': {'childs': [], 'parents': []},\n",
      " 'rrtmg_lw': {'childs': ['inatm', 'cldprmc', 'setcoef', 'taumol', 'rtrnmc'],\n",
      "              'parents': ['rad_rrtmg_lw']},\n",
      " 'rrtmg_lw_clirad_maxrandom': {'childs': ['inatm',\n",
      "                                          'cldprmc',\n",
      "                                          'setcoef',\n",
      "                                          'taumol',\n",
      "                                          'rtrnmc'],\n",
      "                               'parents': ['rad_rrtmg_lw']}}\n"
     ]
    }
   ],
   "source": [
    "paths_fortran = related_fortran_files()\n",
    "\n",
    "list_subrs = []\n",
    "for fpath in paths_fortran:\n",
    "    list_subrs.extend(get_subroutines_from_file(fpath))\n",
    "\n",
    "d_subr_childs = climamisc.Fortran_subroutine_childs_dict(list_subrs)\n",
    "d_subr_parents = climamisc.Fortran_subroutine_parents_dict(subr_childs_dict)\n",
    "d_subr_childs_parents = climamisc.Fortran_subroutine_parents_childs_dict(childs = subr_childs_dict, \n",
    "                                       parents = subr_parents_dict)\n",
    "\n",
    "pprint.pprint(d_subr_childs_parents)"
   ]
  },
  {
   "cell_type": "markdown",
   "metadata": {},
   "source": [
    "Quick scan of cloud variables through these subroutines suggests that the flow is more or less the same as shortwave.  It appears that optical depth, $\\tau$, is the only optical property passed along."
   ]
  },
  {
   "cell_type": "code",
   "execution_count": null,
   "metadata": {
    "collapsed": true
   },
   "outputs": [],
   "source": []
  }
 ],
 "metadata": {
  "kernelspec": {
   "display_name": "Python 3",
   "language": "python",
   "name": "python3"
  },
  "language_info": {
   "codemirror_mode": {
    "name": "ipython",
    "version": 3
   },
   "file_extension": ".py",
   "mimetype": "text/x-python",
   "name": "python",
   "nbconvert_exporter": "python",
   "pygments_lexer": "ipython3",
   "version": "3.4.3"
  }
 },
 "nbformat": 4,
 "nbformat_minor": 0
}
