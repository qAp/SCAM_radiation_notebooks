{
 "cells": [
  {
   "cell_type": "code",
   "execution_count": 121,
   "metadata": {
    "collapsed": false
   },
   "outputs": [],
   "source": [
    "import os\n",
    "import sys\n",
    "import imp\n",
    "import pprint\n",
    "\n",
    "sys.path.append('/nuwa_cluster/home/jackyu/climatools/')\n",
    "import climatools.misc as climamisc\n",
    "imp.reload(climamisc)\n",
    "\n",
    "from IPython.display import HTML"
   ]
  },
  {
   "cell_type": "code",
   "execution_count": 122,
   "metadata": {
    "collapsed": false
   },
   "outputs": [],
   "source": [
    "def related_fortran_files():\n",
    "    dir_rrtmg = '/nuwa_cluster/home/jackyu/climate_models/cesm1_2_2/\\\n",
    "models/atm/cam/src/physics/rrtmg/'\n",
    "    \n",
    "    relative_filepaths = ['radlw.F90',\n",
    "                         'ext/rrtmg_mcica/rrtmg_lw_rad.f90',\n",
    "                          'ext/rrtmg_mcica/mcica_subcol_gen_lw.f90'\n",
    "                         ]\n",
    "    \n",
    "    absolute_paths = [os.path.join(dir_rrtmg, filepath) for filepath in relative_filepaths]\n",
    "    return absolute_paths"
   ]
  },
  {
   "cell_type": "code",
   "execution_count": 123,
   "metadata": {
    "collapsed": true
   },
   "outputs": [],
   "source": [
    "def print_subroutines(fpath):\n",
    "    subroutines = read_subroutines_from_file(fpath)\n",
    "    for subroutine in subroutines:\n",
    "        print(climamisc.get_Fortran_subroutine_name(subroutine))\n",
    "        for called_subroutine in sorted(list(climamisc.get_called_Fortran_subroutine_names(subroutine))):\n",
    "            print('    ', called_subroutine)\n",
    "        print()\n"
   ]
  },
  {
   "cell_type": "code",
   "execution_count": 124,
   "metadata": {
    "collapsed": false
   },
   "outputs": [
    {
     "name": "stdout",
     "output_type": "stream",
     "text": [
      "{'broadcast_along_gpoints': {'childs': [],\n",
      "                             'parents': ['cloud_overlap_lw_clirad_maxrandom']},\n",
      " 'cast_against_iscloudy': {'childs': [],\n",
      "                           'parents': ['cloud_overlap_lw_clirad_maxrandom']},\n",
      " 'cldscale': {'childs': [], 'parents': ['cloud_overlap_lw_clirad_maxrandom']},\n",
      " 'cloud_overlap_lw_clirad_maxrandom': {'childs': ['cast_against_iscloudy',\n",
      "                                                  'lmhovrlp_probabilities',\n",
      "                                                  'broadcast_along_gpoints',\n",
      "                                                  'get_iscloudy',\n",
      "                                                  'setcoef_sw',\n",
      "                                                  'cldscale'],\n",
      "                                       'parents': ['rad_rrtmg_lw']},\n",
      " 'generate_stochastic_clouds': {'childs': ['endrun', 'kissvec'],\n",
      "                                'parents': ['mcica_subcol_lw']},\n",
      " 'get_iscloudy': {'childs': [],\n",
      "                  'parents': ['cloud_overlap_lw_clirad_maxrandom']},\n",
      " 'inatm': {'childs': [], 'parents': ['rrtmg_lw_clirad_maxrandom', 'rrtmg_lw']},\n",
      " 'kissvec': {'childs': [], 'parents': ['generate_stochastic_clouds']},\n",
      " 'lmhovrlp_probabilities': {'childs': [],\n",
      "                            'parents': ['cloud_overlap_lw_clirad_maxrandom']},\n",
      " 'mcica_subcol_lw': {'childs': ['generate_stochastic_clouds', 'endrun'],\n",
      "                     'parents': ['rad_rrtmg_lw']},\n",
      " 'rad_rrtmg_lw': {'childs': ['rrtmg_lw_clirad_maxrandom',\n",
      "                             't_stopf',\n",
      "                             'outfld',\n",
      "                             't_startf',\n",
      "                             'mcica_subcol_lw',\n",
      "                             'rrtmg_lw',\n",
      "                             'cloud_overlap_lw_clirad_maxrandom'],\n",
      "                  'parents': []},\n",
      " 'radlw_init': {'childs': [], 'parents': []},\n",
      " 'rrtmg_lw': {'childs': ['inatm', 'cldprmc', 'setcoef', 'taumol', 'rtrnmc'],\n",
      "              'parents': ['rad_rrtmg_lw']},\n",
      " 'rrtmg_lw_clirad_maxrandom': {'childs': ['inatm',\n",
      "                                          'cldprmc',\n",
      "                                          'setcoef',\n",
      "                                          'taumol',\n",
      "                                          'rtrnmc'],\n",
      "                               'parents': ['rad_rrtmg_lw']},\n",
      " 'setcoef_sw': {'childs': [],\n",
      "                'parents': ['cloud_overlap_lw_clirad_maxrandom']}}\n"
     ]
    }
   ],
   "source": [
    "pprint.pprint(climamisc.Fortran_subroutine_relations_from_files(paths_fortran = related_fortran_files()))"
   ]
  },
  {
   "cell_type": "markdown",
   "metadata": {},
   "source": [
    "Quick scan of cloud variables through these subroutines suggests that the flow is more or less the same as shortwave.  It appears that optical depth, $\\tau$, is the only optical property passed along."
   ]
  },
  {
   "cell_type": "code",
   "execution_count": null,
   "metadata": {
    "collapsed": true
   },
   "outputs": [],
   "source": []
  }
 ],
 "metadata": {
  "kernelspec": {
   "display_name": "Python 3",
   "language": "python",
   "name": "python3"
  },
  "language_info": {
   "codemirror_mode": {
    "name": "ipython",
    "version": 3
   },
   "file_extension": ".py",
   "mimetype": "text/x-python",
   "name": "python",
   "nbconvert_exporter": "python",
   "pygments_lexer": "ipython3",
   "version": "3.4.3"
  }
 },
 "nbformat": 4,
 "nbformat_minor": 0
}
