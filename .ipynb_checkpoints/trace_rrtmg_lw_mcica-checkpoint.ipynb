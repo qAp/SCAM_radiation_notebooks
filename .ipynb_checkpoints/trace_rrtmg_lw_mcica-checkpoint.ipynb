{
 "cells": [
  {
   "cell_type": "code",
   "execution_count": 1,
   "metadata": {
    "collapsed": false
   },
   "outputs": [
    {
     "data": {
      "text/plain": [
       "<module 'climatools.misc' from '/nuwa_cluster/home/jackyu/climatools/climatools/misc.py'>"
      ]
     },
     "execution_count": 1,
     "metadata": {},
     "output_type": "execute_result"
    }
   ],
   "source": [
    "import os\n",
    "import sys\n",
    "import imp\n",
    "\n",
    "sys.path.append('/nuwa_cluster/home/jackyu/climatools/')\n",
    "import climatools.misc as climamisc\n",
    "imp.reload(climamisc)"
   ]
  },
  {
   "cell_type": "code",
   "execution_count": 2,
   "metadata": {
    "collapsed": false
   },
   "outputs": [
    {
     "data": {
      "text/plain": [
       "['__builtins__',\n",
       " '__cached__',\n",
       " '__doc__',\n",
       " '__file__',\n",
       " '__loader__',\n",
       " '__name__',\n",
       " '__package__',\n",
       " '__spec__',\n",
       " 'any_unique_labels',\n",
       " 'get_Fortran_subroutine_name',\n",
       " 'get_called_Fortran_subroutine_names',\n",
       " 'get_subroutine_bodies_from_Fortran',\n",
       " 'print_datatset_longnames',\n",
       " 're']"
      ]
     },
     "execution_count": 2,
     "metadata": {},
     "output_type": "execute_result"
    }
   ],
   "source": [
    "dir(climamisc)"
   ]
  },
  {
   "cell_type": "code",
   "execution_count": 13,
   "metadata": {
    "collapsed": true
   },
   "outputs": [],
   "source": [
    "def print_subroutines(fpath):\n",
    "    with open(fpath, mode = 'r', encoding = 'utf-8') as file:\n",
    "        code = file.read()\n",
    "    subroutines = climamisc.get_subroutine_bodies_from_Fortran(code)\n",
    "    for subroutine in subroutines:\n",
    "        print(climamisc.get_Fortran_subroutine_name(subroutine))\n",
    "        for called_subroutine in sorted(list(climamisc.get_called_Fortran_subroutine_names(subroutine))):\n",
    "            print('    ', called_subroutine)\n",
    "        print()"
   ]
  },
  {
   "cell_type": "code",
   "execution_count": 14,
   "metadata": {
    "collapsed": false
   },
   "outputs": [
    {
     "name": "stdout",
     "output_type": "stream",
     "text": [
      "rad_rrtmg_lw\n",
      "     mcica_subcol_lw\n",
      "     outfld\n",
      "     rrtmg_lw\n",
      "     t_startf\n",
      "     t_stopf\n",
      "\n",
      "radlw_init\n",
      "\n"
     ]
    }
   ],
   "source": [
    "radlw_path = '/nuwa_cluster/home/jackyu/climate_models/cesm1_2_2/\\\n",
    "models/atm/cam/src/physics/rrtmg/radlw.F90'\n",
    "\n",
    "print_subroutines(radlw_path)"
   ]
  },
  {
   "cell_type": "code",
   "execution_count": 15,
   "metadata": {
    "collapsed": false
   },
   "outputs": [
    {
     "name": "stdout",
     "output_type": "stream",
     "text": [
      "rrtmg_lw\n",
      "     cldprmc\n",
      "     inatm\n",
      "     rtrnmc\n",
      "     setcoef\n",
      "     taumol\n",
      "\n",
      "inatm\n",
      "\n"
     ]
    }
   ],
   "source": [
    "rrtmg_lw_rad_path = '/nuwa_cluster/home/jackyu/climate_models/cesm1_2_2/\\\n",
    "models/atm/cam/src/physics/rrtmg/ext/rrtmg_mcica/rrtmg_lw_rad.f90'\n",
    "\n",
    "print_subroutines(rrtmg_lw_rad_path)"
   ]
  },
  {
   "cell_type": "code",
   "execution_count": 16,
   "metadata": {
    "collapsed": false
   },
   "outputs": [
    {
     "name": "stdout",
     "output_type": "stream",
     "text": [
      "rtrnmc\n",
      "\n"
     ]
    }
   ],
   "source": [
    "rtrnmc_lw_path = '/nuwa_cluster/home/jackyu/climate_models/cesm1_2_2/\\\n",
    "models/atm/cam/src/physics/rrtmg/ext/rrtmg_mcica/rrtmg_lw_rtrnmc.f90'\n",
    "\n",
    "print_subroutines(rtrnmc_lw_path)"
   ]
  },
  {
   "cell_type": "markdown",
   "metadata": {},
   "source": [
    "Quick scan of cloud variables through these subroutines suggests that the flow is more or less the same as shortwave.  It appears that optical depth, $\\tau$, is the only optical property passed along."
   ]
  },
  {
   "cell_type": "code",
   "execution_count": null,
   "metadata": {
    "collapsed": true
   },
   "outputs": [],
   "source": []
  }
 ],
 "metadata": {
  "kernelspec": {
   "display_name": "Python 3",
   "language": "python",
   "name": "python3"
  },
  "language_info": {
   "codemirror_mode": {
    "name": "ipython",
    "version": 3
   },
   "file_extension": ".py",
   "mimetype": "text/x-python",
   "name": "python",
   "nbconvert_exporter": "python",
   "pygments_lexer": "ipython3",
   "version": "3.4.3"
  }
 },
 "nbformat": 4,
 "nbformat_minor": 0
}
