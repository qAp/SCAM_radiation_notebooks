{
 "cells": [
  {
   "cell_type": "code",
   "execution_count": 1,
   "metadata": {
    "collapsed": false
   },
   "outputs": [
    {
     "data": {
      "text/plain": [
       "<module 'climatools.misc' from '/nuwa_cluster/home/jackyu/climatools/climatools/misc.py'>"
      ]
     },
     "execution_count": 1,
     "metadata": {},
     "output_type": "execute_result"
    }
   ],
   "source": [
    "import os\n",
    "import sys\n",
    "import imp\n",
    "\n",
    "sys.path.append('/nuwa_cluster/home/jackyu/climatools/')\n",
    "import climatools.misc as climamisc\n",
    "imp.reload(climamisc)"
   ]
  },
  {
   "cell_type": "code",
   "execution_count": 2,
   "metadata": {
    "collapsed": true
   },
   "outputs": [],
   "source": [
    "def print_subroutines(fpath):\n",
    "    with open(fpath, mode = 'r', encoding = 'utf-8') as file:\n",
    "        code = file.read()\n",
    "    subroutines = climamisc.get_subroutine_bodies_from_Fortran(code)\n",
    "    for subroutine in subroutines:\n",
    "        print(climamisc.get_Fortran_subroutine_name(subroutine))\n",
    "        for called_subroutine in sorted(list(climamisc.get_called_Fortran_subroutine_names(subroutine))):\n",
    "            print('    ', called_subroutine)\n",
    "        print()"
   ]
  },
  {
   "cell_type": "markdown",
   "metadata": {},
   "source": [
    "## radsw.F90"
   ]
  },
  {
   "cell_type": "code",
   "execution_count": 3,
   "metadata": {
    "collapsed": true
   },
   "outputs": [],
   "source": [
    "def getfpath_radsw():\n",
    "    fpath = '/nuwa_cluster/home/jackyu/climate_models/\\\n",
    "cesm1_2_2/models/atm/cam/src/physics/rrtmg/\\\n",
    "radsw.F90'\n",
    "    return fpath"
   ]
  },
  {
   "cell_type": "code",
   "execution_count": 4,
   "metadata": {
    "collapsed": false
   },
   "outputs": [
    {
     "name": "stdout",
     "output_type": "stream",
     "text": [
      "rad_rrtmg_sw\n",
      "     CmpDayNite\n",
      "     ExpDayNite\n",
      "     mcica_subcol_sw\n",
      "     outfld\n",
      "     rrtmg_sw\n",
      "     t_startf\n",
      "     t_stopf\n",
      "\n",
      "radsw_init\n",
      "     get_ref_solar_band_irrad\n",
      "     get_solar_band_fraction_irrad\n",
      "\n"
     ]
    }
   ],
   "source": [
    "print_subroutines(getfpath_radsw())"
   ]
  },
  {
   "cell_type": "markdown",
   "metadata": {},
   "source": [
    "## rrtmg_sw_rad.f90 "
   ]
  },
  {
   "cell_type": "code",
   "execution_count": 5,
   "metadata": {
    "collapsed": true
   },
   "outputs": [],
   "source": [
    "fpath_nomcica = '/nuwa_cluster/home/jackyu/climate_models/\\\n",
    "cesm1_2_2/models/atm/cam/src/physics/rrtmg/\\\n",
    "ext/rrtmg_sw/rrtmg_sw_rad.f90'"
   ]
  },
  {
   "cell_type": "code",
   "execution_count": 6,
   "metadata": {
    "collapsed": false
   },
   "outputs": [
    {
     "name": "stdout",
     "output_type": "stream",
     "text": [
      "rrtmg_sw\n",
      "     cldprop_sw\n",
      "     inatm_sw\n",
      "     setcoef_sw\n",
      "     spcvrt_sw\n",
      "\n",
      "inatm_sw\n",
      "\n"
     ]
    }
   ],
   "source": [
    "print_subroutines(fpath_nomcica)"
   ]
  },
  {
   "cell_type": "markdown",
   "metadata": {},
   "source": [
    "### inatm_sw() no McICA\n",
    "In effect this selects a column (or longitude), so the *ncol* dimension is removed, and it outputs a new cloud variable named *ice particle generalised effective size*.\n",
    "\n",
    "INPUT:\n",
    "\n",
    "*(ncol, nlay)*\n",
    "* fraction (cldfr)\n",
    "* ice water path (cicewp)\n",
    "* liquid water path (cliqwp)\n",
    "* ice effective radius (reice)\n",
    "* water drop effective radius (reliq)\n",
    "\n",
    "*(nbndsw, ncol, nlay)*\n",
    "* optical depth (taucld)\n",
    "* single scattering albedo (ssacld)\n",
    "* asymmetry parameter (asmcld)\n",
    "\n",
    "OUTPUT:\n",
    "\n",
    "*(nlay)*\n",
    "* layer fraction (cldfrac)\n",
    "* ice water path (ciwp)\n",
    "* liquid water path (clwp)\n",
    "* liquid particle effective radius (rel)\n",
    "* ice particle effective radius (rei)\n",
    "* ice particle generalised effective size (dge)\n",
    "\n",
    "*(nbndsw, nlay)*\n",
    "* optical depth (non-delta scaled) (tauc)\n",
    "* single scattering albedo (non-delta scaled) (ssac)\n",
    "* asymmetry parameter (no-delta scaled) (asmc)"
   ]
  },
  {
   "cell_type": "markdown",
   "metadata": {},
   "source": [
    "## rrtmg_sw_cldprop.f90"
   ]
  },
  {
   "cell_type": "code",
   "execution_count": 7,
   "metadata": {
    "collapsed": true
   },
   "outputs": [],
   "source": [
    "def get_fpath_for_rrtmg_sw_cldprop(mcica = True):\n",
    "    if mcica:\n",
    "        return '/nuwa_cluster/home/jackyu/climate_models/\\\n",
    "cesm1_2_2/models/atm/cam/src/physics/rrtmg/\\\n",
    "ext/rrtmg_mcica/rrtmg_sw_cldprmc.f90'\n",
    "    else:\n",
    "        return '/nuwa_cluster/home/jackyu/climate_models/\\\n",
    "cesm1_2_2/models/atm/cam/src/physics/rrtmg/\\\n",
    "ext/rrtmg_sw/rrtmg_sw_cldprop.f90'"
   ]
  },
  {
   "cell_type": "code",
   "execution_count": 8,
   "metadata": {
    "collapsed": false
   },
   "outputs": [
    {
     "name": "stdout",
     "output_type": "stream",
     "text": [
      "cldprop_sw\n",
      "\n"
     ]
    }
   ],
   "source": [
    "print_subroutines(get_fpath_for_rrtmg_sw_cldprop(mcica = False))"
   ]
  },
  {
   "cell_type": "markdown",
   "metadata": {},
   "source": [
    "### cldprop_sw()\n",
    "This turns non-delta scaled optical properties to delta scaled optical properties.\n",
    "\n",
    "INPUT:\n",
    "\n",
    "*(nlay)*\n",
    "* fraction (cldfrac)\n",
    "* ice water path (ciwp)\n",
    "* liquid water path (clwp)\n",
    "* ice particle effective radius (rei)\n",
    "* ice particle generalised effetive size (rel)\n",
    "* liquid particle generalised effective size (dge)\n",
    "\n",
    "*(nbndsw, nlay)*\n",
    "* optical depth (tauc)\n",
    "* single scattering albedo (ssac)\n",
    "* asymmetry parameter (asmc)\n",
    "\n",
    "OUTPUT:\n",
    "\n",
    "*(nlay, jpband)*  \n",
    "* optical depth (delta scaled) (taucloud)\n",
    "* optical depth (non-delta scaled) (taucldorig)\n",
    "* single scattering albedo (delta scaled) (ssacloud)\n",
    "* asymmetry parameter (delta scaled) (asmcloud)\n",
    "\n",
    "Really though, according to the code jpband here equals nbndsw, 14."
   ]
  },
  {
   "cell_type": "markdown",
   "metadata": {},
   "source": [
    "## rrtmg_sw_spcvrt.f90"
   ]
  },
  {
   "cell_type": "code",
   "execution_count": 10,
   "metadata": {
    "collapsed": true
   },
   "outputs": [],
   "source": [
    "def get_fpaths_for_spc(mcica = True):\n",
    "    if mcica:\n",
    "        return '/nuwa_cluster/home/jackyu/climate_models/\\\n",
    "cesm1_2_2/models/atm/cam/src/physics/rrtmg/\\\n",
    "ext/rrtmg_mcica/rrtmg_sw_spcvmc.f90'\n",
    "    else:\n",
    "        return '/nuwa_cluster/home/jackyu/climate_models/\\\n",
    "cesm1_2_2/models/atm/cam/src/physics/rrtmg/\\\n",
    "ext/rrtmg_sw/rrtmg_sw_spcvrt.f90'"
   ]
  },
  {
   "cell_type": "code",
   "execution_count": 11,
   "metadata": {
    "collapsed": false
   },
   "outputs": [
    {
     "name": "stdout",
     "output_type": "stream",
     "text": [
      "spcvrt_sw\n",
      "     reftra_sw\n",
      "     taumol_sw\n",
      "     vrtqdr_sw\n",
      "\n"
     ]
    }
   ],
   "source": [
    "print_subroutines(get_fpaths_for_spc(mcica = False))"
   ]
  },
  {
   "cell_type": "markdown",
   "metadata": {},
   "source": [
    "### spcvrt_sw()\n",
    "\n",
    "Overall structure:\n",
    "\n",
    "    call taumol_sw()\n",
    "\n",
    "    do spectral bands\n",
    "    \n",
    "        do g-points\n",
    "        \n",
    "            do layers\n",
    "                ... <---- cloud variables appear here, they are spectral band-dependent\n",
    "                \n",
    "            call reftra_sw()\n",
    "            \n",
    "            do layers\n",
    "            \n",
    "            call vrtqdr_sw()\n",
    "            \n",
    "            do layers\n",
    "            \n",
    "            \n",
    "\n",
    "INPUT:\n",
    "\n",
    "*(nlay)*\n",
    "* fraction (pclfr)\n",
    "\n",
    "*(nlay, nbndsw)*\n",
    "* optical depth (ptauc)\n",
    "* asymmetry parameter (pasyc)\n",
    "* single scattering albedo (pomgc)\n",
    "* optical depth (non-delta scaled) (ptaucorig)\n",
    "\n",
    "OUTPUT:\n"
   ]
  },
  {
   "cell_type": "code",
   "execution_count": null,
   "metadata": {
    "collapsed": true
   },
   "outputs": [],
   "source": []
  }
 ],
 "metadata": {
  "kernelspec": {
   "display_name": "Python 3",
   "language": "python",
   "name": "python3"
  },
  "language_info": {
   "codemirror_mode": {
    "name": "ipython",
    "version": 3
   },
   "file_extension": ".py",
   "mimetype": "text/x-python",
   "name": "python",
   "nbconvert_exporter": "python",
   "pygments_lexer": "ipython3",
   "version": "3.4.3"
  }
 },
 "nbformat": 4,
 "nbformat_minor": 0
}
