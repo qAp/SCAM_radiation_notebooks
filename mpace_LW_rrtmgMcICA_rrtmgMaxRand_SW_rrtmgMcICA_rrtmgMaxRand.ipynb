{
 "cells": [
  {
   "cell_type": "code",
   "execution_count": 209,
   "metadata": {
    "collapsed": false
   },
   "outputs": [],
   "source": [
    "import os\n",
    "import sys\n",
    "import glob\n",
    "import datetime\n",
    "%matplotlib inline\n",
    "import matplotlib\n",
    "import matplotlib.pyplot as plt\n",
    "import pandas as pd\n",
    "import numpy as np\n",
    "import xray\n",
    "import random\n",
    "import itertools\n",
    "import urllib\n",
    "import json\n",
    "import importlib as imp\n",
    "\n",
    "from IPython import display\n",
    "\n",
    "sys.path.append('/nuwa_cluster/home/jackyu/climatools/')\n",
    "import climatools.dates as climadates\n",
    "import climatools.viz as climaviz\n",
    "import climatools.misc as climamisc\n",
    "import climatools.muths as climaths\n",
    "import climatools.units as climaunits\n",
    "import climatools.geocoords as climageocoords\n",
    "\n",
    "#from IPython.lib.deepreload import reload as dreload\n",
    "imp.reload(climadates)\n",
    "imp.reload(climaviz)\n",
    "imp.reload(climamisc)\n",
    "imp.reload(climaths)\n",
    "imp.reload(climaunits)\n",
    "\n",
    "matplotlib.rcParams.update({'font.size': 13, \n",
    "                            'xtick.direction': 'out',\n",
    "                            'ytick.direction': 'out'})"
   ]
  },
  {
   "cell_type": "markdown",
   "metadata": {},
   "source": [
    "# MPACE\n",
    "\n",
    "2 cases considered here are:\n",
    "\n",
    "* a McICA --- RRTMG with McICA cloud overlapping, output sent to CAM\n",
    "* b MaxRand --- RRTMG with CLIRAD's maximum random cloud overlapping\n",
    "\n",
    "Both above cases use the same input state in each model nstep. \n"
   ]
  },
  {
   "cell_type": "code",
   "execution_count": 210,
   "metadata": {
    "collapsed": true
   },
   "outputs": [],
   "source": [
    "iopname = 'mpace_LW_rrtmgMcICA_rrtmgMaxRand_SW_rrtmgMcICA_rrtmgMaxRand'\n",
    "\n",
    "def case_names():\n",
    "    return ['a McICA', 'b MaxRand']\n",
    "\n",
    "# Each case here refers to a model, or a model configuration, and is assigned the path to its output data.\n",
    "def get_cases():\n",
    "    '''\n",
    "    Returns a dictionary where the keys are cases, such\n",
    "    as a name for a SCAM run, and the values are the datasets (xray)\n",
    "    for the cases\n",
    "    '''\n",
    "    ds = xray.open_dataset('../examples/MPACE/cam5_noavg_LW_rrtmgMcICA_rrtmgMaxRand_SW_rrtmgMcICA_rrtmgMaxRand/camrun.cam.h0.2004-10-05-07171.nc',\n",
    "                          decode_times = False)\n",
    "    RTM1_names = [k for k in list(ds) if '_RTM1' in k]\n",
    "    rrtmg_names = [name.split('_')[0] for name in RTM1_names]\n",
    "    common_names = [k for k in list(ds) \n",
    "                    if k not in (RTM1_names + rrtmg_names)]\n",
    "    \n",
    "    ds_RTM1 = xray.Dataset()\n",
    "    ds_RTM1.update(ds[common_names].copy(deep = True), inplace = True)\n",
    "    ds_RTM1.update(ds[RTM1_names].copy(deep = True), inplace = True)\n",
    "    ds_RTM1.rename(dict(zip(RTM1_names, rrtmg_names)), inplace = True)\n",
    "    \n",
    "    ds_rrtmg = xray.Dataset()\n",
    "    ds_rrtmg.update(ds[common_names].copy(deep = True), inplace = True)\n",
    "    ds_rrtmg.update(ds[rrtmg_names].copy(deep = True), inplace = True)     \n",
    "    \n",
    "       \n",
    "    return dict(zip(case_names(), [ds_rrtmg, ds_RTM1]))\n",
    "\n",
    "\n",
    "\n",
    "\n",
    "\n",
    "def compute_net_solar_fluxes(datasets):\n",
    "    '''\n",
    "    Compute net solar fluxes\n",
    "    '''\n",
    "    for casename, ds in datasets.items():\n",
    "        ds['net_FS'] = ds['FDS'] - ds['FUS']\n",
    "        ds['net_FS'].attrs['units'] = ds['FDS'].attrs['units']\n",
    "        ds['net_FS'].attrs['long_name'] = 'net solar flux'\n",
    "        ds['net_FS'].attrs['case_name'] = casename\n",
    "        \n",
    "        ds['net_FSC'] = ds['FDSC'] - ds['FUSC']\n",
    "        ds['net_FSC'].attrs['units'] = ds['FDSC'].attrs['units']\n",
    "        ds['net_FSC'].attrs['long_name'] = 'net solar flux (clear-sky)'\n",
    "        ds['net_FSC'].attrs['case_name'] = casename\n",
    "    return datasets\n",
    "\n",
    "\n",
    "\n",
    "\n",
    "def linestyles_by_case():\n",
    "    return dict(zip(case_names(), \n",
    "                    [{'colour': 'g', 'linestyle': '--'},\n",
    "                     {'colour': 'b', 'linestyle': '--'}]))"
   ]
  },
  {
   "cell_type": "code",
   "execution_count": 211,
   "metadata": {
    "collapsed": true
   },
   "outputs": [],
   "source": [
    "def get_cases_difference():\n",
    "    return [('b MaxRand', 'a McICA'),]"
   ]
  },
  {
   "cell_type": "code",
   "execution_count": 212,
   "metadata": {
    "collapsed": false
   },
   "outputs": [],
   "source": [
    "############### Coordinate conversion functions ################\n",
    "################################################################\n",
    "# *lev* is converted from hybrid levels to mbar.    \n",
    "# *time* is converted from days since start to datetime.datetime objects\n",
    "\n",
    "\n",
    "def convert_pressure_time_units(cases):\n",
    "    '''\n",
    "    Convert pressure and time units to mbar and datetime objects.\n",
    "    This assumes all datasets have the same pressure and time\n",
    "    coordinates.  This conversion is done early using fields such as\n",
    "    hyam, which will not be needed later.\n",
    "    '''\n",
    "    ds = cases[random.choice(list(cases.keys()))]\n",
    "    lev = climaunits.hybrid2mbar(ds, level_type = 'lev')\n",
    "    ilev = climaunits.hybrid2mbar(ds, level_type = 'ilev')\n",
    "    datetimes = climadates.time2datetimes(ds)\n",
    "    datetimes = [climadates.\\\n",
    "                 UTCtime_to_localtime(datetime, \n",
    "                                      lon = climageocoords.\\\n",
    "                                      positivise_longitude(ds['lon'].values[0])) \\\n",
    "                 for datetime in datetimes]\n",
    "    return ilev, lev, datetimes"
   ]
  },
  {
   "cell_type": "code",
   "execution_count": 213,
   "metadata": {
    "collapsed": false,
    "scrolled": true
   },
   "outputs": [],
   "source": [
    "cases = get_cases()\n",
    "cases = compute_net_solar_fluxes(cases)\n",
    "ilev, lev, datetimes = convert_pressure_time_units(cases)"
   ]
  },
  {
   "cell_type": "code",
   "execution_count": 214,
   "metadata": {
    "collapsed": true
   },
   "outputs": [],
   "source": [
    "################## Variables of dimensions (time, lev, lon, lat) ########################\n",
    "################################################################################"
   ]
  },
  {
   "cell_type": "code",
   "execution_count": 215,
   "metadata": {
    "collapsed": false
   },
   "outputs": [],
   "source": [
    "### for pre-processing\n",
    "\n",
    "\n",
    "\n",
    "def get_d3interests():\n",
    "    '''List all interested fields here.  \n",
    "    These have to be of dimensions (time, lev, lon, lat)'''\n",
    "    d3interests = ['CLOUD', 'QRL', 'QRS', 'Q',\n",
    "                   'CLDICE', 'CLDLIQ', \n",
    "                   'AQSNOW', 'AREI', 'AREL',\n",
    "                  'AWNC', 'AWNI', \n",
    "                   'DCQ', 'DTCOND', \n",
    "                   'ICIMR', 'ICWMR', \n",
    "                   'NUMLIQ', 'NUMICE', 'T', 'RELHUM',\n",
    "                  'FUL', 'FDL', 'FULC', 'FDLC', 'net_FS', 'net_FSC',\n",
    "                  'FUS', 'FDS', 'FUSC', 'FDSC',\n",
    "                  'TOT_CLD_VISTAU']\n",
    "    return sorted(d3interests)\n",
    "\n",
    "\n",
    "def gather_interests_from_cases(cases, interests):\n",
    "    '''\n",
    "    Creates a dictionary with keys being the cases.\n",
    "    For each case is an Xray Dataset containing the interested fields\n",
    "    '''\n",
    "    datasets = {} \n",
    "\n",
    "    for case, ds in cases.items():\n",
    "        datasets[case] = ds[interests].copy(deep = True)\n",
    "        datasets[case].attrs['case_name'] = case\n",
    "    return datasets\n",
    "\n",
    "\n",
    "def convert_units(datasets, ilev, lev, datetimes):\n",
    "    '''\n",
    "    Convert units for certain fields for all cases in DATASETS.\n",
    "    INPUT:\n",
    "    ilev --- level(interface) pressure in mbar\n",
    "    lev  --- layer(level) pressure in mbar\n",
    "    datetimes --- time in pandas DatetimeIndex objects\n",
    "    '''\n",
    "    for name, ds in datasets.items():\n",
    "        ds.coords['ilev'] = ('ilev', ilev, {'units': 'mbar'})\n",
    "        ds.coords['lev'] = ('lev', lev, {'units': 'mbar'})\n",
    "        ds.coords['time'] = ('time', datetimes, {'units': 'datetime'})\n",
    "        \n",
    "        for k in ['TOT_CLD_VISTAU',]:\n",
    "            if k in ds:\n",
    "                pass #ds[k].values[ds[k].isnull().values] = - 0.\n",
    "        \n",
    "        for k in ['FUS', 'FDS', 'net_FS', 'net_FSC']:\n",
    "            if k in ds:\n",
    "                ds[k] *= 1e3\n",
    "    \n",
    "        for k in ['QRL', 'QRS', 'DTCOND']:\n",
    "            if k in ds:\n",
    "                ds[k] *= 86400\n",
    "                ds[k].attrs['units'] = 'K/day'\n",
    "        \n",
    "        for k in ['Q', ]:\n",
    "            if k in ds:\n",
    "                ds[k] *= 1e3\n",
    "                ds[k].attrs['units'] = 'g/kg'\n",
    "        \n",
    "        for k in ['CLDICE', 'CLDLIQ', 'AQSNOW']:\n",
    "            if k in ds:\n",
    "                ds[k] *= 1e6\n",
    "                ds[k].attrs['units'] = 'mg/kg'\n",
    "                \n",
    "    return datasets\n",
    "\n",
    "\n",
    "\n",
    "\n",
    "\n",
    "def take_difference_between_cases(datasets):\n",
    "    '''\n",
    "    Take the difference between all cases for every field\n",
    "    and return in a similar dictionary\n",
    "    '''\n",
    "    diff_strs = get_cases_difference()\n",
    "    \n",
    "    return {x + ' - ' + y: datasets[x] - datasets[y] \n",
    "            for x, y in diff_strs}\n",
    "\n",
    "\n",
    "def passon_attrs_casename(datasets, diff_datasets):\n",
    "    '''\n",
    "    Create an attribute for each case.\n",
    "    Copy over attributes to the differences.\n",
    "    This is not nice, might be good to get rid of \n",
    "    the dependency on this.\n",
    "    '''\n",
    "    interests = get_d3interests() \n",
    "    \n",
    "    for ds_name, ds in diff_datasets.items():\n",
    "        ds.attrs['case_name'] = ds_name\n",
    "        for interest in interests:\n",
    "            ds[interest].attrs = dict(\n",
    "                datasets[random.choice(list(datasets.keys()))][interest].attrs)\n",
    "            ds[interest].attrs['case_name'] = ds_name\n",
    "        \n",
    "    for ds_name, ds in datasets.items():\n",
    "        for interest in interests:\n",
    "            ds[interest].attrs['case_name'] = ds_name\n",
    "            \n",
    "    return datasets, diff_datasets\n",
    "\n",
    "\n",
    "def prep_data(cases, ilev, lev, datetimes):\n",
    "    '''\n",
    "    Preprocess data for plotting. \n",
    "    pressure and datetimes need to be provided for unit conversion.\n",
    "    INPUT:\n",
    "    ilev --- level(interface) pressure [mbar]\n",
    "    lev --- layer(level) pressure [mbar]\n",
    "    datetimes --- time in pandas DatetimeIndex objects    \n",
    "    '''\n",
    "    interests = get_d3interests()\n",
    "    datasets = gather_interests_from_cases(cases, interests)\n",
    "    datasets = convert_units(datasets, ilev, lev, datetimes)\n",
    "    diff_datasets = take_difference_between_cases(datasets)\n",
    "    datasets, diff_datasets = passon_attrs_casename(datasets, diff_datasets)\n",
    "    return datasets, diff_datasets\n"
   ]
  },
  {
   "cell_type": "code",
   "execution_count": 216,
   "metadata": {
    "collapsed": false
   },
   "outputs": [],
   "source": [
    "def interests_using_bwr_cmap():\n",
    "    return ['QRL', 'QRS',\n",
    "           'DTCOND', 'DCQ']\n",
    "\n",
    "\n",
    "\n",
    "# for writing plotted figures to disk\n",
    "def writefig_contourfs(d3sets, diff_d3sets, \n",
    "                       interests, \n",
    "                       dir_label = 'example_dir_label',\n",
    "                       file_label = 'example_file_label',\n",
    "                       fmt = 'png'):\n",
    "    '''\n",
    "    For each interest, produce one figure containing contour\n",
    "    plots for all cases, another figure containing contour \n",
    "    Hackish colormap selection here, basically look up a dictionary.\n",
    "    '''\n",
    "\n",
    "    for interest in interests:\n",
    "        \n",
    "        dirname = 'figs_{}'.format(dir_label)\n",
    "        if dirname not in glob.glob(dirname):\n",
    "            os.mkdir(dirname)\n",
    "\n",
    "        if interest in interests_using_bwr_cmap():\n",
    "            cmap_name = 'bwr'\n",
    "        else:\n",
    "            cmap_name = 'PuBuGn'\n",
    "            \n",
    "        fig = climaviz.contourf_interest_for_all_cases(d3sets, interest,\n",
    "                                           cmap = plt.get_cmap(cmap_name))\n",
    "        fig.savefig(dirname + '/contourf_{}.{}'.format('_'.join([interest, file_label]), fmt))\n",
    "        plt.close()\n",
    "        \n",
    "        fig = climaviz.contourf_interest_for_all_cases(diff_d3sets, interest,\n",
    "                                           cmap = plt.get_cmap('bwr'))\n",
    "        fig.savefig(dirname + '/contourf_{}_diff.{}'.format('_'.join([interest, file_label]), fmt))\n",
    "        plt.close()\n",
    "        \n",
    "\n",
    "        \n",
    "def writefig_timeaveraged_VSplots(d3sets, diff_d3sets,\n",
    "                                 interests, \n",
    "                                 dir_label = 'example_dir_label', file_label = 'example_file_label',\n",
    "                                 fmt = 'png'):\n",
    "    for interest in interests:        \n",
    "        dirname = 'figs_{}'.format(dir_label)\n",
    "        if dirname not in glob.glob(dirname):\n",
    "            os.mkdir(dirname)\n",
    "            \n",
    "        fig = climaviz.plotVS_timeaveraged_interest_for_all_cases(d3sets, diff_d3sets, \n",
    "                               interest = interest, xscale = 'linear',\n",
    "                               bot_xlabels_rotate = 10., \n",
    "                               top_xlabels_rotate = 20.,\n",
    "                               linestyles = linestyles_by_case())\n",
    "        fig.savefig(dirname + '/plot_{}_timeaverage.{}'.format('_'.join([interest, file_label]), fmt))\n",
    "        plt.close()"
   ]
  },
  {
   "cell_type": "code",
   "execution_count": 217,
   "metadata": {
    "collapsed": false
   },
   "outputs": [],
   "source": [
    "def write_d3variable_html_page(interest = 'CLOUD', \n",
    "                               dir_label = 'example_dir_label', \n",
    "                               file_label = 'example_file_label'):\n",
    "    figdir = 'figs_' + dir_label\n",
    "    with open(os.path.join(figdir, '_'.join([interest, file_label]) + '.html'), \n",
    "              mode = 'w', encoding = 'utf-8') as f:\n",
    "        f.write('''\n",
    "                <img src=\"contourf_{suffix}.png\" height=\"450\">\n",
    "                <img src=\"contourf_{suffix}_diff.png\" height=\"450\">\n",
    "                <br>\n",
    "                <img src=\"plot_{suffix}_timeaverage.png\" height=\"500\">\n",
    "        '''.format(figdir = figdir, suffix = '_'.join([interest, file_label])))\n",
    "\n",
    "        \n",
    "def write_d3variable_links_html(interests = ['T'],\n",
    "                               dir_label = 'example_dir_label', \n",
    "                               file_label = 'example_file_label'):\n",
    "    hyperlinks = ['<a href=\"figs_{dir_label}/{interest}_{file_label}.html\">{interest}: {longname}</a>'\\\n",
    "                 .format(dir_label = dir_label, file_label = file_label,\n",
    "                 interest = interest, \n",
    "                 longname = d3sets[random.choice(list(d3sets.keys()))][interest].attrs['long_name']) \\\n",
    "                 for interest in interests]\n",
    "    return '<br>'.join(hyperlinks)\n",
    "    "
   ]
  },
  {
   "cell_type": "code",
   "execution_count": 218,
   "metadata": {
    "collapsed": false
   },
   "outputs": [],
   "source": [
    "# prepare data and differences\n",
    "d3sets, diff_d3sets = prep_data(cases, ilev, lev, datetimes) "
   ]
  },
  {
   "cell_type": "code",
   "execution_count": 219,
   "metadata": {
    "collapsed": false,
    "scrolled": true
   },
   "outputs": [],
   "source": [
    "# plot and write figures to disk\n",
    "interests = get_d3interests() \n",
    "\n",
    "writefig_contourfs(d3sets, diff_d3sets, interests, \n",
    "                   dir_label = iopname, file_label = '',\n",
    "                  fmt = 'png')\n",
    "\n",
    "writefig_timeaveraged_VSplots(d3sets, diff_d3sets, interests, \n",
    "                              dir_label = iopname, file_label = '',\n",
    "                              fmt = 'png')\n",
    "# generate HTML page for each interest\n",
    "for interest in get_d3interests():\n",
    "    write_d3variable_html_page(interest = interest, dir_label = iopname, file_label = '')\n"
   ]
  },
  {
   "cell_type": "code",
   "execution_count": 220,
   "metadata": {
    "collapsed": true
   },
   "outputs": [],
   "source": [
    "############### Variables of dimensions (lon, lat, time) ##########################\n",
    "###################################################################################"
   ]
  },
  {
   "cell_type": "code",
   "execution_count": 221,
   "metadata": {
    "collapsed": true
   },
   "outputs": [],
   "source": [
    "def get_d2interests():\n",
    "    interests = ['FSNT', 'FSNS', 'FLNT', 'FLNS',\n",
    "                 'CLDLOW', 'CLDMED', 'CLDHGH', 'CLDTOT',\n",
    "                 'TS', 'TREFHT', 'TROP_T', 'TROP_Z', 'TMQ', 'TGCLDIWP', 'TGCLDLWP', \n",
    "                 'PRECT', 'PRECL', 'PRECC',\n",
    "                 'LHFLX', 'SHFLX',\n",
    "                'SOLIN']\n",
    "    return interests"
   ]
  },
  {
   "cell_type": "code",
   "execution_count": 222,
   "metadata": {
    "collapsed": false,
    "scrolled": false
   },
   "outputs": [],
   "source": [
    "def prep_data():\n",
    "\n",
    "    interests = get_d2interests()\n",
    "\n",
    "    datasets = {}\n",
    "    \n",
    "    for casename, ds in cases.items():\n",
    "        datasets[casename] = ds[interests].copy(deep = True)\n",
    "        datasets[casename].attrs['case_name'] = casename\n",
    "        \n",
    "    for casename, ds in datasets.items():\n",
    "        ds.coords['time'] = ('time', datetimes, {'units': 'datetime',\n",
    "                                                'long_name': 'time'})\n",
    "        \n",
    "        for k in ['PRECC', 'PRECL', 'PRECT']:\n",
    "            if k in ds:\n",
    "                ds[k] *= 1e3 * 86400\n",
    "                ds[k].attrs['units'] = 'mm/day'\n",
    "        \n",
    "    return datasets\n",
    "\n",
    "d2sets = prep_data()"
   ]
  },
  {
   "cell_type": "code",
   "execution_count": 223,
   "metadata": {
    "collapsed": false
   },
   "outputs": [],
   "source": [
    "#### Compute difference between all cases for all interested variables\n",
    "def prep_differences(datasets):\n",
    "    diff_strs = get_cases_difference()\n",
    "\n",
    "    return {x + ' - ' + y: datasets[x] - datasets[y] \n",
    "            for x, y in diff_strs}    \n",
    "\n",
    "diff_d2sets = prep_differences(d2sets)"
   ]
  },
  {
   "cell_type": "code",
   "execution_count": 224,
   "metadata": {
    "collapsed": false
   },
   "outputs": [],
   "source": [
    "#### Change/correct some of the attributes\n",
    "## Some of this is needed for labelling plots easily\n",
    "\n",
    "def prep_attributes(datasets, diff_datasets):\n",
    "    \n",
    "    interests = get_d2interests()\n",
    "    \n",
    "    for ds_name, ds in diff_datasets.items():\n",
    "        ds.attrs['case_name'] = ds_name\n",
    "        for interest in interests:\n",
    "            ds[interest].attrs = dict(\n",
    "                datasets[random.choice(list(datasets.keys()))][interest].attrs)\n",
    "            ds[interest].attrs['case_name'] = ds_name\n",
    "        \n",
    "    for ds_name, ds in datasets.items():\n",
    "        for interest in interests:\n",
    "            ds[interest].attrs['case_name'] = ds_name\n",
    "            \n",
    "    return datasets, diff_datasets\n",
    "\n",
    "d2sets, diff_d2sets = prep_attributes(d2sets, diff_d2sets)"
   ]
  },
  {
   "cell_type": "code",
   "execution_count": 225,
   "metadata": {
    "collapsed": false
   },
   "outputs": [],
   "source": [
    "# for writing figures to disk\n",
    "def writefig_plotVS_timeseries(dsets, diff_dsets, interests,\n",
    "                              sitename, fmt = 'png'):\n",
    "    for interest in interests:\n",
    "        fig = climaviz.plotVS_interest_for_all_cases(dsets, diff_dsets, interest = interest,\n",
    "                                                    linestyles = linestyles_by_case())\n",
    "        \n",
    "        dirname = 'figs_{}'.format(sitename)\n",
    "        if dirname not in glob.glob(dirname):\n",
    "            os.mkdir(dirname)\n",
    "            \n",
    "        fig.savefig(dirname + '/plotVSts_{}.'.format(interest) + fmt)\n",
    "        plt.close()\n",
    "\n",
    "def write_d2variable_html_page(iopname = 'mpace', interest = 'FLNS'):\n",
    "    figdir = 'figs_{iopname}'.format(iopname = iopname)\n",
    "    with open(os.path.join(figdir, '{iopname}_{interest}.html'\\\n",
    "                           .format(iopname = iopname,\n",
    "                                   interest = interest)),\n",
    "             mode = 'w', encoding = 'utf-8') as f:\n",
    "        f.write('''\n",
    "        <img src=\"plotVSts_{interest}.png\" width=700>\n",
    "        '''.format(interest = interest))\n",
    "        \n",
    "def write_d2variables_html(iopname = 'mpace', interests = ['FLNS']):\n",
    "    hyperlinks = ['<a href=\"figs_{iopname}/{iopname}_{interest}.html\">{interest}: {longname}</a>'\\\n",
    "                 .format(iopname = iopname, interest = interest,\n",
    "                        longname = d2sets[random.choice(list(d2sets.keys()))]\\\n",
    "                         [interest].attrs['long_name'])\\\n",
    "                 for interest in interests]\n",
    "    return '<br>'.join(hyperlinks)\n"
   ]
  },
  {
   "cell_type": "code",
   "execution_count": 226,
   "metadata": {
    "collapsed": false,
    "scrolled": false
   },
   "outputs": [],
   "source": [
    "# plot and write figures to disk\n",
    "\n",
    "writefig_plotVS_timeseries(d2sets, diff_d2sets, get_d2interests(),\n",
    "                          iopname, fmt = 'png')  \n",
    "\n",
    "# generate HTML page for each interest\n",
    "for interest in get_d2interests():\n",
    "    write_d2variable_html_page(iopname = iopname, interest = interest)\n"
   ]
  },
  {
   "cell_type": "markdown",
   "metadata": {},
   "source": [
    "# Variables of dimensions (time, ilev, lon, lat)"
   ]
  },
  {
   "cell_type": "code",
   "execution_count": 227,
   "metadata": {
    "collapsed": false,
    "scrolled": false
   },
   "outputs": [
    {
     "data": {
      "text/html": [
       "<a href=\"figs_mpace_LW_rrtmgMcICA_rrtmgMaxRand_SW_rrtmgMcICA_rrtmgMaxRand/AQSNOW_.html\">AQSNOW: Average snow mixing ratio</a><br><a href=\"figs_mpace_LW_rrtmgMcICA_rrtmgMaxRand_SW_rrtmgMcICA_rrtmgMaxRand/AREI_.html\">AREI: Average ice effective radius</a><br><a href=\"figs_mpace_LW_rrtmgMcICA_rrtmgMaxRand_SW_rrtmgMcICA_rrtmgMaxRand/AREL_.html\">AREL: Average droplet effective radius</a><br><a href=\"figs_mpace_LW_rrtmgMcICA_rrtmgMaxRand_SW_rrtmgMcICA_rrtmgMaxRand/AWNC_.html\">AWNC: Average cloud water number conc</a><br><a href=\"figs_mpace_LW_rrtmgMcICA_rrtmgMaxRand_SW_rrtmgMcICA_rrtmgMaxRand/AWNI_.html\">AWNI: Average cloud ice number conc</a><br><a href=\"figs_mpace_LW_rrtmgMcICA_rrtmgMaxRand_SW_rrtmgMcICA_rrtmgMaxRand/CLDICE_.html\">CLDICE: Grid box averaged cloud ice amount</a><br><a href=\"figs_mpace_LW_rrtmgMcICA_rrtmgMaxRand_SW_rrtmgMcICA_rrtmgMaxRand/CLDLIQ_.html\">CLDLIQ: Grid box averaged cloud liquid amount</a><br><a href=\"figs_mpace_LW_rrtmgMcICA_rrtmgMaxRand_SW_rrtmgMcICA_rrtmgMaxRand/CLOUD_.html\">CLOUD: Cloud fraction</a><br><a href=\"figs_mpace_LW_rrtmgMcICA_rrtmgMaxRand_SW_rrtmgMcICA_rrtmgMaxRand/DCQ_.html\">DCQ: Q tendency due to moist processes</a><br><a href=\"figs_mpace_LW_rrtmgMcICA_rrtmgMaxRand_SW_rrtmgMcICA_rrtmgMaxRand/DTCOND_.html\">DTCOND: T tendency - moist processes</a><br><a href=\"figs_mpace_LW_rrtmgMcICA_rrtmgMaxRand_SW_rrtmgMcICA_rrtmgMaxRand/FDL_.html\">FDL: Longwave downward flux</a><br><a href=\"figs_mpace_LW_rrtmgMcICA_rrtmgMaxRand_SW_rrtmgMcICA_rrtmgMaxRand/FDLC_.html\">FDLC: Longwave clear-sky downward flux</a><br><a href=\"figs_mpace_LW_rrtmgMcICA_rrtmgMaxRand_SW_rrtmgMcICA_rrtmgMaxRand/FDS_.html\">FDS: Shortwave downward flux</a><br><a href=\"figs_mpace_LW_rrtmgMcICA_rrtmgMaxRand_SW_rrtmgMcICA_rrtmgMaxRand/FDSC_.html\">FDSC: Shortwave clear-sky downward flux</a><br><a href=\"figs_mpace_LW_rrtmgMcICA_rrtmgMaxRand_SW_rrtmgMcICA_rrtmgMaxRand/FUL_.html\">FUL: Longwave upward flux</a><br><a href=\"figs_mpace_LW_rrtmgMcICA_rrtmgMaxRand_SW_rrtmgMcICA_rrtmgMaxRand/FULC_.html\">FULC: Longwave clear-sky upward flux</a><br><a href=\"figs_mpace_LW_rrtmgMcICA_rrtmgMaxRand_SW_rrtmgMcICA_rrtmgMaxRand/FUS_.html\">FUS: Shortwave upward flux</a><br><a href=\"figs_mpace_LW_rrtmgMcICA_rrtmgMaxRand_SW_rrtmgMcICA_rrtmgMaxRand/FUSC_.html\">FUSC: Shortwave clear-sky upward flux</a><br><a href=\"figs_mpace_LW_rrtmgMcICA_rrtmgMaxRand_SW_rrtmgMcICA_rrtmgMaxRand/ICIMR_.html\">ICIMR: Prognostic in-cloud ice mixing ratio</a><br><a href=\"figs_mpace_LW_rrtmgMcICA_rrtmgMaxRand_SW_rrtmgMcICA_rrtmgMaxRand/ICWMR_.html\">ICWMR: Prognostic in-cloud water mixing ratio</a><br><a href=\"figs_mpace_LW_rrtmgMcICA_rrtmgMaxRand_SW_rrtmgMcICA_rrtmgMaxRand/NUMICE_.html\">NUMICE: Grid box averaged cloud ice number</a><br><a href=\"figs_mpace_LW_rrtmgMcICA_rrtmgMaxRand_SW_rrtmgMcICA_rrtmgMaxRand/NUMLIQ_.html\">NUMLIQ: Grid box averaged cloud liquid number</a><br><a href=\"figs_mpace_LW_rrtmgMcICA_rrtmgMaxRand_SW_rrtmgMcICA_rrtmgMaxRand/Q_.html\">Q: Specific humidity</a><br><a href=\"figs_mpace_LW_rrtmgMcICA_rrtmgMaxRand_SW_rrtmgMcICA_rrtmgMaxRand/QRL_.html\">QRL: Longwave heating rate</a><br><a href=\"figs_mpace_LW_rrtmgMcICA_rrtmgMaxRand_SW_rrtmgMcICA_rrtmgMaxRand/QRS_.html\">QRS: Solar heating rate</a><br><a href=\"figs_mpace_LW_rrtmgMcICA_rrtmgMaxRand_SW_rrtmgMcICA_rrtmgMaxRand/RELHUM_.html\">RELHUM: Relative humidity</a><br><a href=\"figs_mpace_LW_rrtmgMcICA_rrtmgMaxRand_SW_rrtmgMcICA_rrtmgMaxRand/T_.html\">T: Temperature</a><br><a href=\"figs_mpace_LW_rrtmgMcICA_rrtmgMaxRand_SW_rrtmgMcICA_rrtmgMaxRand/TOT_CLD_VISTAU_.html\">TOT_CLD_VISTAU: Total gbx cloud extinction visible sw optical depth</a><br><a href=\"figs_mpace_LW_rrtmgMcICA_rrtmgMaxRand_SW_rrtmgMcICA_rrtmgMaxRand/net_FS_.html\">net_FS: net solar flux</a><br><a href=\"figs_mpace_LW_rrtmgMcICA_rrtmgMaxRand_SW_rrtmgMcICA_rrtmgMaxRand/net_FSC_.html\">net_FSC: net solar flux (clear-sky)</a>"
      ],
      "text/plain": [
       "<IPython.core.display.HTML object>"
      ]
     },
     "execution_count": 227,
     "metadata": {},
     "output_type": "execute_result"
    }
   ],
   "source": [
    "display.HTML(write_d3variable_links_html(interests = get_d3interests(), dir_label = iopname, file_label = ''))"
   ]
  },
  {
   "cell_type": "markdown",
   "metadata": {},
   "source": [
    "# Variables of dimensions (lon, lat, time)"
   ]
  },
  {
   "cell_type": "code",
   "execution_count": 228,
   "metadata": {
    "collapsed": false,
    "scrolled": false
   },
   "outputs": [
    {
     "data": {
      "text/html": [
       "<a href=\"figs_mpace_LW_rrtmgMcICA_rrtmgMaxRand_SW_rrtmgMcICA_rrtmgMaxRand/mpace_LW_rrtmgMcICA_rrtmgMaxRand_SW_rrtmgMcICA_rrtmgMaxRand_FSNT.html\">FSNT: Net solar flux at top of model</a><br><a href=\"figs_mpace_LW_rrtmgMcICA_rrtmgMaxRand_SW_rrtmgMcICA_rrtmgMaxRand/mpace_LW_rrtmgMcICA_rrtmgMaxRand_SW_rrtmgMcICA_rrtmgMaxRand_FSNS.html\">FSNS: Net solar flux at surface</a><br><a href=\"figs_mpace_LW_rrtmgMcICA_rrtmgMaxRand_SW_rrtmgMcICA_rrtmgMaxRand/mpace_LW_rrtmgMcICA_rrtmgMaxRand_SW_rrtmgMcICA_rrtmgMaxRand_FLNT.html\">FLNT: Net longwave flux at top of model</a><br><a href=\"figs_mpace_LW_rrtmgMcICA_rrtmgMaxRand_SW_rrtmgMcICA_rrtmgMaxRand/mpace_LW_rrtmgMcICA_rrtmgMaxRand_SW_rrtmgMcICA_rrtmgMaxRand_FLNS.html\">FLNS: Net longwave flux at surface</a><br><a href=\"figs_mpace_LW_rrtmgMcICA_rrtmgMaxRand_SW_rrtmgMcICA_rrtmgMaxRand/mpace_LW_rrtmgMcICA_rrtmgMaxRand_SW_rrtmgMcICA_rrtmgMaxRand_CLDLOW.html\">CLDLOW: Vertically-integrated low cloud</a><br><a href=\"figs_mpace_LW_rrtmgMcICA_rrtmgMaxRand_SW_rrtmgMcICA_rrtmgMaxRand/mpace_LW_rrtmgMcICA_rrtmgMaxRand_SW_rrtmgMcICA_rrtmgMaxRand_CLDMED.html\">CLDMED: Vertically-integrated mid-level cloud</a><br><a href=\"figs_mpace_LW_rrtmgMcICA_rrtmgMaxRand_SW_rrtmgMcICA_rrtmgMaxRand/mpace_LW_rrtmgMcICA_rrtmgMaxRand_SW_rrtmgMcICA_rrtmgMaxRand_CLDHGH.html\">CLDHGH: Vertically-integrated high cloud</a><br><a href=\"figs_mpace_LW_rrtmgMcICA_rrtmgMaxRand_SW_rrtmgMcICA_rrtmgMaxRand/mpace_LW_rrtmgMcICA_rrtmgMaxRand_SW_rrtmgMcICA_rrtmgMaxRand_CLDTOT.html\">CLDTOT: Vertically-integrated total cloud</a><br><a href=\"figs_mpace_LW_rrtmgMcICA_rrtmgMaxRand_SW_rrtmgMcICA_rrtmgMaxRand/mpace_LW_rrtmgMcICA_rrtmgMaxRand_SW_rrtmgMcICA_rrtmgMaxRand_TS.html\">TS: Surface temperature (radiative)</a><br><a href=\"figs_mpace_LW_rrtmgMcICA_rrtmgMaxRand_SW_rrtmgMcICA_rrtmgMaxRand/mpace_LW_rrtmgMcICA_rrtmgMaxRand_SW_rrtmgMcICA_rrtmgMaxRand_TREFHT.html\">TREFHT: Reference height temperature</a><br><a href=\"figs_mpace_LW_rrtmgMcICA_rrtmgMaxRand_SW_rrtmgMcICA_rrtmgMaxRand/mpace_LW_rrtmgMcICA_rrtmgMaxRand_SW_rrtmgMcICA_rrtmgMaxRand_TROP_T.html\">TROP_T: Tropopause Temperature</a><br><a href=\"figs_mpace_LW_rrtmgMcICA_rrtmgMaxRand_SW_rrtmgMcICA_rrtmgMaxRand/mpace_LW_rrtmgMcICA_rrtmgMaxRand_SW_rrtmgMcICA_rrtmgMaxRand_TROP_Z.html\">TROP_Z: Tropopause Height</a><br><a href=\"figs_mpace_LW_rrtmgMcICA_rrtmgMaxRand_SW_rrtmgMcICA_rrtmgMaxRand/mpace_LW_rrtmgMcICA_rrtmgMaxRand_SW_rrtmgMcICA_rrtmgMaxRand_TMQ.html\">TMQ: Total (vertically integrated) precipitable water</a><br><a href=\"figs_mpace_LW_rrtmgMcICA_rrtmgMaxRand_SW_rrtmgMcICA_rrtmgMaxRand/mpace_LW_rrtmgMcICA_rrtmgMaxRand_SW_rrtmgMcICA_rrtmgMaxRand_TGCLDIWP.html\">TGCLDIWP: Total grid-box cloud ice water path</a><br><a href=\"figs_mpace_LW_rrtmgMcICA_rrtmgMaxRand_SW_rrtmgMcICA_rrtmgMaxRand/mpace_LW_rrtmgMcICA_rrtmgMaxRand_SW_rrtmgMcICA_rrtmgMaxRand_TGCLDLWP.html\">TGCLDLWP: Total grid-box cloud liquid water path</a><br><a href=\"figs_mpace_LW_rrtmgMcICA_rrtmgMaxRand_SW_rrtmgMcICA_rrtmgMaxRand/mpace_LW_rrtmgMcICA_rrtmgMaxRand_SW_rrtmgMcICA_rrtmgMaxRand_PRECT.html\">PRECT: Total (convective and large-scale) precipitation rate (liq + ice)</a><br><a href=\"figs_mpace_LW_rrtmgMcICA_rrtmgMaxRand_SW_rrtmgMcICA_rrtmgMaxRand/mpace_LW_rrtmgMcICA_rrtmgMaxRand_SW_rrtmgMcICA_rrtmgMaxRand_PRECL.html\">PRECL: Large-scale (stable) precipitation rate (liq + ice)</a><br><a href=\"figs_mpace_LW_rrtmgMcICA_rrtmgMaxRand_SW_rrtmgMcICA_rrtmgMaxRand/mpace_LW_rrtmgMcICA_rrtmgMaxRand_SW_rrtmgMcICA_rrtmgMaxRand_PRECC.html\">PRECC: Convective precipitation rate (liq + ice)</a><br><a href=\"figs_mpace_LW_rrtmgMcICA_rrtmgMaxRand_SW_rrtmgMcICA_rrtmgMaxRand/mpace_LW_rrtmgMcICA_rrtmgMaxRand_SW_rrtmgMcICA_rrtmgMaxRand_LHFLX.html\">LHFLX: Surface latent heat flux</a><br><a href=\"figs_mpace_LW_rrtmgMcICA_rrtmgMaxRand_SW_rrtmgMcICA_rrtmgMaxRand/mpace_LW_rrtmgMcICA_rrtmgMaxRand_SW_rrtmgMcICA_rrtmgMaxRand_SHFLX.html\">SHFLX: Surface sensible heat flux</a><br><a href=\"figs_mpace_LW_rrtmgMcICA_rrtmgMaxRand_SW_rrtmgMcICA_rrtmgMaxRand/mpace_LW_rrtmgMcICA_rrtmgMaxRand_SW_rrtmgMcICA_rrtmgMaxRand_SOLIN.html\">SOLIN: Solar insolation</a>"
      ],
      "text/plain": [
       "<IPython.core.display.HTML object>"
      ]
     },
     "execution_count": 228,
     "metadata": {},
     "output_type": "execute_result"
    }
   ],
   "source": [
    "display.HTML(write_d2variables_html(iopname = iopname, interests = get_d2interests()))"
   ]
  },
  {
   "cell_type": "code",
   "execution_count": 229,
   "metadata": {
    "collapsed": false,
    "scrolled": false
   },
   "outputs": [],
   "source": [
    "def slice_in_time(cases, time = slice(None)):\n",
    "    return {casename: ds.sel(time = time) for casename, ds in cases.items()}\n",
    "\n"
   ]
  },
  {
   "cell_type": "code",
   "execution_count": 233,
   "metadata": {
    "collapsed": false
   },
   "outputs": [],
   "source": [
    "# plot and write figures to disk\n",
    "#interests = get_d3interests()\n",
    "\n",
    "#writefig_contourfs(d3sets_subtime, diff_d3sets_subtime, interests, \n",
    "#                   dir_label = iopname, file_label = which_timeslice,\n",
    "#                  fmt = 'png')\n",
    "\n",
    "#writefig_timeaveraged_VSplots(d3sets_subtime, diff_d3sets_subtime, interests, \n",
    "#                              dir_label = iopname, file_label = which_timeslice,\n",
    "#                              fmt = 'png')\n",
    "#pass"
   ]
  },
  {
   "cell_type": "code",
   "execution_count": 234,
   "metadata": {
    "collapsed": false
   },
   "outputs": [],
   "source": [
    "# generate HTML page for each interest\n",
    "#for interest in get_d3interests():\n",
    "#    write_d3variable_html_page(interest = interest, dir_label = iopname, file_label = which_timeslice)\n",
    "\n",
    "\n",
    "#display.HTML((write_d3variable_links_html(interests = interests, dir_label = iopname, file_label = which_timeslice)))"
   ]
  },
  {
   "cell_type": "code",
   "execution_count": 122,
   "metadata": {
    "collapsed": false
   },
   "outputs": [
    {
     "data": {
      "text/html": [
       "<script>\n",
       "code_show=true; \n",
       "function code_toggle() {\n",
       " if (code_show){\n",
       " $('div.input').hide();\n",
       " } else {\n",
       " $('div.input').show();\n",
       " }\n",
       " code_show = !code_show\n",
       "} \n",
       "$( document ).ready(code_toggle);\n",
       "</script>\n",
       "<form action=\"javascript:code_toggle()\"><input type=\"submit\" value=\"Click here to toggle on/off the raw code.\"></form>"
      ],
      "text/plain": [
       "<IPython.core.display.HTML object>"
      ]
     },
     "execution_count": 122,
     "metadata": {},
     "output_type": "execute_result"
    }
   ],
   "source": [
    "display.HTML('''<script>\n",
    "code_show=true; \n",
    "function code_toggle() {\n",
    " if (code_show){\n",
    " $('div.input').hide();\n",
    " } else {\n",
    " $('div.input').show();\n",
    " }\n",
    " code_show = !code_show\n",
    "} \n",
    "$( document ).ready(code_toggle);\n",
    "</script>\n",
    "<form action=\"javascript:code_toggle()\"><input type=\"submit\" value=\"Click here to toggle on/off the raw code.\"></form>''')"
   ]
  }
 ],
 "metadata": {
  "kernelspec": {
   "display_name": "Python 3",
   "language": "python",
   "name": "python3"
  },
  "language_info": {
   "codemirror_mode": {
    "name": "ipython",
    "version": 3
   },
   "file_extension": ".py",
   "mimetype": "text/x-python",
   "name": "python",
   "nbconvert_exporter": "python",
   "pygments_lexer": "ipython3",
   "version": "3.4.3"
  }
 },
 "nbformat": 4,
 "nbformat_minor": 0
}
